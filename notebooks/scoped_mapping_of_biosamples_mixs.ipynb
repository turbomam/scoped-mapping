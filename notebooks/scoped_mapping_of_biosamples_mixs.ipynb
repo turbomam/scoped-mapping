{
 "cells": [
  {
   "cell_type": "markdown",
   "id": "621bbcd9",
   "metadata": {},
   "source": [
    "be really clear about what's going into repaired tables: \n",
    "- repaired\n",
    "- already OK\n",
    "- unrepairable\n",
    "\n",
    "Only ~ 215k repaired `env_package`s ?!\n",
    "- yeah, there just aren't that many annotated in the biosample metadata\n",
    "\n",
    "\n",
    "- some of this code should probably be moved back into the package\n",
    "    - splitting and repiping \n",
    "\n",
    "- read in previous SSSOMs and don't re-map? or at least double check?\n",
    "\n",
    "- don't forget to consult \"model\" field in biosample table too\n",
    "    - for scoping, in addition to en_package and taxonomy_id?\n",
    "\n",
    "- what to do about hits against obsolete classes... does OLS provide a mechanism to avoid?\n",
    "- be careful with GAZ matches\n",
    "- avoid IDless, OMIT, NCIT, MICRO, BTO\n",
    "\n",
    "- is it worth trimming and concatenating \"x1\", \"x2\", \"x3\", where x is a mappable term? numbers may be low.\n",
    "    - example = XXX\n",
    "\n",
    "- reconcile \"x biome\" and \"x\" mappings\n",
    "- take note of non-local salvage hits\n",
    "    - like XXX\n",
    "    - small/large (freshwater) lake?\n",
    "    - include native labels in the review frame, in addition to local?\n",
    "    - should use rdftab, not additional OLS calls\n",
    "    \n",
    "\n",
    "- switch from hard-coded `env_package_overrides` to something like SSSOM?\n",
    "- mappings can come from merging strategies, first pass OLS or salvage OLS\n",
    "- reflect those methods in SSSOM\n",
    "- add string distance/confidence\n",
    "    - multiple columns for multiple methods?\n",
    "\n",
    "review these SSSOM columns\n",
    "\n",
    "```\n",
    "    \"subject_category\": [biosample_col_to_map] * results_rows,\n",
    "    \"predicate_id\": [\"skos:relatedMatch\"] * results_rows,\n",
    "    \"match_type\": [\"Lexical\"] * results_rows,\n",
    "    \"creator_id\": [\"https://github.com/turbomam/scoped-mapping\"] * results_rows,\n",
    "    #     \"mapping_tool\": [\"https://www.ebi.ac.uk/ols/docs/api\"] * results_rows,\n",
    "    #     \"confidence\": 1 - frame_for_sssom[\"string_dist\"],\n",
    "```\n",
    "\n",
    "- are there samples with a host_taxid and a (sample) taxonomy_id from \"unclassified\"?\n",
    "- start at uncultured or metagenome taxonomy_id?\n",
    "\n",
    "- what scoping on or mapping of  \"gold\" or \"path\"? WON'T FIND THAT IN NCBI BIOSAMPLE\n",
    "\n",
    "\n",
    "What to save where? \n",
    "- new columns in biosample sqlite? \n",
    "- delimited file dumps\n",
    "- move content from original column and insert the new values into that original column?\n",
    "- pandas clipboard integration handy for review step\n"
   ]
  },
  {
   "cell_type": "code",
   "execution_count": null,
   "id": "fac2962f",
   "metadata": {},
   "outputs": [],
   "source": [
    "import pandas as pd\n",
    "import re\n",
    "import requests as requests\n",
    "import sqlite3\n",
    "import string\n",
    "import urllib\n",
    "import yaml\n",
    "\n",
    "import scoped_mapping\n",
    "\n",
    "from datetime import datetime\n",
    "from pkg_resources import get_distribution, DistributionNotFound\n",
    "from strsimpy.cosine import Cosine\n",
    "from xml.etree import ElementTree\n",
    "from tdda import rexpy"
   ]
  },
  {
   "cell_type": "markdown",
   "id": "3300da64",
   "metadata": {},
   "source": [
    "# Settings required from user:\n",
    "\n",
    "See repo README for notes on setting up SQLite databases of OBO ontologies with semantic-sql, relation-graph and rdftab"
   ]
  },
  {
   "cell_type": "markdown",
   "id": "87e3b6f1",
   "metadata": {},
   "source": [
    "### How should the mapping effort be scoped?\n",
    "Additional taxonomic filters may be applied below\n",
    "- soil\n",
    "- sediment\n",
    "- plant-associated"
   ]
  },
  {
   "cell_type": "code",
   "execution_count": null,
   "id": "ec160085",
   "metadata": {},
   "outputs": [],
   "source": [
    "scoping_col = \"env_package_normalization.EnvPackage\"\n",
    "scoping_value = \"sediment\""
   ]
  },
  {
   "cell_type": "markdown",
   "id": "b2d7f8bf",
   "metadata": {},
   "source": [
    "### What Biosample field should be mapped to ontology classes?\n",
    "- env_broad_scale\n",
    "- env_local_scale\n",
    "- env_medium"
   ]
  },
  {
   "cell_type": "code",
   "execution_count": null,
   "id": "2b79c519",
   "metadata": {},
   "outputs": [],
   "source": [
    "biosample_col_to_map = \"env_medium\""
   ]
  },
  {
   "cell_type": "code",
   "execution_count": null,
   "id": "c138145d",
   "metadata": {},
   "outputs": [],
   "source": [
    "# where do we require a single ontology and where can we use multiple?\n",
    "primary_onto_prefix = \"ENVO\"\n",
    "# 'gaz',\n",
    "# need to rank results\n",
    "# additional_preferred_ontologies = [\"ncbitaxon\", \"obi\", \"pato\", \"efo\"]\n",
    "additional_preferred_ontologies = [\"ncbitaxon\", \"po\"]"
   ]
  },
  {
   "cell_type": "code",
   "execution_count": null,
   "id": "5684af0c",
   "metadata": {},
   "outputs": [],
   "source": [
    "# from https://www.ncbi.nlm.nih.gov/biosample/docs/packages/?format=xml\n",
    "# see also https://www.ncbi.nlm.nih.gov/biosample/docs/packages/\n",
    "biosample_packages_file = \"../target/biosample_packages.xml\"\n",
    "\n",
    "# from ftp://ftp.ncbi.nlm.nih.gov//biosample/biosample_set.xml.gz\n",
    "# via harmonized_table.db.gz\n",
    "# in https://drive.google.com/drive/u/0/folders/1eL0v0stoduahjDpoDJIk3z2pJBAU4b2Y\n",
    "biosample_sqlite_file = \"../target/harmonized_table.db\"\n",
    "ncbitaxon_sqlite_file = \"../semantic-sql/db/ncbitaxon.db\"\n",
    "\n",
    "chars_to_whiteout = \"._-\"\n",
    "my_query_fields = \"\"  # OLS weighted default\n",
    "my_row_req = 3\n",
    "my_string_dist_arg = 2\n",
    "my_max_string_dist = 0.1\n",
    "salvage_max_dist = 0.2"
   ]
  },
  {
   "cell_type": "markdown",
   "id": "62a568c1",
   "metadata": {},
   "source": [
    "### Settings for manual review of OLS search-based results\n",
    "Results based on merging Biosample annotations to ontology classes by label or embedded ID are not exported for review at this time"
   ]
  },
  {
   "cell_type": "code",
   "execution_count": null,
   "id": "20cdb474",
   "metadata": {},
   "outputs": [],
   "source": [
    "# ols_review_file = \"../local/ols_review.tsv\"\n",
    "ols_review_seperator = \"\\t\"\n",
    "\n",
    "strategy_col = \"strategy\"\n",
    "include_col = \"include\"\n",
    "\n",
    "first_pass_include_val = True\n",
    "# first_pass_strategy_val = \"env_braod_scale vs envo and gaz @ 0.1\"\n",
    "salvage_include_val = False\n",
    "# salvage_strategy_val    = \"env_braod_scale vs all of ols @ 0.2\""
   ]
  },
  {
   "cell_type": "markdown",
   "id": "c7edfbe0",
   "metadata": {},
   "source": [
    "### Settings for SSSOM output"
   ]
  },
  {
   "cell_type": "code",
   "execution_count": null,
   "id": "9d71fa5e",
   "metadata": {},
   "outputs": [],
   "source": [
    "sssom_subject_prefix = biosample_col_to_map + \"_\" + scoping_col + \"_\" + scoping_value\n",
    "sssom_file = \"../\" + sssom_subject_prefix + \"_SSSOM.tsv\""
   ]
  },
  {
   "cell_type": "code",
   "execution_count": null,
   "id": "c8336b96",
   "metadata": {},
   "outputs": [],
   "source": [
    "# per_biosample_mapping_results_file = \"per_biosample_scoped_mapping_results.tsv\""
   ]
  },
  {
   "cell_type": "markdown",
   "id": "f21778e4",
   "metadata": {},
   "source": [
    "----"
   ]
  },
  {
   "cell_type": "code",
   "execution_count": null,
   "id": "c4494ed1",
   "metadata": {},
   "outputs": [],
   "source": [
    "biosample_cnx = sqlite3.connect(biosample_sqlite_file)\n",
    "ncbitaxon_cnx = sqlite3.connect(ncbitaxon_sqlite_file)\n",
    "primary_ontology_sqlite_file = (\n",
    "    \"../semantic-sql/db/\" + primary_onto_prefix.lower() + \".db\"\n",
    ")\n",
    "primary_ontology_cnx = sqlite3.connect(primary_ontology_sqlite_file)\n",
    "additional_preferred_ontologies.insert(0, primary_onto_prefix.lower())\n",
    "additional_preferred_ontologies_str = \",\".join(additional_preferred_ontologies)"
   ]
  },
  {
   "cell_type": "code",
   "execution_count": null,
   "id": "48241248",
   "metadata": {},
   "outputs": [],
   "source": [
    "q = \"select * from id_patterns\"\n",
    "[id_patterns_frame, query_duration] = scoped_mapping.timed_query(q, biosample_cnx)\n",
    "id_patterns_frame"
   ]
  },
  {
   "cell_type": "code",
   "execution_count": null,
   "id": "6cea64bb",
   "metadata": {},
   "outputs": [],
   "source": [
    "id_patterns = dict(zip(id_patterns_frame.ontology, id_patterns_frame.id_pattern))\n",
    "# id_patterns"
   ]
  },
  {
   "cell_type": "markdown",
   "id": "db3fd267",
   "metadata": {},
   "source": [
    "- env_package = env_package annotation from NCBI Biosample file XXX\n",
    "- count = number of biosamples using that env_package annotation\n",
    "- lhs = checklist info\n",
    "- rhs = potential package info\n",
    "- extract = potential OBO ID from rhs column (currently harcoded and only looking for ENVO IDs)\n",
    "- remaining_string = rhs/string, with potential OBO IDs removed\n",
    "- remaining_tidied = remaining_string with case, whitespace and punctuation normailzastion\n",
    "- rt_override = some remaining_tidied values can be replaced according to env_package_overrides\n",
    "- EnvPackage = corresponding de-normalized value from package_dictionary\n",
    "- is_canonical = false when EnvPackage is NaN"
   ]
  },
  {
   "cell_type": "code",
   "execution_count": null,
   "id": "3766cbe7",
   "metadata": {},
   "outputs": [],
   "source": [
    "q = \"select * from env_package_normalization\"\n",
    "[env_package_normalization, query_duration] = scoped_mapping.timed_query(\n",
    "    q, biosample_cnx\n",
    ")\n",
    "\n",
    "# env_package_normalization"
   ]
  },
  {
   "cell_type": "markdown",
   "id": "b2363d41",
   "metadata": {},
   "source": [
    "## Get a table of MIxS annotations to be mapped to ontology classes.\n",
    "\n",
    "Explicitly scope based on normalized package data. These values were set at the top of this notebook.\n"
   ]
  },
  {
   "cell_type": "code",
   "execution_count": null,
   "id": "91dcca09",
   "metadata": {},
   "outputs": [],
   "source": [
    "print(biosample_col_to_map)\n",
    "print(scoping_col)\n",
    "print(scoping_value)"
   ]
  },
  {
   "cell_type": "markdown",
   "id": "80727cfd",
   "metadata": {},
   "source": [
    "**In this case, the scoping includes an inner join requirement for 'unclassified entities'**"
   ]
  },
  {
   "cell_type": "code",
   "execution_count": null,
   "id": "7e777c8a",
   "metadata": {
    "scrolled": true
   },
   "outputs": [],
   "source": [
    "q = (\n",
    "    \"select \"\n",
    "    + biosample_col_to_map\n",
    "    + \"\"\", count(*) as count\n",
    "from\n",
    "    biosample b\n",
    "join env_package_normalization on\n",
    "    b.env_package = env_package_normalization.env_package\n",
    "inner join biosample_sample_taxon_summary stic on\n",
    "    b.taxonomy_id = stic.biosample_taxid\n",
    "where \"\"\"\n",
    "    + scoping_col\n",
    "    + \" = '\"\n",
    "    + scoping_value\n",
    "    + \"' group by \"\n",
    "    + biosample_col_to_map\n",
    "    + \"\"\"\n",
    "order by\n",
    "    count(*) desc\"\"\"\n",
    ")\n",
    "\n",
    "[mapping_candidates, query_duration] = scoped_mapping.timed_query(q, biosample_cnx)\n",
    "\n",
    "mapping_candidates"
   ]
  },
  {
   "cell_type": "markdown",
   "id": "86f43bb4",
   "metadata": {},
   "source": [
    "----\n",
    "\n",
    "## The Biosample format allows for pipe-delimited environmental package lists. \n",
    "\n",
    "Separate those out into their components.\n",
    "\n",
    "----\n"
   ]
  },
  {
   "cell_type": "code",
   "execution_count": null,
   "id": "45e1859f",
   "metadata": {
    "scrolled": true
   },
   "outputs": [],
   "source": [
    "multi_frames = []\n",
    "for row in mapping_candidates.itertuples(index=True, name=\"PandaZ\"):\n",
    "    split_check = row[1]\n",
    "    if split_check is None:\n",
    "        split_check = \"\"\n",
    "    splitted = pd.Series(split_check.split(\"|\"))\n",
    "    splitted_count = len(splitted)\n",
    "    repeated = [split_check] * splitted_count\n",
    "    repeated = pd.Series(repeated)\n",
    "    as_frame = pd.DataFrame(dict(repeated=repeated, splitted=splitted)).reset_index()\n",
    "    seq_list = list(range(1, splitted_count + 1))\n",
    "    as_frame[\"part_count\"] = splitted_count\n",
    "    as_frame[\"seq\"] = seq_list\n",
    "    multi_frames.append(as_frame)\n",
    "concat_frame = pd.concat(multi_frames)\n",
    "concat_frame = concat_frame[[\"repeated\", \"splitted\", \"part_count\", \"seq\"]]\n",
    "concat_frame"
   ]
  },
  {
   "cell_type": "code",
   "execution_count": null,
   "id": "c67a272e",
   "metadata": {},
   "outputs": [],
   "source": [
    "mapping_candidates = mapping_candidates.merge(\n",
    "    concat_frame, left_on=biosample_col_to_map, right_on=\"repeated\", how=\"left\"\n",
    ")\n",
    "\n",
    "# mapping_candidates"
   ]
  },
  {
   "cell_type": "markdown",
   "id": "3af421ac",
   "metadata": {},
   "source": [
    "## Normalize a few different ways `OBO` IDs have been entered\n",
    "In the Biosample metadata"
   ]
  },
  {
   "cell_type": "code",
   "execution_count": null,
   "id": "ed3a89fd",
   "metadata": {},
   "outputs": [],
   "source": [
    "# # this helps by standardizing what could be an ID\n",
    "# but if the RHS is text, then envo should just be removed\n",
    "mapping_candidates[\"term_tidy\"] = mapping_candidates.splitted.str.replace(\n",
    "    primary_onto_prefix.lower() + \"[:_ ]\",\n",
    "    primary_onto_prefix + \":\",\n",
    "    regex=True,\n",
    "    case=False,\n",
    ")\n",
    "\n",
    "# mapping_candidates"
   ]
  },
  {
   "cell_type": "markdown",
   "id": "3cc22a1a",
   "metadata": {},
   "source": [
    "# Now try to extract ontology terms that are already present"
   ]
  },
  {
   "cell_type": "code",
   "execution_count": null,
   "id": "e423fcb9",
   "metadata": {},
   "outputs": [],
   "source": [
    "candidate_series_decomposition = scoped_mapping.decompose_series(\n",
    "    mapping_candidates[\"term_tidy\"], id_patterns[primary_onto_prefix]\n",
    ")\n",
    "\n",
    "# candidate_series_decomposition\n",
    "\n",
    "mapping_candidates = pd.concat(\n",
    "    [mapping_candidates, candidate_series_decomposition], axis=1\n",
    ")\n",
    "\n",
    "mapping_candidates[\n",
    "    \"remaining_tidied\"\n",
    "] = mapping_candidates.remaining_tidied.str.replace(\n",
    "    primary_onto_prefix.lower() + \"[:_ ]\", \"\", regex=True, case=False\n",
    ")\n",
    "\n",
    "mapping_candidates"
   ]
  },
  {
   "cell_type": "markdown",
   "id": "ccd038ff",
   "metadata": {},
   "source": [
    "## Join the extracted IDs with their labels\n",
    "\n",
    "_Start by connecting to the rdftab database from which the terms and label-like annotations will be obtained?_"
   ]
  },
  {
   "cell_type": "markdown",
   "id": "db5d19a9",
   "metadata": {},
   "source": [
    "## extracting the labels"
   ]
  },
  {
   "cell_type": "code",
   "execution_count": null,
   "id": "3bcd7e47",
   "metadata": {},
   "outputs": [],
   "source": [
    "q = \"select stanza as subject, value from ids_labs_selected_ontolgies\"\n",
    "\n",
    "[onto_labels, query_duration] = scoped_mapping.timed_query(q, biosample_cnx)\n",
    "\n",
    "onto_labels"
   ]
  },
  {
   "cell_type": "markdown",
   "id": "840b922f",
   "metadata": {},
   "source": [
    "## and merging "
   ]
  },
  {
   "cell_type": "code",
   "execution_count": null,
   "id": "d82daf6c",
   "metadata": {},
   "outputs": [],
   "source": [
    "# mapping_candidates.columns"
   ]
  },
  {
   "cell_type": "code",
   "execution_count": null,
   "id": "8543ed0e",
   "metadata": {},
   "outputs": [],
   "source": [
    "mapping_candidates = mapping_candidates.merge(\n",
    "    onto_labels, left_on=\"extract\", right_on=\"subject\", how=\"left\"\n",
    ")\n",
    "mapping_candidates"
   ]
  },
  {
   "cell_type": "markdown",
   "id": "64b3baef",
   "metadata": {},
   "source": [
    "## Use cosine string distance to see if the labels match closely enough\n",
    "\n",
    "I.e. the labels claimed by the Biosample data set and the labels asserted in the ontology. if they're close enough, consider the assigned ID legit\n",
    "\n",
    "\n",
    "_How close is close enough?_"
   ]
  },
  {
   "cell_type": "code",
   "execution_count": null,
   "id": "abd0a035",
   "metadata": {},
   "outputs": [],
   "source": [
    "my_cosine_obj = Cosine(my_string_dist_arg)\n",
    "mapping_candidates[\"value\"] = mapping_candidates[\"value\"].fillna(\"\")\n",
    "mapping_candidates[\"remaining_tidied\"] = mapping_candidates[\"remaining_tidied\"].fillna(\n",
    "    \"\"\n",
    ")\n",
    "mapping_candidates[\"cosine\"] = mapping_candidates.apply(\n",
    "    lambda my_row: my_cosine_obj.distance(\n",
    "        my_row[\"remaining_tidied\"].lower(), my_row[\"value\"].lower()\n",
    "    ),\n",
    "    axis=1,\n",
    ")\n",
    "mapping_candidates"
   ]
  },
  {
   "cell_type": "markdown",
   "id": "f2358a89",
   "metadata": {},
   "source": [
    "**Previously, we did a reality check on the claimed IDs and labels. If a label is claimed without any ID, that could still be a path to an ontology term.**\n",
    "\n",
    "We'll be doing some merging, so make sure column names are meaningful and unique\n"
   ]
  },
  {
   "cell_type": "code",
   "execution_count": null,
   "id": "092aced0",
   "metadata": {},
   "outputs": [],
   "source": [
    "mapping_candidates.columns = [\n",
    "    biosample_col_to_map,\n",
    "    \"count\",\n",
    "    \"repeated\",\n",
    "    \"splitted\",\n",
    "    \"part_count\",\n",
    "    \"seq\",\n",
    "    \"term_tidy\",\n",
    "    \"string\",\n",
    "    \"extract\",\n",
    "    \"remaining_string\",\n",
    "    \"remaining_tidied\",\n",
    "    \"term_id\",\n",
    "    \"lab_from_id\",\n",
    "    \"lfi_cosine\",\n",
    "]\n",
    "mapping_candidates = mapping_candidates.merge(\n",
    "    onto_labels, left_on=\"remaining_tidied\", right_on=\"value\", how=\"left\"\n",
    ")\n",
    "\n",
    "mapping_candidates.columns = [\n",
    "    biosample_col_to_map,\n",
    "    \"count\",\n",
    "    \"repeated\",\n",
    "    \"splitted\",\n",
    "    \"part_count\",\n",
    "    \"seq\",\n",
    "    \"term_tidy\",\n",
    "    \"string\",\n",
    "    \"extract\",\n",
    "    \"remaining_string\",\n",
    "    \"remaining_tidied\",\n",
    "    \"term_id\",\n",
    "    \"lab_from_id\",\n",
    "    \"lfi_cosine\",\n",
    "    \"term_id_from_lab\",\n",
    "    \"value\",\n",
    "]\n",
    "\n",
    "\n",
    "mapping_candidates"
   ]
  },
  {
   "cell_type": "code",
   "execution_count": null,
   "id": "e968917d",
   "metadata": {},
   "outputs": [],
   "source": [
    "mapping_candidates = mapping_candidates.drop_duplicates()\n",
    "\n",
    "mc_tifl_split = mapping_candidates[\"term_id_from_lab\"].str.split(\":\")\n",
    "\n",
    "import math\n",
    "\n",
    "prefix_when_possible = []\n",
    "for one_split in mc_tifl_split:\n",
    "    if type(one_split) == list:\n",
    "        os_first = one_split[0]\n",
    "        prefix_when_possible.append(os_first)\n",
    "    else:\n",
    "        prefix_when_possible.append(\"\")\n",
    "\n",
    "prefix_when_possible = [each_string.lower() for each_string in prefix_when_possible]\n",
    "\n",
    "# prefix_when_possible"
   ]
  },
  {
   "cell_type": "code",
   "execution_count": null,
   "id": "c10ced03",
   "metadata": {},
   "outputs": [],
   "source": [
    "if \"onto_prefix\" in mapping_candidates.columns:\n",
    "    mapping_candidates = mapping_candidates.drop(\"onto_prefix\", 1)\n",
    "\n",
    "mapping_candidates.loc[:, \"onto_prefix\"] = pd.Series(prefix_when_possible).values\n",
    "\n",
    "# mapping_candidates"
   ]
  },
  {
   "cell_type": "code",
   "execution_count": null,
   "id": "9720bade",
   "metadata": {},
   "outputs": [],
   "source": [
    "ranks = list(range(len(additional_preferred_ontologies)))\n",
    "\n",
    "d = {\"onto_prefix\": additional_preferred_ontologies, \"rank\": ranks}\n",
    "onto_rank_frame = pd.DataFrame(d)\n",
    "\n",
    "onto_rank_frame"
   ]
  },
  {
   "cell_type": "code",
   "execution_count": null,
   "id": "536a6f9c",
   "metadata": {
    "scrolled": true
   },
   "outputs": [],
   "source": [
    "mapping_candidates = mapping_candidates.merge(\n",
    "    onto_rank_frame, on=\"onto_prefix\", how=\"left\"\n",
    ")\n",
    "\n",
    "# mapping_candidates"
   ]
  },
  {
   "cell_type": "code",
   "execution_count": null,
   "id": "46ce3f1a",
   "metadata": {},
   "outputs": [],
   "source": [
    "best_maps = mapping_candidates.groupby(biosample_col_to_map)[\"rank\"].min().reset_index()\n",
    "# best_maps"
   ]
  },
  {
   "cell_type": "code",
   "execution_count": null,
   "id": "2667e541",
   "metadata": {},
   "outputs": [],
   "source": [
    "mapping_candidates = mapping_candidates.merge(\n",
    "    best_maps, on=[biosample_col_to_map, \"rank\"]\n",
    ")\n",
    "# mapping_candidates"
   ]
  },
  {
   "cell_type": "markdown",
   "id": "41082d99",
   "metadata": {},
   "source": [
    "## Find consensus term IDs and labels\n"
   ]
  },
  {
   "cell_type": "code",
   "execution_count": null,
   "id": "4f5e3fdd",
   "metadata": {},
   "outputs": [],
   "source": [
    "mapping_candidates[\"consensus_id\"] = mapping_candidates[\"term_id_from_lab\"]\n",
    "mapping_candidates[\"consensus_lab\"] = mapping_candidates[\"value\"]\n",
    "\n",
    "flag = mapping_candidates[\"consensus_id\"].isnull() & (\n",
    "    (\n",
    "        ~mapping_candidates[\"term_id\"].isnull()\n",
    "        & mapping_candidates.lfi_cosine.le(my_max_string_dist)\n",
    "    )\n",
    "    | (\n",
    "        ~mapping_candidates[\"term_id\"].isnull()\n",
    "        & mapping_candidates[\"remaining_tidied\"].eq(\"\")\n",
    "    )\n",
    ")\n",
    "\n",
    "replacements = mapping_candidates.loc[flag, \"term_id\"]\n",
    "mapping_candidates.loc[flag, \"consensus_id\"] = replacements\n",
    "\n",
    "replacements = mapping_candidates.loc[flag, \"lab_from_id\"]\n",
    "mapping_candidates.loc[flag, \"consensus_lab\"] = replacements\n",
    "\n",
    "flag = mapping_candidates.consensus_id.isna()\n",
    "antiflag = ~flag\n",
    "mapping_candidates[\"id_or_lab_ok\"] = antiflag\n",
    "\n",
    "mapping_candidates[\"assembled_consensus\"] = (\n",
    "    mapping_candidates[\"consensus_lab\"]\n",
    "    + \" [\"\n",
    "    + mapping_candidates[\"consensus_id\"]\n",
    "    + \"]\"\n",
    ")"
   ]
  },
  {
   "cell_type": "code",
   "execution_count": null,
   "id": "6af120f8",
   "metadata": {},
   "outputs": [],
   "source": [
    "mapping_candidates"
   ]
  },
  {
   "cell_type": "markdown",
   "id": "13d44c8d",
   "metadata": {},
   "source": [
    "## For which Biosample annotations were no easy mappings found?\n",
    "How many Biosamples uses those annotations?"
   ]
  },
  {
   "cell_type": "code",
   "execution_count": null,
   "id": "c29338b2",
   "metadata": {},
   "outputs": [],
   "source": [
    "flag = ~mapping_candidates.id_or_lab_ok\n",
    "needs_search = mapping_candidates.loc[flag]\n",
    "\n",
    "needs_search = needs_search[[\"remaining_tidied\", \"count\"]]\n",
    "\n",
    "sum_by_needed = needs_search.groupby(\"remaining_tidied\")[\"count\"].sum()\n",
    "\n",
    "sum_by_needed = sum_by_needed.to_frame()\n",
    "sum_by_needed[\"remaining_tidied\"] = sum_by_needed.index\n",
    "\n",
    "sum_by_needed = sum_by_needed.sort_values(\"count\", ascending=False)\n",
    "sum_by_needed.reset_index(drop=True)\n",
    "\n",
    "# sum_by_needed.to_sql(\"sum_by_needed\", biosample_cnx, if_exists=\"replace\", index=False)"
   ]
  },
  {
   "cell_type": "code",
   "execution_count": null,
   "id": "91fec97a",
   "metadata": {},
   "outputs": [],
   "source": [
    "# sum_by_needed"
   ]
  },
  {
   "cell_type": "markdown",
   "id": "53bcffc5",
   "metadata": {},
   "source": [
    "## Extract the tidied strings"
   ]
  },
  {
   "cell_type": "code",
   "execution_count": null,
   "id": "02a43f7a",
   "metadata": {},
   "outputs": [],
   "source": [
    "ebs_raw_list = list(sum_by_needed[\"remaining_tidied\"])\n",
    "ebs_raw_list.sort()"
   ]
  },
  {
   "cell_type": "markdown",
   "id": "9bd91eb2",
   "metadata": {},
   "source": [
    "## Submit those tidied strings to a search engine\n",
    "\n",
    "Specifically OLS search. This takes roughly one second per unique post-tidied submission\n",
    "\n",
    "_Turn logging back on to show status?_\n",
    "_Print the count and pre- and post- datestamps_\n",
    "`datetime.now().replace(microsecond=0).isoformat()` ?\n"
   ]
  },
  {
   "cell_type": "code",
   "execution_count": null,
   "id": "9aecf3bc",
   "metadata": {},
   "outputs": [],
   "source": [
    "print(datetime.now().replace(microsecond=0).isoformat())\n",
    "print(len(sum_by_needed.index))\n",
    "print((len(sum_by_needed.index)) / 60)"
   ]
  },
  {
   "cell_type": "code",
   "execution_count": null,
   "id": "08e39629",
   "metadata": {},
   "outputs": [],
   "source": [
    "ebs_search_res = scoped_mapping.search_get_annotations_wrapper(\n",
    "    ebs_raw_list,\n",
    "    bad_chars=chars_to_whiteout,\n",
    "    cat_name=biosample_col_to_map,\n",
    "    ontoprefix=additional_preferred_ontologies_str,\n",
    "    query_fields=\"\",\n",
    "    rr=5,\n",
    "    string_dist_arg=my_string_dist_arg,\n",
    ")\n",
    "# ebs_search_res.to_sql(\n",
    "#     \"ols_search_results\", biosample_cnx, if_exists=\"replace\", index=False\n",
    "# )"
   ]
  },
  {
   "cell_type": "markdown",
   "id": "ae3d29dc",
   "metadata": {},
   "source": [
    "## Filter out the best of the acceptable mappings\n",
    "From a string distance perspective"
   ]
  },
  {
   "cell_type": "code",
   "execution_count": null,
   "id": "b695a649",
   "metadata": {},
   "outputs": [],
   "source": [
    "my_best_acceptable = scoped_mapping.get_best_acceptable(\n",
    "    ebs_search_res, max_string_dist=my_max_string_dist\n",
    ")\n",
    "my_best_acceptable"
   ]
  },
  {
   "cell_type": "markdown",
   "id": "43aa5018",
   "metadata": {},
   "source": [
    "----\n",
    "\n",
    "## Filter out the submissions with no acceptable matches"
   ]
  },
  {
   "cell_type": "code",
   "execution_count": null,
   "id": "39e98bf9",
   "metadata": {},
   "outputs": [],
   "source": [
    "no_acceptable_mappings = scoped_mapping.get_no_acceptable_mappings(\n",
    "    ebs_search_res, my_best_acceptable\n",
    ")\n",
    "\n",
    "no_acceptable_mappings"
   ]
  },
  {
   "cell_type": "markdown",
   "id": "70be6244",
   "metadata": {},
   "source": [
    "## Try searching the failures against all ontologies in OLS\n",
    "what would it be like to use a local OLS instance? (latency-wise)"
   ]
  },
  {
   "cell_type": "code",
   "execution_count": null,
   "id": "d5adfca5",
   "metadata": {},
   "outputs": [],
   "source": [
    "still_unmapped = list(set(list(no_acceptable_mappings[\"raw\"])))\n",
    "still_unmapped.sort()\n",
    "\n",
    "print(len(still_unmapped))\n",
    "\n",
    "still_unmapped"
   ]
  },
  {
   "cell_type": "code",
   "execution_count": null,
   "id": "93462447",
   "metadata": {},
   "outputs": [],
   "source": [
    "print(datetime.now().replace(microsecond=0).isoformat())\n",
    "print(len(sum_by_needed.index))\n",
    "print((len(sum_by_needed.index)) / 60)"
   ]
  },
  {
   "cell_type": "code",
   "execution_count": null,
   "id": "ac5c4f31",
   "metadata": {},
   "outputs": [],
   "source": [
    "salvage_search_res = scoped_mapping.search_get_annotations_wrapper(\n",
    "    still_unmapped,\n",
    "    bad_chars=\"._-\",\n",
    "    cat_name=\"salvage\",\n",
    "    ontoprefix=\"\",\n",
    "    query_fields=\"\",\n",
    "    rr=5,\n",
    "    string_dist_arg=2,\n",
    ")\n",
    "\n",
    "# salvage_search_res.to_sql(\n",
    "#     \"salvage_search_res\", biosample_cnx, if_exists=\"replace\", index=False\n",
    "# )"
   ]
  },
  {
   "cell_type": "markdown",
   "id": "453b8356",
   "metadata": {},
   "source": [
    "## We appear to be at a point of diminishing returns\n",
    "At the very least, will require some review"
   ]
  },
  {
   "cell_type": "code",
   "execution_count": null,
   "id": "d44fe45b",
   "metadata": {},
   "outputs": [],
   "source": [
    "salvage_best_acceptable = scoped_mapping.get_best_acceptable(\n",
    "    salvage_search_res, max_string_dist=salvage_max_dist\n",
    ")\n",
    "salvage_best_acceptable"
   ]
  },
  {
   "cell_type": "markdown",
   "id": "e6bd9e5e",
   "metadata": {},
   "source": [
    "## Save the mappings for review!\n",
    "\n",
    "_Note that the merge on ID or label mappings are not included here_\n"
   ]
  },
  {
   "cell_type": "code",
   "execution_count": null,
   "id": "a2b88c22",
   "metadata": {},
   "outputs": [],
   "source": [
    "my_best_acceptable[include_col] = first_pass_include_val\n",
    "salvage_best_acceptable[include_col] = salvage_include_val\n",
    "best_and_salvage = pd.concat([my_best_acceptable, salvage_best_acceptable])\n",
    "\n",
    "best_and_salvage[\"ols_curation_notes\"] = \"\"\n",
    "\n",
    "# best_and_salvage.to_csv(ols_review_file, sep=ols_review_seperator, index=False)\n",
    "\n",
    "best_and_salvage = best_and_salvage[\n",
    "    [\n",
    "        \"category\",\n",
    "        \"raw\",\n",
    "        \"query\",\n",
    "        \"name\",\n",
    "        \"obo_id\",\n",
    "        \"label\",\n",
    "        \"ontology_prefix\",\n",
    "        \"include\",\n",
    "        \"ols_curation_notes\",\n",
    "        \"scope\",\n",
    "        \"type\",\n",
    "        \"iri\",\n",
    "        \"ontology_name\",\n",
    "        \"string_dist_rank\",\n",
    "        \"string_dist\",\n",
    "        \"search_rank\",\n",
    "    ]\n",
    "]"
   ]
  },
  {
   "cell_type": "code",
   "execution_count": null,
   "id": "d90a12de",
   "metadata": {},
   "outputs": [],
   "source": [
    "best_and_salvage = best_and_salvage.sort_values(\n",
    "    [\"include\", \"ontology_prefix\"], ascending=(True, True)\n",
    ")\n",
    "best_and_salvage"
   ]
  },
  {
   "cell_type": "code",
   "execution_count": null,
   "id": "131b2343",
   "metadata": {},
   "outputs": [],
   "source": [
    "best_and_salvage.to_clipboard(index=False)"
   ]
  },
  {
   "cell_type": "markdown",
   "id": "b0fd18d2",
   "metadata": {},
   "source": [
    "## print mapped column and scoping"
   ]
  },
  {
   "cell_type": "code",
   "execution_count": null,
   "id": "3d8b64ba",
   "metadata": {},
   "outputs": [],
   "source": [
    "print(scoping_col)\n",
    "print(scoping_value)\n",
    "print(biosample_col_to_map)"
   ]
  },
  {
   "cell_type": "code",
   "execution_count": null,
   "id": "4f4a3988",
   "metadata": {},
   "outputs": [],
   "source": [
    "raise SystemExit(\"Don't skip reviewing and saving!\")"
   ]
  },
  {
   "cell_type": "markdown",
   "id": "b5a331a6",
   "metadata": {},
   "source": [
    "## Do some review in a spreadsheet application!\n",
    "Specifically, columns `include` and `ols_curation_notes`\n",
    "\n",
    "Then Save\n",
    "\n",
    "**Add counts back in to motivate manual lookups if necessary**\n",
    "\n",
    "----"
   ]
  },
  {
   "cell_type": "markdown",
   "id": "be6da72c",
   "metadata": {},
   "source": [
    "## Now read the reviewed spreadsheet back in"
   ]
  },
  {
   "cell_type": "code",
   "execution_count": null,
   "id": "2c94cf3b",
   "metadata": {
    "scrolled": true
   },
   "outputs": [],
   "source": [
    "# curated = pd.read_csv(ols_review_file, sep=ols_review_seperator)\n",
    "# curated"
   ]
  },
  {
   "cell_type": "markdown",
   "id": "49389e4e",
   "metadata": {},
   "source": [
    "## OR copy and paste"
   ]
  },
  {
   "cell_type": "code",
   "execution_count": null,
   "id": "bd84b014",
   "metadata": {},
   "outputs": [],
   "source": [
    "curated = pd.read_clipboard()\n",
    "curated"
   ]
  },
  {
   "cell_type": "markdown",
   "id": "4ea200e4",
   "metadata": {},
   "source": [
    "## Filter on `include`"
   ]
  },
  {
   "cell_type": "code",
   "execution_count": null,
   "id": "1473206f",
   "metadata": {},
   "outputs": [],
   "source": [
    "flag = curated[\"include\"]\n",
    "curated = curated.loc[flag]\n",
    "\n",
    "curated.columns = \"ols_\" + curated.columns\n",
    "# curated.to_sql(\"curated\", biosample_cnx, if_exists=\"replace\", index=False)\n",
    "# curated"
   ]
  },
  {
   "cell_type": "code",
   "execution_count": null,
   "id": "ac6219e6",
   "metadata": {},
   "outputs": [],
   "source": [
    "merge_search_merged = mapping_candidates.merge(\n",
    "    curated, how=\"outer\", left_on=\"remaining_tidied\", right_on=\"ols_raw\"\n",
    ")"
   ]
  },
  {
   "cell_type": "code",
   "execution_count": null,
   "id": "d2c242b3",
   "metadata": {},
   "outputs": [],
   "source": [
    "flag = (\n",
    "    ~merge_search_merged[\"id_or_lab_ok\"]\n",
    "    & ~merge_search_merged[\"ols_obo_id\"].eq(\"\")\n",
    "    & ~merge_search_merged[\"ols_obo_id\"].isna()\n",
    ")\n",
    "\n",
    "replacement = merge_search_merged.loc[flag, \"ols_obo_id\"]\n",
    "\n",
    "merge_search_merged.loc[flag, \"consensus_id\"] = replacement\n",
    "\n",
    "replacement = merge_search_merged.loc[flag, \"ols_label\"]\n",
    "\n",
    "merge_search_merged.loc[flag, \"consensus_lab\"] = replacement\n",
    "\n",
    "replacement = (\n",
    "    merge_search_merged.loc[flag, \"consensus_lab\"]\n",
    "    + \" [\"\n",
    "    + merge_search_merged.loc[flag, \"consensus_id\"]\n",
    "    + \"]\"\n",
    ")\n",
    "\n",
    "merge_search_merged.loc[flag, \"assembled_consensus\"] = replacement"
   ]
  },
  {
   "cell_type": "code",
   "execution_count": null,
   "id": "b333c111",
   "metadata": {},
   "outputs": [],
   "source": [
    "# merge_search_merged.to_sql(\n",
    "#     \"merge_search_merged\", biosample_cnx, if_exists=\"replace\", index=False\n",
    "# )"
   ]
  },
  {
   "cell_type": "code",
   "execution_count": null,
   "id": "5e772701",
   "metadata": {
    "scrolled": false
   },
   "outputs": [],
   "source": [
    "summary = merge_search_merged[[biosample_col_to_map, \"count\", \"assembled_consensus\"]]\n",
    "summary = summary.sort_values(\"count\", ascending=False)\n",
    "# summary"
   ]
  },
  {
   "cell_type": "code",
   "execution_count": null,
   "id": "38acac10",
   "metadata": {},
   "outputs": [],
   "source": [
    "frame_for_sssom = merge_search_merged\n",
    "\n",
    "na_flag = frame_for_sssom[\"splitted\"].isna()\n",
    "frame_for_sssom = frame_for_sssom[~na_flag]\n",
    "\n",
    "na_flag = frame_for_sssom[\"consensus_id\"].isna()\n",
    "frame_for_sssom = frame_for_sssom[~na_flag]\n",
    "\n",
    "raw_queries = list(frame_for_sssom[\"splitted\"])\n",
    "urlencodeds = list(map(urllib.parse.quote, raw_queries))\n",
    "urlencodeds = [sssom_subject_prefix + \":\" + item for item in urlencodeds]\n",
    "\n",
    "results_rows = len(frame_for_sssom.index)\n",
    "iso8601_stamp = datetime.now().replace(microsecond=0).isoformat()\n",
    "\n",
    "sssom_frame = {\n",
    "    \"subject_category\": [biosample_col_to_map] * results_rows,\n",
    "    \"subject_label\": frame_for_sssom[\"splitted\"],\n",
    "    \"predicate_id\": [\"skos:relatedMatch\"] * results_rows,\n",
    "    \"object_id\": frame_for_sssom[\"consensus_id\"],\n",
    "    \"object_label\": frame_for_sssom[\"consensus_lab\"],\n",
    "    \"match_type\": [\"Lexical\"] * results_rows,\n",
    "    \"creator_id\": [\"https://github.com/turbomam/scoped-mapping\"] * results_rows,\n",
    "    #     \"mapping_tool\": [\"https://www.ebi.ac.uk/ols/docs/api\"] * results_rows,\n",
    "    \"mapping_date\": [iso8601_stamp] * results_rows,\n",
    "    #     \"confidence\": 1 - frame_for_sssom[\"string_dist\"],\n",
    "    \"subject_id\": urlencodeds,\n",
    "}\n",
    "\n",
    "sssom_frame = pd.DataFrame(sssom_frame)\n",
    "\n",
    "sssom_frame.to_csv(sssom_file, sep=ols_review_seperator, index=False)\n",
    "\n",
    "# sssom_frame"
   ]
  },
  {
   "cell_type": "markdown",
   "id": "3ad82349",
   "metadata": {},
   "source": [
    "# From here down requires refactoring and generalization \n",
    "\n",
    "That may even be true for some of the blocks above this!\n",
    "\n",
    "## Join together pipe-delimited env_broad_scale mappings \n",
    "_Any other constraints? If part_count is > 1, do we need to check for empty or null env_broad_scale, repeated or splitted?_"
   ]
  },
  {
   "cell_type": "code",
   "execution_count": null,
   "id": "32ad2b25",
   "metadata": {},
   "outputs": [],
   "source": [
    "multi_part_flag = merge_search_merged[\"part_count\"] > 1\n",
    "multi_part_flag.value_counts()"
   ]
  },
  {
   "cell_type": "code",
   "execution_count": null,
   "id": "d686f6ce",
   "metadata": {},
   "outputs": [],
   "source": [
    "multi_part_frame = merge_search_merged.loc[multi_part_flag]\n",
    "\n",
    "multi_part_frame = multi_part_frame[\n",
    "    [\n",
    "        biosample_col_to_map,\n",
    "        \"count\",\n",
    "        \"repeated\",\n",
    "        \"splitted\",\n",
    "        \"part_count\",\n",
    "        \"seq\",\n",
    "        \"consensus_id\",\n",
    "        \"consensus_lab\",\n",
    "    ]\n",
    "]\n",
    "\n",
    "multi_part_frame = multi_part_frame.sort_values(\n",
    "    [biosample_col_to_map, \"seq\"], ascending=(True, True)\n",
    ")\n",
    "\n",
    "multi_part_frame"
   ]
  },
  {
   "cell_type": "code",
   "execution_count": null,
   "id": "f147c6b1",
   "metadata": {},
   "outputs": [],
   "source": [
    "part_count = multi_part_frame.groupby([biosample_col_to_map], sort=False)[\n",
    "    \"part_count\"\n",
    "].max()\n",
    "part_count.value_counts()"
   ]
  },
  {
   "cell_type": "code",
   "execution_count": null,
   "id": "5db86116",
   "metadata": {},
   "outputs": [],
   "source": [
    "seq_max = multi_part_frame.groupby([biosample_col_to_map], sort=False)[\"seq\"].max()\n",
    "seq_max"
   ]
  },
  {
   "cell_type": "code",
   "execution_count": null,
   "id": "c4ccf78a",
   "metadata": {},
   "outputs": [],
   "source": [
    "parts_check = pd.DataFrame(dict(part_count=part_count, seq_max=seq_max)).reset_index()\n",
    "\n",
    "all_parts_flag = parts_check[\"seq_max\"] == parts_check[\"part_count\"]\n",
    "ebs_with_all_parts = parts_check.loc[all_parts_flag, biosample_col_to_map]\n",
    "ebs_with_all_parts\n",
    "\n",
    "all_parts_flag = multi_part_frame[biosample_col_to_map].isin(list(ebs_with_all_parts))\n",
    "all_parts_frame = multi_part_frame.loc[all_parts_flag]\n",
    "all_parts_frame"
   ]
  },
  {
   "cell_type": "code",
   "execution_count": null,
   "id": "f0cbd251",
   "metadata": {},
   "outputs": [],
   "source": [
    "unique_pipesep_ebs = list(set(list(all_parts_frame[biosample_col_to_map])))\n",
    "unique_pipesep_ebs.sort()\n",
    "repipe_dict_list = []\n",
    "for one_pipesep in unique_pipesep_ebs:\n",
    "    flag = all_parts_frame[biosample_col_to_map] == one_pipesep\n",
    "    temp_frame = all_parts_frame.loc[flag]\n",
    "    ids_list = list(temp_frame[\"consensus_id\"])\n",
    "    lab_list = list(temp_frame[\"consensus_lab\"])\n",
    "    s = \"|\"\n",
    "    ids_repipe = s.join(ids_list)\n",
    "    lab_repipe = s.join(lab_list)\n",
    "\n",
    "    repipe_dict = {\n",
    "        biosample_col_to_map: one_pipesep,\n",
    "        \"consensus_id\": ids_repipe,\n",
    "        \"consensus_lab\": lab_repipe,\n",
    "    }\n",
    "    repipe_dict_list.append(repipe_dict)\n",
    "repipe_frame = pd.DataFrame(repipe_dict_list)\n",
    "repipe_frame"
   ]
  },
  {
   "cell_type": "code",
   "execution_count": null,
   "id": "0e8d54b3",
   "metadata": {},
   "outputs": [],
   "source": [
    "sssom_min_cols = sssom_frame[[\"subject_label\", \"object_id\", \"object_label\"]]\n",
    "\n",
    "sssom_min_cols.columns = [biosample_col_to_map, \"consensus_id\", \"consensus_lab\"]\n",
    "\n",
    "# sssom_min_cols"
   ]
  },
  {
   "cell_type": "code",
   "execution_count": null,
   "id": "25424849",
   "metadata": {
    "scrolled": false
   },
   "outputs": [],
   "source": [
    "repipe_rows = len(repipe_frame.index)\n",
    "if repipe_rows > 0:\n",
    "    direct_and_repipe = pd.concat([sssom_min_cols, repipe_frame])\n",
    "else:\n",
    "    direct_and_repipe = sssom_min_cols\n",
    "# direct_and_repipe"
   ]
  },
  {
   "cell_type": "code",
   "execution_count": null,
   "id": "5ab3aaa4",
   "metadata": {},
   "outputs": [],
   "source": [
    "direct_and_repipe.to_sql(\n",
    "    \"direct_and_repipe\", biosample_cnx, if_exists=\"replace\", index=False\n",
    ")"
   ]
  },
  {
   "cell_type": "markdown",
   "id": "922c09b3",
   "metadata": {},
   "source": [
    "## refactor this even more?\n"
   ]
  },
  {
   "cell_type": "code",
   "execution_count": null,
   "id": "8de27d49",
   "metadata": {},
   "outputs": [],
   "source": [
    "q = (\n",
    "    \"\"\"\n",
    "select\n",
    "\tb.id, b.\"\"\"\n",
    "    + biosample_col_to_map\n",
    "    + \"\"\",\n",
    "\tdar.consensus_id ,\n",
    "\tdar.consensus_lab\n",
    "from\n",
    "\tdirect_and_repipe dar\n",
    "left join biosample b on\n",
    "\tb.\"\"\"\n",
    "    + biosample_col_to_map\n",
    "    + \"\"\" = dar.\"\"\"\n",
    "    + biosample_col_to_map\n",
    "    + \"\"\"\n",
    "inner join biosample_sample_taxon_summary stic on\n",
    "\tb.taxonomy_id = stic.biosample_taxid\n",
    "join env_package_normalization on\n",
    "\tb.env_package = env_package_normalization.env_package\n",
    "where \"\"\"\n",
    "    + scoping_col\n",
    "    + \" = '\"\n",
    "    + scoping_value\n",
    "    + \"'\"\n",
    ")\n",
    "\n",
    "[per_biosample_scoped_mapping_results, query_duration] = scoped_mapping.timed_query(\n",
    "    q, biosample_cnx, print_timing=True\n",
    ")"
   ]
  },
  {
   "cell_type": "code",
   "execution_count": null,
   "id": "a863e532",
   "metadata": {},
   "outputs": [],
   "source": [
    "per_biosample_scoped_mapping_results[\"notes\"] = scoping_col + \"=\" + scoping_value\n",
    "\n",
    "table_name = \"repaired_\" + biosample_col_to_map\n",
    "\n",
    "per_biosample_scoped_mapping_results.to_sql(\n",
    "    table_name, biosample_cnx, if_exists=\"append\", index=False\n",
    ")\n",
    "\n",
    "per_biosample_scoped_mapping_results"
   ]
  },
  {
   "cell_type": "code",
   "execution_count": null,
   "id": "b7e01f17",
   "metadata": {},
   "outputs": [],
   "source": []
  },
  {
   "cell_type": "code",
   "execution_count": null,
   "id": "1f16f8f8",
   "metadata": {},
   "outputs": [],
   "source": []
  }
 ],
 "metadata": {
  "kernelspec": {
   "display_name": "Python 3",
   "language": "python",
   "name": "python3"
  },
  "language_info": {
   "codemirror_mode": {
    "name": "ipython",
    "version": 3
   },
   "file_extension": ".py",
   "mimetype": "text/x-python",
   "name": "python",
   "nbconvert_exporter": "python",
   "pygments_lexer": "ipython3",
   "version": "3.9.5"
  }
 },
 "nbformat": 4,
 "nbformat_minor": 5
}
