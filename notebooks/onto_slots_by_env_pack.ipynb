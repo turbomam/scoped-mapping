{
 "cells": [
  {
   "cell_type": "code",
   "execution_count": 1,
   "id": "4657d661",
   "metadata": {
    "ExecuteTime": {
     "end_time": "2021-08-26T02:45:59.206201Z",
     "start_time": "2021-08-26T02:45:58.073241Z"
    }
   },
   "outputs": [],
   "source": [
    "import yaml\n",
    "import sqlite3\n",
    "import pandas as pd\n",
    "import scoped_mapping\n",
    "import re\n",
    "import requests\n",
    "import string\n",
    "\n",
    "import sys\n",
    "\n",
    "import numpy as np\n",
    "from sklearn.cluster import AffinityPropagation\n",
    "import distance\n",
    "\n",
    "mixs_terms_file = \"../../mixs-source/model/schema/terms.yaml\"\n",
    "harmonized_table_db = \"../target/harmonized_table.db\"\n",
    "\n",
    "# this is static, so counts will not be accuarate as adatabase grows\n",
    "# raw env_package values could be added or removed over time, too\n",
    "# I have code that automates some of this, but even that has SOME manual curations\n",
    "# and some intermittent bugs (esp removing leading checklist name)\n",
    "env_package_count_file = \"../data/env_package_count_manual_20210824.tsv\"\n",
    "\n",
    "# there are some runons like\n",
    "# 81 occurences of ...lhouseENVO:00003040\n",
    "# start with a capital letter\n",
    "obo_pattern = \"[A-Z][a-zA-Z]{1,9}[\\.| |_|:][0-9]{6,9}\"\n",
    "\n",
    "ols_ontologies_url = \"http://www.ebi.ac.uk/ols/api/ontologies?size=500\"\n",
    "# only up to mid 200s now. Not bothering with pagination\n",
    "\n",
    "findByIdAndIsDefiningOntology_url = (\n",
    "    \"http://www.ebi.ac.uk/ols/api/terms/findByIdAndIsDefiningOntology?obo_id=\"\n",
    ")\n",
    "\n",
    "output_file = \"onto_slots_by_env_pack.tsv\""
   ]
  },
  {
   "cell_type": "code",
   "execution_count": 2,
   "id": "f0a89efc",
   "metadata": {
    "ExecuteTime": {
     "end_time": "2021-08-26T02:45:59.210687Z",
     "start_time": "2021-08-26T02:45:59.207524Z"
    }
   },
   "outputs": [],
   "source": [
    "# works bare but not as a function?\n",
    "# dumps objects in memory sorted by size\n",
    "\n",
    "# https://stackoverflow.com/questions/40993626/list-memory-usage-in-ipython-and-jupyter\n",
    "# These are the usual ipython objects, including this one you are creating\n",
    "ipython_vars = [\"In\", \"Out\", \"exit\", \"quit\", \"get_ipython\", \"ipython_vars\"]\n",
    "\n",
    "# Get a sorted list of the objects and their sizes\n",
    "def var_sizes():\n",
    "    temp = sorted(\n",
    "        [\n",
    "            (x, sys.getsizeof(globals().get(x)))\n",
    "            for x in dir()\n",
    "            if not x.startswith(\"_\") and x not in sys.modules and x not in ipython_vars\n",
    "        ],\n",
    "        key=lambda x: x[1],\n",
    "        reverse=True,\n",
    "    )\n",
    "    print(temp)\n",
    "    return temp"
   ]
  },
  {
   "cell_type": "code",
   "execution_count": 3,
   "id": "af420eb4",
   "metadata": {
    "ExecuteTime": {
     "end_time": "2021-08-26T02:46:00.160957Z",
     "start_time": "2021-08-26T02:45:59.212916Z"
    }
   },
   "outputs": [],
   "source": [
    "with open(mixs_terms_file) as f:\n",
    "    mixs_terms = yaml.safe_load(f)\n",
    "\n",
    "mixs_slots = mixs_terms[\"slots\"]\n",
    "\n",
    "slotnames = mixs_slots.keys()\n",
    "\n",
    "termid_terms = []"
   ]
  },
  {
   "cell_type": "code",
   "execution_count": 4,
   "id": "b8cd0b09",
   "metadata": {
    "ExecuteTime": {
     "end_time": "2021-08-26T02:46:00.166758Z",
     "start_time": "2021-08-26T02:46:00.162122Z"
    }
   },
   "outputs": [],
   "source": [
    "for slot in slotnames:\n",
    "    current_obj = mixs_slots[slot]\n",
    "    current_keys = list(current_obj.keys())\n",
    "    if \"pattern\" in current_keys:\n",
    "        the_pattern = current_obj[\"pattern\"]\n",
    "        if \"termID\" in the_pattern:\n",
    "            termid_terms.append(slot)"
   ]
  },
  {
   "cell_type": "code",
   "execution_count": 5,
   "id": "5a374f32",
   "metadata": {
    "ExecuteTime": {
     "end_time": "2021-08-26T02:46:00.175333Z",
     "start_time": "2021-08-26T02:46:00.168154Z"
    }
   },
   "outputs": [
    {
     "data": {
      "text/plain": [
       "['chem_administration',\n",
       " 'env_broad_scale',\n",
       " 'env_local_scale',\n",
       " 'env_medium',\n",
       " 'experimental_factor',\n",
       " 'growth_facil',\n",
       " 'host_body_product',\n",
       " 'host_body_site',\n",
       " 'host_disease_stat',\n",
       " 'host_phenotype',\n",
       " 'plant_growth_med',\n",
       " 'plant_struc',\n",
       " 'ploidy',\n",
       " 'samp_collec_device',\n",
       " 'season',\n",
       " 'seq_meth']"
      ]
     },
     "execution_count": 5,
     "metadata": {},
     "output_type": "execute_result"
    }
   ],
   "source": [
    "termid_terms.sort()\n",
    "termid_terms"
   ]
  },
  {
   "cell_type": "code",
   "execution_count": 6,
   "id": "258b325b",
   "metadata": {
    "ExecuteTime": {
     "end_time": "2021-08-26T02:46:00.180742Z",
     "start_time": "2021-08-26T02:46:00.176811Z"
    }
   },
   "outputs": [],
   "source": [
    "connection = sqlite3.connect(harmonized_table_db)\n",
    "cursor = connection.execute(\"select * from biosample limit 1\")\n",
    "ht_names = [description[0] for description in cursor.description]"
   ]
  },
  {
   "cell_type": "code",
   "execution_count": 7,
   "id": "5e28d3f3",
   "metadata": {
    "ExecuteTime": {
     "end_time": "2021-08-26T02:46:00.185770Z",
     "start_time": "2021-08-26T02:46:00.182096Z"
    }
   },
   "outputs": [
    {
     "data": {
      "text/plain": [
       "['growth_facil',\n",
       " 'host_body_site',\n",
       " 'host_disease_stat',\n",
       " 'plant_growth_med',\n",
       " 'plant_struc',\n",
       " 'samp_collec_device',\n",
       " 'season',\n",
       " 'seq_meth']"
      ]
     },
     "execution_count": 7,
     "metadata": {},
     "output_type": "execute_result"
    }
   ],
   "source": [
    "htms = set(ht_names)\n",
    "tts = set(termid_terms)\n",
    "missing_from_ht = list(tts - htms)\n",
    "missing_from_ht.sort()\n",
    "missing_from_ht"
   ]
  },
  {
   "cell_type": "code",
   "execution_count": 8,
   "id": "2f98605b",
   "metadata": {
    "ExecuteTime": {
     "end_time": "2021-08-26T02:46:00.189184Z",
     "start_time": "2021-08-26T02:46:00.187038Z"
    }
   },
   "outputs": [],
   "source": [
    "terms_to_tabulate = list(tts.intersection(htms))"
   ]
  },
  {
   "cell_type": "markdown",
   "id": "5ce18333",
   "metadata": {},
   "source": [
    "### possible remedies?\n",
    "- host_disease_stat (host_disease? host_disease_outcome?)\n",
    "- plant_growth_med (there is a general growth_med )\n",
    "- plant_struc (there is a plant_body_site)\n",
    "- samp_collec_device spelled as samp_collect_device\n",
    "\n",
    "### CJM doesn't care about these\n",
    "- season (there is a season_environment)\n",
    "- seq_meth"
   ]
  },
  {
   "cell_type": "code",
   "execution_count": 9,
   "id": "3074c39e",
   "metadata": {
    "ExecuteTime": {
     "end_time": "2021-08-26T02:46:00.195616Z",
     "start_time": "2021-08-26T02:46:00.192201Z"
    }
   },
   "outputs": [
    {
     "data": {
      "text/plain": [
       "['chem_administration',\n",
       " 'env_broad_scale',\n",
       " 'env_local_scale',\n",
       " 'env_medium',\n",
       " 'experimental_factor',\n",
       " 'growth_med',\n",
       " 'host_body_product',\n",
       " 'host_disease',\n",
       " 'host_disease_outcome',\n",
       " 'host_phenotype',\n",
       " 'plant_body_site',\n",
       " 'ploidy',\n",
       " 'samp_collect_device']"
      ]
     },
     "execution_count": 9,
     "metadata": {},
     "output_type": "execute_result"
    }
   ],
   "source": [
    "manual_adds = [\n",
    "    \"host_disease\",\n",
    "    \"host_disease_outcome\",\n",
    "    \"growth_med\",\n",
    "    \"plant_body_site\",\n",
    "    \"samp_collect_device\",\n",
    "]\n",
    "terms_to_tabulate = terms_to_tabulate + manual_adds\n",
    "terms_to_tabulate.sort()\n",
    "terms_to_tabulate"
   ]
  },
  {
   "cell_type": "code",
   "execution_count": 10,
   "id": "49b3d515",
   "metadata": {
    "ExecuteTime": {
     "end_time": "2021-08-26T02:46:00.201393Z",
     "start_time": "2021-08-26T02:46:00.196661Z"
    }
   },
   "outputs": [],
   "source": [
    "env_package_count_manual = pd.read_csv(env_package_count_file, sep=\"\\t\")"
   ]
  },
  {
   "cell_type": "code",
   "execution_count": 11,
   "id": "b673994c",
   "metadata": {
    "ExecuteTime": {
     "end_time": "2021-08-26T02:46:00.213029Z",
     "start_time": "2021-08-26T02:46:00.202631Z"
    }
   },
   "outputs": [
    {
     "data": {
      "text/html": [
       "<div>\n",
       "<style scoped>\n",
       "    .dataframe tbody tr th:only-of-type {\n",
       "        vertical-align: middle;\n",
       "    }\n",
       "\n",
       "    .dataframe tbody tr th {\n",
       "        vertical-align: top;\n",
       "    }\n",
       "\n",
       "    .dataframe thead th {\n",
       "        text-align: right;\n",
       "    }\n",
       "</style>\n",
       "<table border=\"1\" class=\"dataframe\">\n",
       "  <thead>\n",
       "    <tr style=\"text-align: right;\">\n",
       "      <th></th>\n",
       "      <th>env_package</th>\n",
       "      <th>count</th>\n",
       "      <th>tidy</th>\n",
       "      <th>confidence</th>\n",
       "      <th>notes</th>\n",
       "    </tr>\n",
       "  </thead>\n",
       "  <tbody>\n",
       "    <tr>\n",
       "      <th>0</th>\n",
       "      <td>air</td>\n",
       "      <td>234</td>\n",
       "      <td>air</td>\n",
       "      <td>high</td>\n",
       "      <td>NaN</td>\n",
       "    </tr>\n",
       "    <tr>\n",
       "      <th>1</th>\n",
       "      <td>MIGS/MIMS/MIMARKS.air</td>\n",
       "      <td>205</td>\n",
       "      <td>air</td>\n",
       "      <td>high</td>\n",
       "      <td>NaN</td>\n",
       "    </tr>\n",
       "    <tr>\n",
       "      <th>2</th>\n",
       "      <td>built environment</td>\n",
       "      <td>14510</td>\n",
       "      <td>built</td>\n",
       "      <td>high</td>\n",
       "      <td>NaN</td>\n",
       "    </tr>\n",
       "    <tr>\n",
       "      <th>3</th>\n",
       "      <td>built</td>\n",
       "      <td>61</td>\n",
       "      <td>built</td>\n",
       "      <td>high</td>\n",
       "      <td>NaN</td>\n",
       "    </tr>\n",
       "    <tr>\n",
       "      <th>4</th>\n",
       "      <td>host-associated</td>\n",
       "      <td>69981</td>\n",
       "      <td>host-associated</td>\n",
       "      <td>high</td>\n",
       "      <td>NaN</td>\n",
       "    </tr>\n",
       "    <tr>\n",
       "      <th>...</th>\n",
       "      <td>...</td>\n",
       "      <td>...</td>\n",
       "      <td>...</td>\n",
       "      <td>...</td>\n",
       "      <td>...</td>\n",
       "    </tr>\n",
       "    <tr>\n",
       "      <th>91</th>\n",
       "      <td>env_package</td>\n",
       "      <td>2</td>\n",
       "      <td>NaN</td>\n",
       "      <td>NaN</td>\n",
       "      <td>NaN</td>\n",
       "    </tr>\n",
       "    <tr>\n",
       "      <th>92</th>\n",
       "      <td>ENVO:00000016</td>\n",
       "      <td>1</td>\n",
       "      <td>NaN</td>\n",
       "      <td>NaN</td>\n",
       "      <td>NaN</td>\n",
       "    </tr>\n",
       "    <tr>\n",
       "      <th>93</th>\n",
       "      <td>MIMARKS_16S</td>\n",
       "      <td>1</td>\n",
       "      <td>NaN</td>\n",
       "      <td>NaN</td>\n",
       "      <td>NaN</td>\n",
       "    </tr>\n",
       "    <tr>\n",
       "      <th>94</th>\n",
       "      <td>saliva</td>\n",
       "      <td>1</td>\n",
       "      <td>NaN</td>\n",
       "      <td>NaN</td>\n",
       "      <td>NaN</td>\n",
       "    </tr>\n",
       "    <tr>\n",
       "      <th>95</th>\n",
       "      <td>Unknown</td>\n",
       "      <td>1</td>\n",
       "      <td>NaN</td>\n",
       "      <td>NaN</td>\n",
       "      <td>NaN</td>\n",
       "    </tr>\n",
       "  </tbody>\n",
       "</table>\n",
       "<p>96 rows × 5 columns</p>\n",
       "</div>"
      ],
      "text/plain": [
       "              env_package  count             tidy confidence notes\n",
       "0                     air    234              air       high   NaN\n",
       "1   MIGS/MIMS/MIMARKS.air    205              air       high   NaN\n",
       "2       built environment  14510            built       high   NaN\n",
       "3                   built     61            built       high   NaN\n",
       "4         host-associated  69981  host-associated       high   NaN\n",
       "..                    ...    ...              ...        ...   ...\n",
       "91            env_package      2              NaN        NaN   NaN\n",
       "92          ENVO:00000016      1              NaN        NaN   NaN\n",
       "93            MIMARKS_16S      1              NaN        NaN   NaN\n",
       "94                 saliva      1              NaN        NaN   NaN\n",
       "95                Unknown      1              NaN        NaN   NaN\n",
       "\n",
       "[96 rows x 5 columns]"
      ]
     },
     "execution_count": 11,
     "metadata": {},
     "output_type": "execute_result"
    }
   ],
   "source": [
    "env_package_count_manual"
   ]
  },
  {
   "cell_type": "code",
   "execution_count": 12,
   "id": "1f234f6b",
   "metadata": {
    "ExecuteTime": {
     "end_time": "2021-08-26T02:46:00.216389Z",
     "start_time": "2021-08-26T02:46:00.214308Z"
    }
   },
   "outputs": [],
   "source": [
    "# add env_package_count_manual to sqlite database\n",
    "\n",
    "## indices!\n",
    "# create index biosample_env_pack_idx on\n",
    "#  biosample(env_package) ;"
   ]
  },
  {
   "cell_type": "code",
   "execution_count": 13,
   "id": "51f3b276",
   "metadata": {
    "ExecuteTime": {
     "end_time": "2021-08-26T02:46:00.219654Z",
     "start_time": "2021-08-26T02:46:00.217732Z"
    }
   },
   "outputs": [],
   "source": [
    "# build query from sample id, raw and tidy env_package, and the terms_to_tabulate columns\n",
    "# then cast wide to long\n",
    "\n",
    "for_query = \", \".join(terms_to_tabulate)"
   ]
  },
  {
   "cell_type": "code",
   "execution_count": 14,
   "id": "8427d609",
   "metadata": {
    "ExecuteTime": {
     "end_time": "2021-08-26T02:46:00.223070Z",
     "start_time": "2021-08-26T02:46:00.220843Z"
    }
   },
   "outputs": [],
   "source": [
    "whole_query = (\n",
    "    \"\"\"select\n",
    "\tid,\n",
    "\tb.env_package as env_package_raw,\n",
    "\tepcm.tidy as env_package_tidy, \"\"\"\n",
    "    + for_query\n",
    "    + \"\"\" from\n",
    "\tbiosample b\n",
    "join env_package_count_manual epcm on\n",
    "\tb.env_package = epcm .env_package\n",
    "where\n",
    "\tepcm.tidy != ''\n",
    "-- limit 9\n",
    "\"\"\"\n",
    ")"
   ]
  },
  {
   "cell_type": "code",
   "execution_count": 15,
   "id": "46fa1638",
   "metadata": {
    "ExecuteTime": {
     "end_time": "2021-08-26T02:46:01.674445Z",
     "start_time": "2021-08-26T02:46:00.224370Z"
    }
   },
   "outputs": [],
   "source": [
    "termterms_by_tidypackage = pd.read_sql_query(whole_query, connection)"
   ]
  },
  {
   "cell_type": "code",
   "execution_count": 16,
   "id": "87fe3e05",
   "metadata": {
    "ExecuteTime": {
     "end_time": "2021-08-26T02:46:02.037878Z",
     "start_time": "2021-08-26T02:46:01.676830Z"
    }
   },
   "outputs": [],
   "source": [
    "wtl = pd.melt(\n",
    "    termterms_by_tidypackage,\n",
    "    id_vars=\"id\",\n",
    "    value_vars=terms_to_tabulate,\n",
    ")"
   ]
  },
  {
   "cell_type": "code",
   "execution_count": 17,
   "id": "18aa1fda",
   "metadata": {
    "ExecuteTime": {
     "end_time": "2021-08-26T02:46:02.266203Z",
     "start_time": "2021-08-26T02:46:02.039698Z"
    }
   },
   "outputs": [],
   "source": [
    "wtl = wtl[wtl[\"value\"].notna()]"
   ]
  },
  {
   "cell_type": "code",
   "execution_count": 18,
   "id": "2480e6da",
   "metadata": {
    "ExecuteTime": {
     "end_time": "2021-08-26T02:46:03.656749Z",
     "start_time": "2021-08-26T02:46:02.268322Z"
    }
   },
   "outputs": [],
   "source": [
    "wtl[\"value\"] = wtl[\"value\"].str.split(\"|\")\n",
    "wtl = wtl.explode(\"value\", ignore_index=True)"
   ]
  },
  {
   "cell_type": "code",
   "execution_count": 19,
   "id": "55fd1e05",
   "metadata": {
    "ExecuteTime": {
     "end_time": "2021-08-26T02:46:03.754044Z",
     "start_time": "2021-08-26T02:46:03.659315Z"
    }
   },
   "outputs": [],
   "source": [
    "wtl_value_counts = wtl[\"value\"].value_counts().to_frame()\n",
    "wtl_value_counts.reset_index(level=0, inplace=True)\n",
    "wtl_value_counts.columns = [\"value\", \"count\"]"
   ]
  },
  {
   "cell_type": "code",
   "execution_count": 20,
   "id": "b3917fd8",
   "metadata": {
    "ExecuteTime": {
     "end_time": "2021-08-26T02:46:03.762620Z",
     "start_time": "2021-08-26T02:46:03.755322Z"
    }
   },
   "outputs": [],
   "source": [
    "for_capture = \"(\" + obo_pattern + \")\"\n",
    "p = re.compile(for_capture)\n",
    "wtl_value_counts[\"extract\"] = wtl_value_counts[\"value\"].str.extract(p)\n",
    "# are there any extracts that generate a list?\n",
    "# now how to tidy and or validate? OLS lookup?"
   ]
  },
  {
   "cell_type": "code",
   "execution_count": 21,
   "id": "c05eb723",
   "metadata": {
    "ExecuteTime": {
     "end_time": "2021-08-26T02:46:03.768047Z",
     "start_time": "2021-08-26T02:46:03.763960Z"
    }
   },
   "outputs": [],
   "source": [
    "extract_count = wtl_value_counts[\"extract\"].value_counts().to_frame()\n",
    "extract_count.reset_index(level=0, inplace=True)\n",
    "extract_count.columns = [\"extract\", \"count\"]"
   ]
  },
  {
   "cell_type": "code",
   "execution_count": 22,
   "id": "0774a131",
   "metadata": {
    "ExecuteTime": {
     "end_time": "2021-08-26T02:46:03.772545Z",
     "start_time": "2021-08-26T02:46:03.769259Z"
    }
   },
   "outputs": [],
   "source": [
    "split_extract = extract_count[\"extract\"].str.split(r\"[ .:_]\", expand=True)\n",
    "split_extract.columns = [\"prefix\", \"local_part\"]"
   ]
  },
  {
   "cell_type": "code",
   "execution_count": 23,
   "id": "6e0fa5b4",
   "metadata": {
    "ExecuteTime": {
     "end_time": "2021-08-26T02:46:03.791673Z",
     "start_time": "2021-08-26T02:46:03.773752Z"
    }
   },
   "outputs": [],
   "source": [
    "extract_count = pd.concat([extract_count, split_extract], axis=1)\n",
    "extract_count[\"prefix_lower\"] = extract_count[\"prefix\"].str.lower()\n",
    "extract_count[\"prefix_upper\"] = extract_count[\"prefix\"].str.upper()\n",
    "\n",
    "# what if prefix doesn't ahve the right capitalizastion\n",
    "# could lowercase, then look up as OLS ontologyId and get preferredPrefix\n",
    "\n",
    "extract_count[\"reconstituted\"] = extract_count[[\"prefix_upper\", \"local_part\"]].agg(\n",
    "    \":\".join, axis=1\n",
    ")"
   ]
  },
  {
   "cell_type": "code",
   "execution_count": 24,
   "id": "4fab91db",
   "metadata": {
    "ExecuteTime": {
     "end_time": "2021-08-26T02:46:03.796780Z",
     "start_time": "2021-08-26T02:46:03.792768Z"
    }
   },
   "outputs": [],
   "source": [
    "prefix_count = extract_count[\"prefix_lower\"].value_counts().to_frame()\n",
    "prefix_count.reset_index(level=0, inplace=True)\n",
    "prefix_count.columns = [\"prefix\", \"count\"]"
   ]
  },
  {
   "cell_type": "code",
   "execution_count": 25,
   "id": "56c38914",
   "metadata": {
    "ExecuteTime": {
     "end_time": "2021-08-26T02:46:05.686118Z",
     "start_time": "2021-08-26T02:46:03.798282Z"
    }
   },
   "outputs": [
    {
     "data": {
      "text/plain": [
       "1"
      ]
     },
     "execution_count": 25,
     "metadata": {},
     "output_type": "execute_result"
    }
   ],
   "source": [
    "r = requests.get(ols_ontologies_url)\n",
    "rj = json.loads(r.content)\n",
    "# only up to mid 200s now. Not bothering with pagination\n",
    "rj[\"page\"][\"totalPages\"]"
   ]
  },
  {
   "cell_type": "code",
   "execution_count": 26,
   "id": "d2e716a2",
   "metadata": {
    "ExecuteTime": {
     "end_time": "2021-08-26T02:46:05.692529Z",
     "start_time": "2021-08-26T02:46:05.687999Z"
    }
   },
   "outputs": [],
   "source": [
    "# ols_ontology_ids = []\n",
    "ols_ontology_ids = {}\n",
    "ols_ontology_list = rj[\"_embedded\"][\"ontologies\"]\n",
    "# dict comprehension?\n",
    "for ontology in ols_ontology_list:\n",
    "    #     ols_ontology_ids.append(ontology[\"ontologyId\"])\n",
    "    if \"config\" in ontology:\n",
    "        if \"preferredPrefix\" in ontology[\"config\"]:\n",
    "            ols_ontology_ids[ontology[\"ontologyId\"]] = ontology[\"config\"][\n",
    "                \"preferredPrefix\"\n",
    "            ]\n",
    "    else:\n",
    "        ols_ontology_ids[ontology[\"ontologyId\"]] = \"\"\n",
    "\n",
    "## preferredPrefix says \"NCBITAXON\" not \"NCBITaxon\""
   ]
  },
  {
   "cell_type": "code",
   "execution_count": 27,
   "id": "66fd8f2e",
   "metadata": {
    "ExecuteTime": {
     "end_time": "2021-08-26T02:46:05.706075Z",
     "start_time": "2021-08-26T02:46:05.703376Z"
    }
   },
   "outputs": [],
   "source": [
    "ols_ontology_id_list = list(ols_ontology_ids.keys())"
   ]
  },
  {
   "cell_type": "code",
   "execution_count": 28,
   "id": "0668bada",
   "metadata": {
    "ExecuteTime": {
     "end_time": "2021-08-26T02:46:05.711147Z",
     "start_time": "2021-08-26T02:46:05.707887Z"
    }
   },
   "outputs": [],
   "source": [
    "claimed_prefixes = set(prefix_count[\"prefix\"])"
   ]
  },
  {
   "cell_type": "code",
   "execution_count": 29,
   "id": "c91d5b14",
   "metadata": {
    "ExecuteTime": {
     "end_time": "2021-08-26T02:46:05.717502Z",
     "start_time": "2021-08-26T02:46:05.713029Z"
    }
   },
   "outputs": [
    {
     "data": {
      "text/plain": [
       "['seawater', 'env']"
      ]
     },
     "execution_count": 29,
     "metadata": {},
     "output_type": "execute_result"
    }
   ],
   "source": [
    "ols_doesnt_recognize = list(claimed_prefixes - set(ols_ontology_id_list))\n",
    "ols_doesnt_recognize"
   ]
  },
  {
   "cell_type": "code",
   "execution_count": 30,
   "id": "c363ef19",
   "metadata": {
    "ExecuteTime": {
     "end_time": "2021-08-26T02:46:05.723683Z",
     "start_time": "2021-08-26T02:46:05.719215Z"
    }
   },
   "outputs": [
    {
     "data": {
      "text/plain": [
       "['efo', 'pco', 'envo', 'eol', 'chebi', 'obi', 'foodon', 'uberon', 'po']"
      ]
     },
     "execution_count": 30,
     "metadata": {},
     "output_type": "execute_result"
    }
   ],
   "source": [
    "claimed_recognized = list(claimed_prefixes.intersection(set(ols_ontology_id_list)))\n",
    "claimed_recognized"
   ]
  },
  {
   "cell_type": "markdown",
   "id": "4433e6a2",
   "metadata": {},
   "source": [
    "_could manually assert  env -> envo_"
   ]
  },
  {
   "cell_type": "code",
   "execution_count": 31,
   "id": "b1501f54",
   "metadata": {
    "ExecuteTime": {
     "end_time": "2021-08-26T02:46:05.729379Z",
     "start_time": "2021-08-26T02:46:05.725675Z"
    }
   },
   "outputs": [],
   "source": [
    "prefix_count[\"recognized\"] = prefix_count[\"prefix\"].isin(claimed_recognized)"
   ]
  },
  {
   "cell_type": "code",
   "execution_count": 32,
   "id": "144f41f5",
   "metadata": {
    "ExecuteTime": {
     "end_time": "2021-08-26T02:46:05.734662Z",
     "start_time": "2021-08-26T02:46:05.731036Z"
    }
   },
   "outputs": [],
   "source": [
    "temp = prefix_count[[\"prefix\", \"recognized\"]]\n",
    "temp.columns = [\"prefix_lower\", \"recognized\"]"
   ]
  },
  {
   "cell_type": "code",
   "execution_count": 33,
   "id": "9072708d",
   "metadata": {
    "ExecuteTime": {
     "end_time": "2021-08-26T02:46:05.742922Z",
     "start_time": "2021-08-26T02:46:05.736501Z"
    }
   },
   "outputs": [],
   "source": [
    "extract_count = pd.merge(\n",
    "    extract_count, temp, left_on=\"prefix_lower\", right_on=\"prefix_lower\", how=\"left\"\n",
    ")"
   ]
  },
  {
   "cell_type": "code",
   "execution_count": 34,
   "id": "66ed0d47",
   "metadata": {
    "ExecuteTime": {
     "end_time": "2021-08-26T02:46:05.748549Z",
     "start_time": "2021-08-26T02:46:05.744587Z"
    }
   },
   "outputs": [],
   "source": [
    "extracted_recognized_list = extract_count[\"reconstituted\"].loc[\n",
    "    extract_count[\"recognized\"]\n",
    "]\n",
    "extracted_recognized_list.sort_values(inplace=True)"
   ]
  },
  {
   "cell_type": "markdown",
   "id": "c9cbd711",
   "metadata": {},
   "source": [
    "Look up labels for term ids that could be parsed out of the annotations"
   ]
  },
  {
   "cell_type": "code",
   "execution_count": 35,
   "id": "5a853839",
   "metadata": {
    "ExecuteTime": {
     "end_time": "2021-08-26T02:46:05.753036Z",
     "start_time": "2021-08-26T02:46:05.750453Z"
    }
   },
   "outputs": [],
   "source": [
    "# term_to_label = {}\n",
    "# for term in extracted_recognized_list:\n",
    "#     print(term)\n",
    "#     r = requests.get(findByIdAndIsDefiningOntology_url + term)\n",
    "#     if r.status_code == 200:\n",
    "#         temp = json.loads(r.content)\n",
    "#         if \"_embedded\" in temp:\n",
    "#             if \"terms\" in temp[\"_embedded\"]:\n",
    "#                 # list. assume 0 or 1?\n",
    "#                 #   as opposed to multiple hits for a single term in the defining ontology\n",
    "#                 if \"label\" in temp[\"_embedded\"][\"terms\"][0]:\n",
    "#                     print(temp[\"_embedded\"][\"terms\"][0][\"label\"])\n",
    "#                     term_to_label[term] = temp[\"_embedded\"][\"terms\"][0][\"label\"]"
   ]
  },
  {
   "cell_type": "code",
   "execution_count": 36,
   "id": "902120f4",
   "metadata": {
    "ExecuteTime": {
     "end_time": "2021-08-26T02:46:05.757253Z",
     "start_time": "2021-08-26T02:46:05.754878Z"
    }
   },
   "outputs": [],
   "source": [
    "# use this as a cache to minimize OLS API REST calls\n",
    "# term_to_label = pd.DataFrame(term_to_label.items(), columns=[\"id\", \"label\"])"
   ]
  },
  {
   "cell_type": "code",
   "execution_count": 37,
   "id": "f0092332",
   "metadata": {
    "ExecuteTime": {
     "end_time": "2021-08-26T02:46:05.761571Z",
     "start_time": "2021-08-26T02:46:05.758922Z"
    }
   },
   "outputs": [],
   "source": [
    "# term_to_label.to_sql(\n",
    "#     \"term_to_label\",\n",
    "#     connection,\n",
    "#     if_exists=\"append\",\n",
    "#     index=False,\n",
    "#     index_label=None,\n",
    "#     chunksize=None,\n",
    "#     dtype=None,\n",
    "#     method=None,\n",
    "# )"
   ]
  },
  {
   "cell_type": "code",
   "execution_count": 38,
   "id": "04ddf6d1",
   "metadata": {
    "ExecuteTime": {
     "end_time": "2021-08-26T02:46:05.768448Z",
     "start_time": "2021-08-26T02:46:05.763821Z"
    }
   },
   "outputs": [],
   "source": [
    "term_to_label = pd.read_sql(\n",
    "    \"select * from term_to_label\",\n",
    "    connection,\n",
    "    index_col=None,\n",
    "    coerce_float=False,\n",
    "    params=None,\n",
    "    parse_dates=None,\n",
    "    columns=None,\n",
    "    chunksize=None,\n",
    ")"
   ]
  },
  {
   "cell_type": "code",
   "execution_count": 39,
   "id": "6a558f96",
   "metadata": {
    "ExecuteTime": {
     "end_time": "2021-08-26T02:46:05.775324Z",
     "start_time": "2021-08-26T02:46:05.770466Z"
    }
   },
   "outputs": [],
   "source": [
    "extract_count = pd.merge(\n",
    "    extract_count, term_to_label, left_on=\"reconstituted\", right_on=\"id\", how=\"left\"\n",
    ")"
   ]
  },
  {
   "cell_type": "code",
   "execution_count": 41,
   "id": "136391c0",
   "metadata": {
    "ExecuteTime": {
     "end_time": "2021-08-26T02:46:05.791095Z",
     "start_time": "2021-08-26T02:46:05.781498Z"
    }
   },
   "outputs": [],
   "source": [
    "wtl_value_counts = pd.merge(\n",
    "    wtl_value_counts,\n",
    "    extract_count,\n",
    "    how=\"left\",\n",
    "    on=\"extract\",\n",
    "    suffixes=(\"_annot\", \"_extr\"),\n",
    ")"
   ]
  },
  {
   "cell_type": "code",
   "execution_count": 42,
   "id": "d5c53eac",
   "metadata": {
    "ExecuteTime": {
     "end_time": "2021-08-26T02:46:05.805777Z",
     "start_time": "2021-08-26T02:46:05.792600Z"
    }
   },
   "outputs": [],
   "source": [
    "wtl_value_counts[\"depleted\"] = wtl_value_counts[\"value\"].replace(\n",
    "    value=\"\", inplace=False, limit=None, regex=obo_pattern\n",
    ")"
   ]
  },
  {
   "cell_type": "code",
   "execution_count": 43,
   "id": "dca7c597",
   "metadata": {
    "ExecuteTime": {
     "end_time": "2021-08-26T02:46:05.817085Z",
     "start_time": "2021-08-26T02:46:05.807627Z"
    }
   },
   "outputs": [
    {
     "name": "stderr",
     "output_type": "stream",
     "text": [
      "/var/folders/vt/f297tpjn6n1b6dwkcwhhnmxm0000gp/T/ipykernel_41992/1205103326.py:5: FutureWarning: The default value of regex will change from True to False in a future version.\n",
      "  term_to_label[\"tidy\"] = term_to_label[\"tidy\"].str.replace(\n"
     ]
    }
   ],
   "source": [
    "term_to_label[\"tidy\"] = term_to_label[\"label\"]\n",
    "term_to_label[\"tidy\"] = term_to_label[\"tidy\"].str.lower()\n",
    "\n",
    "# replace punctuation\n",
    "term_to_label[\"tidy\"] = term_to_label[\"tidy\"].str.replace(\n",
    "    \"[{}]\".format(string.punctuation), \" \"\n",
    ")\n",
    "\n",
    "term_to_label[\"tidy\"] = term_to_label[\"tidy\"].str.strip()\n",
    "term_to_label[\"tidy\"] = term_to_label[\"tidy\"].replace(\n",
    "    value=\" \", inplace=False, limit=None, regex=\" +\"\n",
    ")\n",
    "\n",
    "# refactor!"
   ]
  },
  {
   "cell_type": "code",
   "execution_count": 44,
   "id": "b9819207",
   "metadata": {
    "ExecuteTime": {
     "end_time": "2021-08-26T02:46:05.920670Z",
     "start_time": "2021-08-26T02:46:05.819208Z"
    }
   },
   "outputs": [
    {
     "name": "stderr",
     "output_type": "stream",
     "text": [
      "/var/folders/vt/f297tpjn6n1b6dwkcwhhnmxm0000gp/T/ipykernel_41992/2178637703.py:7: FutureWarning: The default value of regex will change from True to False in a future version.\n",
      "  wtl_value_counts[\"tidy\"] = wtl_value_counts[\"tidy\"].str.replace(\n"
     ]
    }
   ],
   "source": [
    "# wtl_value_counts['tidy'] = scoped_mapping.whiteout...\n",
    "\n",
    "wtl_value_counts[\"tidy\"] = wtl_value_counts[\"depleted\"]\n",
    "wtl_value_counts[\"tidy\"] = wtl_value_counts[\"tidy\"].str.lower()\n",
    "\n",
    "# replace punctuation\n",
    "wtl_value_counts[\"tidy\"] = wtl_value_counts[\"tidy\"].str.replace(\n",
    "    \"[{}]\".format(string.punctuation), \" \"\n",
    ")\n",
    "\n",
    "wtl_value_counts[\"tidy\"] = wtl_value_counts[\"tidy\"].str.strip()\n",
    "wtl_value_counts[\"tidy\"] = wtl_value_counts[\"tidy\"].replace(\n",
    "    value=\" \", inplace=False, limit=None, regex=\" +\"\n",
    ")\n",
    "\n",
    "# replace or utilize ontology name prefixes (before text, not numbers)\n",
    "preflist = list(prefix_count[\"prefix\"].loc[prefix_count[\"recognized\"]])\n",
    "for prefix in preflist:\n",
    "    anchored = \"^\" + prefix + \" \"\n",
    "    wtl_value_counts[\"tidy\"] = wtl_value_counts[\"tidy\"].replace(\n",
    "        value=\"\", inplace=False, limit=None, regex=anchored\n",
    "    )\n",
    "\n",
    "# propigate labels that were already looked up from terms?\n",
    "temp = term_to_label[[\"tidy\", \"id\"]]\n",
    "wtl_value_counts = pd.merge(\n",
    "    wtl_value_counts,\n",
    "    temp,\n",
    "    left_on=\"tidy\",\n",
    "    right_on=\"tidy\",\n",
    "    how=\"left\",\n",
    "    suffixes=(\"_orig\", \"_backtrack\"),\n",
    ")\n",
    "\n",
    "wtl_value_counts[\"id_consensus\"] = wtl_value_counts[\"id_orig\"].fillna(\n",
    "    wtl_value_counts[\"id_backtrack\"]\n",
    ")\n",
    "\n",
    "# don't pursue tidy terms that only appear once\n",
    "#   but what about numerical suffixes like fish lung 1, fish lung 2, etc>"
   ]
  },
  {
   "cell_type": "code",
   "execution_count": 45,
   "id": "9635168a",
   "metadata": {
    "ExecuteTime": {
     "end_time": "2021-08-26T02:46:05.980798Z",
     "start_time": "2021-08-26T02:46:05.922317Z"
    }
   },
   "outputs": [],
   "source": [
    "wtl_value_counts.to_clipboard(index=False)"
   ]
  },
  {
   "cell_type": "code",
   "execution_count": 46,
   "id": "2e5ad5b3",
   "metadata": {
    "ExecuteTime": {
     "end_time": "2021-08-26T02:46:06.010905Z",
     "start_time": "2021-08-26T02:46:05.982844Z"
    }
   },
   "outputs": [],
   "source": [
    "singletons = wtl_value_counts[\"tidy\"].loc[\n",
    "    wtl_value_counts[\"count_annot\"] == 1 & wtl_value_counts[\"id_consensus\"].isna()\n",
    "]\n",
    "singletons = singletons.value_counts().to_frame()\n",
    "singletons.reset_index(level=0, inplace=True)\n",
    "singletons.columns = [\"value\", \"count\"]\n",
    "\n",
    "singletons[\"strlen\"] = singletons[\"value\"].str.len()\n",
    "singletons[\"pursue\"] = singletons[\"count\"] == 1 & singletons[\"strlen\"].gt(0)\n",
    "singletons = singletons.loc[singletons[\"pursue\"]]\n",
    "\n",
    "singletons[\"generalized\"] = singletons[\"value\"].replace(\n",
    "    value=\"\", inplace=False, limit=None, regex=\"[ 0-9]+$\"\n",
    ")\n",
    "\n",
    "generalized = singletons[\"generalized\"].value_counts().to_frame()\n",
    "generalized.reset_index(level=0, inplace=True)\n",
    "generalized.columns = [\"generalized\", \"count\"]\n",
    "generalized[\"strlen\"] = generalized[\"generalized\"].str.len()\n",
    "\n",
    "singletons = pd.merge(\n",
    "    singletons,\n",
    "    generalized,\n",
    "    left_on=\"generalized\",\n",
    "    right_on=\"generalized\",\n",
    "    how=\"left\",\n",
    "    suffixes=(\"_s\", \"_g\"),\n",
    ")\n",
    "\n",
    "gen_useful = singletons.loc[singletons[\"count_g\"].gt(1) & singletons[\"strlen_g\"].gt(2)]\n",
    "\n",
    "gen_useful = gen_useful[[\"value\", \"generalized\"]]\n",
    "\n",
    "# also remove \" from.*$\" ?\n",
    "\n",
    "# words = np.asarray(temp['value'].loc[temp['use_for_clust']])"
   ]
  },
  {
   "cell_type": "code",
   "execution_count": 47,
   "id": "02805d1d",
   "metadata": {
    "ExecuteTime": {
     "end_time": "2021-08-26T02:46:06.043552Z",
     "start_time": "2021-08-26T02:46:06.012561Z"
    }
   },
   "outputs": [],
   "source": [
    "gen_useful.to_clipboard(index=False)"
   ]
  },
  {
   "cell_type": "code",
   "execution_count": 48,
   "id": "4af3a13b",
   "metadata": {
    "ExecuteTime": {
     "end_time": "2021-08-26T02:46:06.059570Z",
     "start_time": "2021-08-26T02:46:06.045685Z"
    }
   },
   "outputs": [],
   "source": [
    "wtl_value_counts = pd.merge(\n",
    "    wtl_value_counts, gen_useful, how=\"left\", left_on=\"value\", right_on=\"value\"\n",
    ")"
   ]
  },
  {
   "cell_type": "code",
   "execution_count": 49,
   "id": "19dd2a93",
   "metadata": {
    "ExecuteTime": {
     "end_time": "2021-08-26T02:46:06.066061Z",
     "start_time": "2021-08-26T02:46:06.061087Z"
    }
   },
   "outputs": [],
   "source": [
    "wtl_value_counts[\"generalized_consensus\"] = wtl_value_counts[\"generalized\"].fillna(\n",
    "    wtl_value_counts[\"tidy\"]\n",
    ")"
   ]
  },
  {
   "cell_type": "code",
   "execution_count": 50,
   "id": "b3694dc3",
   "metadata": {
    "ExecuteTime": {
     "end_time": "2021-08-26T02:46:06.129889Z",
     "start_time": "2021-08-26T02:46:06.067605Z"
    }
   },
   "outputs": [],
   "source": [
    "wtl_value_counts.to_clipboard(index=False)"
   ]
  },
  {
   "cell_type": "code",
   "execution_count": 51,
   "id": "4b14709c",
   "metadata": {
    "ExecuteTime": {
     "end_time": "2021-08-26T02:46:06.135885Z",
     "start_time": "2021-08-26T02:46:06.132441Z"
    }
   },
   "outputs": [],
   "source": [
    "min_count = 10\n",
    "elected_ontologies = \"envo,micro,fma,uberon,ncbitaxon,foodon,ma,efo,chebi,agro,pato,doid,mondo,obi,pr,hp,po\""
   ]
  },
  {
   "cell_type": "code",
   "execution_count": 52,
   "id": "add446a0",
   "metadata": {
    "ExecuteTime": {
     "end_time": "2021-08-26T02:46:06.155504Z",
     "start_time": "2021-08-26T02:46:06.137567Z"
    }
   },
   "outputs": [],
   "source": [
    "raw_list = (\n",
    "    wtl_value_counts.loc[wtl_value_counts[\"id_consensus\"].isna()]\n",
    "    .groupby(by=[\"generalized_consensus\"])\n",
    "    .sum()\n",
    ")\n",
    "\n",
    "raw_list.reset_index(level=0, inplace=True)\n",
    "\n",
    "raw_list = list(\n",
    "    raw_list[\"generalized_consensus\"].loc[raw_list[\"count_annot\"].ge(min_count)]\n",
    ")\n",
    "\n",
    "list_len = len(raw_list)\n",
    "\n",
    "# skip blanks or all numbers"
   ]
  },
  {
   "cell_type": "code",
   "execution_count": 53,
   "id": "736c304b",
   "metadata": {
    "ExecuteTime": {
     "end_time": "2021-08-26T02:46:06.160017Z",
     "start_time": "2021-08-26T02:46:06.157779Z"
    }
   },
   "outputs": [],
   "source": [
    "# raw_list"
   ]
  },
  {
   "cell_type": "markdown",
   "id": "0e1220a2",
   "metadata": {},
   "source": [
    "This times out or errors out sometimes. Make sure computer doesn't go to sleep.\n",
    "\n",
    "Cache it!"
   ]
  },
  {
   "cell_type": "code",
   "execution_count": 54,
   "id": "1a69b3c0",
   "metadata": {
    "ExecuteTime": {
     "end_time": "2021-08-26T03:33:20.648921Z",
     "start_time": "2021-08-26T02:46:06.161627Z"
    }
   },
   "outputs": [
    {
     "name": "stdout",
     "output_type": "stream",
     "text": [
      "envo,micro,fma,uberon,ncbitaxon,foodon,ma,efo,chebi,agro,pato,doid,mondo,obi,pr,hp,po\n",
      "10\n",
      "1119\n"
     ]
    },
    {
     "ename": "ConnectionError",
     "evalue": "('Connection aborted.', OSError(50, 'Network is down'))",
     "output_type": "error",
     "traceback": [
      "\u001b[0;31m---------------------------------------------------------------------------\u001b[0m",
      "\u001b[0;31mOSError\u001b[0m                                   Traceback (most recent call last)",
      "\u001b[0;32m~/Documents/gitrepos/scoped-mapping/venv/lib/python3.9/site-packages/urllib3/connectionpool.py\u001b[0m in \u001b[0;36murlopen\u001b[0;34m(self, method, url, body, headers, retries, redirect, assert_same_host, timeout, pool_timeout, release_conn, chunked, body_pos, **response_kw)\u001b[0m\n\u001b[1;32m    698\u001b[0m             \u001b[0;31m# Make the request on the httplib connection object.\u001b[0m\u001b[0;34m\u001b[0m\u001b[0;34m\u001b[0m\u001b[0;34m\u001b[0m\u001b[0m\n\u001b[0;32m--> 699\u001b[0;31m             httplib_response = self._make_request(\n\u001b[0m\u001b[1;32m    700\u001b[0m                 \u001b[0mconn\u001b[0m\u001b[0;34m,\u001b[0m\u001b[0;34m\u001b[0m\u001b[0;34m\u001b[0m\u001b[0m\n",
      "\u001b[0;32m~/Documents/gitrepos/scoped-mapping/venv/lib/python3.9/site-packages/urllib3/connectionpool.py\u001b[0m in \u001b[0;36m_make_request\u001b[0;34m(self, conn, method, url, timeout, chunked, **httplib_request_kw)\u001b[0m\n\u001b[1;32m    444\u001b[0m                     \u001b[0;31m# Otherwise it looks like a bug in the code.\u001b[0m\u001b[0;34m\u001b[0m\u001b[0;34m\u001b[0m\u001b[0;34m\u001b[0m\u001b[0m\n\u001b[0;32m--> 445\u001b[0;31m                     \u001b[0msix\u001b[0m\u001b[0;34m.\u001b[0m\u001b[0mraise_from\u001b[0m\u001b[0;34m(\u001b[0m\u001b[0me\u001b[0m\u001b[0;34m,\u001b[0m \u001b[0;32mNone\u001b[0m\u001b[0;34m)\u001b[0m\u001b[0;34m\u001b[0m\u001b[0;34m\u001b[0m\u001b[0m\n\u001b[0m\u001b[1;32m    446\u001b[0m         \u001b[0;32mexcept\u001b[0m \u001b[0;34m(\u001b[0m\u001b[0mSocketTimeout\u001b[0m\u001b[0;34m,\u001b[0m \u001b[0mBaseSSLError\u001b[0m\u001b[0;34m,\u001b[0m \u001b[0mSocketError\u001b[0m\u001b[0;34m)\u001b[0m \u001b[0;32mas\u001b[0m \u001b[0me\u001b[0m\u001b[0;34m:\u001b[0m\u001b[0;34m\u001b[0m\u001b[0;34m\u001b[0m\u001b[0m\n",
      "\u001b[0;32m~/Documents/gitrepos/scoped-mapping/venv/lib/python3.9/site-packages/urllib3/packages/six.py\u001b[0m in \u001b[0;36mraise_from\u001b[0;34m(value, from_value)\u001b[0m\n",
      "\u001b[0;32m~/Documents/gitrepos/scoped-mapping/venv/lib/python3.9/site-packages/urllib3/connectionpool.py\u001b[0m in \u001b[0;36m_make_request\u001b[0;34m(self, conn, method, url, timeout, chunked, **httplib_request_kw)\u001b[0m\n\u001b[1;32m    439\u001b[0m                 \u001b[0;32mtry\u001b[0m\u001b[0;34m:\u001b[0m\u001b[0;34m\u001b[0m\u001b[0;34m\u001b[0m\u001b[0m\n\u001b[0;32m--> 440\u001b[0;31m                     \u001b[0mhttplib_response\u001b[0m \u001b[0;34m=\u001b[0m \u001b[0mconn\u001b[0m\u001b[0;34m.\u001b[0m\u001b[0mgetresponse\u001b[0m\u001b[0;34m(\u001b[0m\u001b[0;34m)\u001b[0m\u001b[0;34m\u001b[0m\u001b[0;34m\u001b[0m\u001b[0m\n\u001b[0m\u001b[1;32m    441\u001b[0m                 \u001b[0;32mexcept\u001b[0m \u001b[0mBaseException\u001b[0m \u001b[0;32mas\u001b[0m \u001b[0me\u001b[0m\u001b[0;34m:\u001b[0m\u001b[0;34m\u001b[0m\u001b[0;34m\u001b[0m\u001b[0m\n",
      "\u001b[0;32m/usr/local/Cellar/python@3.9/3.9.6/Frameworks/Python.framework/Versions/3.9/lib/python3.9/http/client.py\u001b[0m in \u001b[0;36mgetresponse\u001b[0;34m(self)\u001b[0m\n\u001b[1;32m   1348\u001b[0m             \u001b[0;32mtry\u001b[0m\u001b[0;34m:\u001b[0m\u001b[0;34m\u001b[0m\u001b[0;34m\u001b[0m\u001b[0m\n\u001b[0;32m-> 1349\u001b[0;31m                 \u001b[0mresponse\u001b[0m\u001b[0;34m.\u001b[0m\u001b[0mbegin\u001b[0m\u001b[0;34m(\u001b[0m\u001b[0;34m)\u001b[0m\u001b[0;34m\u001b[0m\u001b[0;34m\u001b[0m\u001b[0m\n\u001b[0m\u001b[1;32m   1350\u001b[0m             \u001b[0;32mexcept\u001b[0m \u001b[0mConnectionError\u001b[0m\u001b[0;34m:\u001b[0m\u001b[0;34m\u001b[0m\u001b[0;34m\u001b[0m\u001b[0m\n",
      "\u001b[0;32m/usr/local/Cellar/python@3.9/3.9.6/Frameworks/Python.framework/Versions/3.9/lib/python3.9/http/client.py\u001b[0m in \u001b[0;36mbegin\u001b[0;34m(self)\u001b[0m\n\u001b[1;32m    315\u001b[0m         \u001b[0;32mwhile\u001b[0m \u001b[0;32mTrue\u001b[0m\u001b[0;34m:\u001b[0m\u001b[0;34m\u001b[0m\u001b[0;34m\u001b[0m\u001b[0m\n\u001b[0;32m--> 316\u001b[0;31m             \u001b[0mversion\u001b[0m\u001b[0;34m,\u001b[0m \u001b[0mstatus\u001b[0m\u001b[0;34m,\u001b[0m \u001b[0mreason\u001b[0m \u001b[0;34m=\u001b[0m \u001b[0mself\u001b[0m\u001b[0;34m.\u001b[0m\u001b[0m_read_status\u001b[0m\u001b[0;34m(\u001b[0m\u001b[0;34m)\u001b[0m\u001b[0;34m\u001b[0m\u001b[0;34m\u001b[0m\u001b[0m\n\u001b[0m\u001b[1;32m    317\u001b[0m             \u001b[0;32mif\u001b[0m \u001b[0mstatus\u001b[0m \u001b[0;34m!=\u001b[0m \u001b[0mCONTINUE\u001b[0m\u001b[0;34m:\u001b[0m\u001b[0;34m\u001b[0m\u001b[0;34m\u001b[0m\u001b[0m\n",
      "\u001b[0;32m/usr/local/Cellar/python@3.9/3.9.6/Frameworks/Python.framework/Versions/3.9/lib/python3.9/http/client.py\u001b[0m in \u001b[0;36m_read_status\u001b[0;34m(self)\u001b[0m\n\u001b[1;32m    276\u001b[0m     \u001b[0;32mdef\u001b[0m \u001b[0m_read_status\u001b[0m\u001b[0;34m(\u001b[0m\u001b[0mself\u001b[0m\u001b[0;34m)\u001b[0m\u001b[0;34m:\u001b[0m\u001b[0;34m\u001b[0m\u001b[0;34m\u001b[0m\u001b[0m\n\u001b[0;32m--> 277\u001b[0;31m         \u001b[0mline\u001b[0m \u001b[0;34m=\u001b[0m \u001b[0mstr\u001b[0m\u001b[0;34m(\u001b[0m\u001b[0mself\u001b[0m\u001b[0;34m.\u001b[0m\u001b[0mfp\u001b[0m\u001b[0;34m.\u001b[0m\u001b[0mreadline\u001b[0m\u001b[0;34m(\u001b[0m\u001b[0m_MAXLINE\u001b[0m \u001b[0;34m+\u001b[0m \u001b[0;36m1\u001b[0m\u001b[0;34m)\u001b[0m\u001b[0;34m,\u001b[0m \u001b[0;34m\"iso-8859-1\"\u001b[0m\u001b[0;34m)\u001b[0m\u001b[0;34m\u001b[0m\u001b[0;34m\u001b[0m\u001b[0m\n\u001b[0m\u001b[1;32m    278\u001b[0m         \u001b[0;32mif\u001b[0m \u001b[0mlen\u001b[0m\u001b[0;34m(\u001b[0m\u001b[0mline\u001b[0m\u001b[0;34m)\u001b[0m \u001b[0;34m>\u001b[0m \u001b[0m_MAXLINE\u001b[0m\u001b[0;34m:\u001b[0m\u001b[0;34m\u001b[0m\u001b[0;34m\u001b[0m\u001b[0m\n",
      "\u001b[0;32m/usr/local/Cellar/python@3.9/3.9.6/Frameworks/Python.framework/Versions/3.9/lib/python3.9/socket.py\u001b[0m in \u001b[0;36mreadinto\u001b[0;34m(self, b)\u001b[0m\n\u001b[1;32m    703\u001b[0m             \u001b[0;32mtry\u001b[0m\u001b[0;34m:\u001b[0m\u001b[0;34m\u001b[0m\u001b[0;34m\u001b[0m\u001b[0m\n\u001b[0;32m--> 704\u001b[0;31m                 \u001b[0;32mreturn\u001b[0m \u001b[0mself\u001b[0m\u001b[0;34m.\u001b[0m\u001b[0m_sock\u001b[0m\u001b[0;34m.\u001b[0m\u001b[0mrecv_into\u001b[0m\u001b[0;34m(\u001b[0m\u001b[0mb\u001b[0m\u001b[0;34m)\u001b[0m\u001b[0;34m\u001b[0m\u001b[0;34m\u001b[0m\u001b[0m\n\u001b[0m\u001b[1;32m    705\u001b[0m             \u001b[0;32mexcept\u001b[0m \u001b[0mtimeout\u001b[0m\u001b[0;34m:\u001b[0m\u001b[0;34m\u001b[0m\u001b[0;34m\u001b[0m\u001b[0m\n",
      "\u001b[0;32m/usr/local/Cellar/python@3.9/3.9.6/Frameworks/Python.framework/Versions/3.9/lib/python3.9/ssl.py\u001b[0m in \u001b[0;36mrecv_into\u001b[0;34m(self, buffer, nbytes, flags)\u001b[0m\n\u001b[1;32m   1240\u001b[0m                   self.__class__)\n\u001b[0;32m-> 1241\u001b[0;31m             \u001b[0;32mreturn\u001b[0m \u001b[0mself\u001b[0m\u001b[0;34m.\u001b[0m\u001b[0mread\u001b[0m\u001b[0;34m(\u001b[0m\u001b[0mnbytes\u001b[0m\u001b[0;34m,\u001b[0m \u001b[0mbuffer\u001b[0m\u001b[0;34m)\u001b[0m\u001b[0;34m\u001b[0m\u001b[0;34m\u001b[0m\u001b[0m\n\u001b[0m\u001b[1;32m   1242\u001b[0m         \u001b[0;32melse\u001b[0m\u001b[0;34m:\u001b[0m\u001b[0;34m\u001b[0m\u001b[0;34m\u001b[0m\u001b[0m\n",
      "\u001b[0;32m/usr/local/Cellar/python@3.9/3.9.6/Frameworks/Python.framework/Versions/3.9/lib/python3.9/ssl.py\u001b[0m in \u001b[0;36mread\u001b[0;34m(self, len, buffer)\u001b[0m\n\u001b[1;32m   1098\u001b[0m             \u001b[0;32mif\u001b[0m \u001b[0mbuffer\u001b[0m \u001b[0;32mis\u001b[0m \u001b[0;32mnot\u001b[0m \u001b[0;32mNone\u001b[0m\u001b[0;34m:\u001b[0m\u001b[0;34m\u001b[0m\u001b[0;34m\u001b[0m\u001b[0m\n\u001b[0;32m-> 1099\u001b[0;31m                 \u001b[0;32mreturn\u001b[0m \u001b[0mself\u001b[0m\u001b[0;34m.\u001b[0m\u001b[0m_sslobj\u001b[0m\u001b[0;34m.\u001b[0m\u001b[0mread\u001b[0m\u001b[0;34m(\u001b[0m\u001b[0mlen\u001b[0m\u001b[0;34m,\u001b[0m \u001b[0mbuffer\u001b[0m\u001b[0;34m)\u001b[0m\u001b[0;34m\u001b[0m\u001b[0;34m\u001b[0m\u001b[0m\n\u001b[0m\u001b[1;32m   1100\u001b[0m             \u001b[0;32melse\u001b[0m\u001b[0;34m:\u001b[0m\u001b[0;34m\u001b[0m\u001b[0;34m\u001b[0m\u001b[0m\n",
      "\u001b[0;31mOSError\u001b[0m: [Errno 50] Network is down",
      "\nDuring handling of the above exception, another exception occurred:\n",
      "\u001b[0;31mProtocolError\u001b[0m                             Traceback (most recent call last)",
      "\u001b[0;32m~/Documents/gitrepos/scoped-mapping/venv/lib/python3.9/site-packages/requests/adapters.py\u001b[0m in \u001b[0;36msend\u001b[0;34m(self, request, stream, timeout, verify, cert, proxies)\u001b[0m\n\u001b[1;32m    438\u001b[0m             \u001b[0;32mif\u001b[0m \u001b[0;32mnot\u001b[0m \u001b[0mchunked\u001b[0m\u001b[0;34m:\u001b[0m\u001b[0;34m\u001b[0m\u001b[0;34m\u001b[0m\u001b[0m\n\u001b[0;32m--> 439\u001b[0;31m                 resp = conn.urlopen(\n\u001b[0m\u001b[1;32m    440\u001b[0m                     \u001b[0mmethod\u001b[0m\u001b[0;34m=\u001b[0m\u001b[0mrequest\u001b[0m\u001b[0;34m.\u001b[0m\u001b[0mmethod\u001b[0m\u001b[0;34m,\u001b[0m\u001b[0;34m\u001b[0m\u001b[0;34m\u001b[0m\u001b[0m\n",
      "\u001b[0;32m~/Documents/gitrepos/scoped-mapping/venv/lib/python3.9/site-packages/urllib3/connectionpool.py\u001b[0m in \u001b[0;36murlopen\u001b[0;34m(self, method, url, body, headers, retries, redirect, assert_same_host, timeout, pool_timeout, release_conn, chunked, body_pos, **response_kw)\u001b[0m\n\u001b[1;32m    754\u001b[0m \u001b[0;34m\u001b[0m\u001b[0m\n\u001b[0;32m--> 755\u001b[0;31m             retries = retries.increment(\n\u001b[0m\u001b[1;32m    756\u001b[0m                 \u001b[0mmethod\u001b[0m\u001b[0;34m,\u001b[0m \u001b[0murl\u001b[0m\u001b[0;34m,\u001b[0m \u001b[0merror\u001b[0m\u001b[0;34m=\u001b[0m\u001b[0me\u001b[0m\u001b[0;34m,\u001b[0m \u001b[0m_pool\u001b[0m\u001b[0;34m=\u001b[0m\u001b[0mself\u001b[0m\u001b[0;34m,\u001b[0m \u001b[0m_stacktrace\u001b[0m\u001b[0;34m=\u001b[0m\u001b[0msys\u001b[0m\u001b[0;34m.\u001b[0m\u001b[0mexc_info\u001b[0m\u001b[0;34m(\u001b[0m\u001b[0;34m)\u001b[0m\u001b[0;34m[\u001b[0m\u001b[0;36m2\u001b[0m\u001b[0;34m]\u001b[0m\u001b[0;34m\u001b[0m\u001b[0;34m\u001b[0m\u001b[0m\n",
      "\u001b[0;32m~/Documents/gitrepos/scoped-mapping/venv/lib/python3.9/site-packages/urllib3/util/retry.py\u001b[0m in \u001b[0;36mincrement\u001b[0;34m(self, method, url, response, error, _pool, _stacktrace)\u001b[0m\n\u001b[1;32m    531\u001b[0m             \u001b[0;32mif\u001b[0m \u001b[0mread\u001b[0m \u001b[0;32mis\u001b[0m \u001b[0;32mFalse\u001b[0m \u001b[0;32mor\u001b[0m \u001b[0;32mnot\u001b[0m \u001b[0mself\u001b[0m\u001b[0;34m.\u001b[0m\u001b[0m_is_method_retryable\u001b[0m\u001b[0;34m(\u001b[0m\u001b[0mmethod\u001b[0m\u001b[0;34m)\u001b[0m\u001b[0;34m:\u001b[0m\u001b[0;34m\u001b[0m\u001b[0;34m\u001b[0m\u001b[0m\n\u001b[0;32m--> 532\u001b[0;31m                 \u001b[0;32mraise\u001b[0m \u001b[0msix\u001b[0m\u001b[0;34m.\u001b[0m\u001b[0mreraise\u001b[0m\u001b[0;34m(\u001b[0m\u001b[0mtype\u001b[0m\u001b[0;34m(\u001b[0m\u001b[0merror\u001b[0m\u001b[0;34m)\u001b[0m\u001b[0;34m,\u001b[0m \u001b[0merror\u001b[0m\u001b[0;34m,\u001b[0m \u001b[0m_stacktrace\u001b[0m\u001b[0;34m)\u001b[0m\u001b[0;34m\u001b[0m\u001b[0;34m\u001b[0m\u001b[0m\n\u001b[0m\u001b[1;32m    533\u001b[0m             \u001b[0;32melif\u001b[0m \u001b[0mread\u001b[0m \u001b[0;32mis\u001b[0m \u001b[0;32mnot\u001b[0m \u001b[0;32mNone\u001b[0m\u001b[0;34m:\u001b[0m\u001b[0;34m\u001b[0m\u001b[0;34m\u001b[0m\u001b[0m\n",
      "\u001b[0;32m~/Documents/gitrepos/scoped-mapping/venv/lib/python3.9/site-packages/urllib3/packages/six.py\u001b[0m in \u001b[0;36mreraise\u001b[0;34m(tp, value, tb)\u001b[0m\n\u001b[1;32m    768\u001b[0m             \u001b[0;32mif\u001b[0m \u001b[0mvalue\u001b[0m\u001b[0;34m.\u001b[0m\u001b[0m__traceback__\u001b[0m \u001b[0;32mis\u001b[0m \u001b[0;32mnot\u001b[0m \u001b[0mtb\u001b[0m\u001b[0;34m:\u001b[0m\u001b[0;34m\u001b[0m\u001b[0;34m\u001b[0m\u001b[0m\n\u001b[0;32m--> 769\u001b[0;31m                 \u001b[0;32mraise\u001b[0m \u001b[0mvalue\u001b[0m\u001b[0;34m.\u001b[0m\u001b[0mwith_traceback\u001b[0m\u001b[0;34m(\u001b[0m\u001b[0mtb\u001b[0m\u001b[0;34m)\u001b[0m\u001b[0;34m\u001b[0m\u001b[0;34m\u001b[0m\u001b[0m\n\u001b[0m\u001b[1;32m    770\u001b[0m             \u001b[0;32mraise\u001b[0m \u001b[0mvalue\u001b[0m\u001b[0;34m\u001b[0m\u001b[0;34m\u001b[0m\u001b[0m\n",
      "\u001b[0;32m~/Documents/gitrepos/scoped-mapping/venv/lib/python3.9/site-packages/urllib3/connectionpool.py\u001b[0m in \u001b[0;36murlopen\u001b[0;34m(self, method, url, body, headers, retries, redirect, assert_same_host, timeout, pool_timeout, release_conn, chunked, body_pos, **response_kw)\u001b[0m\n\u001b[1;32m    698\u001b[0m             \u001b[0;31m# Make the request on the httplib connection object.\u001b[0m\u001b[0;34m\u001b[0m\u001b[0;34m\u001b[0m\u001b[0;34m\u001b[0m\u001b[0m\n\u001b[0;32m--> 699\u001b[0;31m             httplib_response = self._make_request(\n\u001b[0m\u001b[1;32m    700\u001b[0m                 \u001b[0mconn\u001b[0m\u001b[0;34m,\u001b[0m\u001b[0;34m\u001b[0m\u001b[0;34m\u001b[0m\u001b[0m\n",
      "\u001b[0;32m~/Documents/gitrepos/scoped-mapping/venv/lib/python3.9/site-packages/urllib3/connectionpool.py\u001b[0m in \u001b[0;36m_make_request\u001b[0;34m(self, conn, method, url, timeout, chunked, **httplib_request_kw)\u001b[0m\n\u001b[1;32m    444\u001b[0m                     \u001b[0;31m# Otherwise it looks like a bug in the code.\u001b[0m\u001b[0;34m\u001b[0m\u001b[0;34m\u001b[0m\u001b[0;34m\u001b[0m\u001b[0m\n\u001b[0;32m--> 445\u001b[0;31m                     \u001b[0msix\u001b[0m\u001b[0;34m.\u001b[0m\u001b[0mraise_from\u001b[0m\u001b[0;34m(\u001b[0m\u001b[0me\u001b[0m\u001b[0;34m,\u001b[0m \u001b[0;32mNone\u001b[0m\u001b[0;34m)\u001b[0m\u001b[0;34m\u001b[0m\u001b[0;34m\u001b[0m\u001b[0m\n\u001b[0m\u001b[1;32m    446\u001b[0m         \u001b[0;32mexcept\u001b[0m \u001b[0;34m(\u001b[0m\u001b[0mSocketTimeout\u001b[0m\u001b[0;34m,\u001b[0m \u001b[0mBaseSSLError\u001b[0m\u001b[0;34m,\u001b[0m \u001b[0mSocketError\u001b[0m\u001b[0;34m)\u001b[0m \u001b[0;32mas\u001b[0m \u001b[0me\u001b[0m\u001b[0;34m:\u001b[0m\u001b[0;34m\u001b[0m\u001b[0;34m\u001b[0m\u001b[0m\n",
      "\u001b[0;32m~/Documents/gitrepos/scoped-mapping/venv/lib/python3.9/site-packages/urllib3/packages/six.py\u001b[0m in \u001b[0;36mraise_from\u001b[0;34m(value, from_value)\u001b[0m\n",
      "\u001b[0;32m~/Documents/gitrepos/scoped-mapping/venv/lib/python3.9/site-packages/urllib3/connectionpool.py\u001b[0m in \u001b[0;36m_make_request\u001b[0;34m(self, conn, method, url, timeout, chunked, **httplib_request_kw)\u001b[0m\n\u001b[1;32m    439\u001b[0m                 \u001b[0;32mtry\u001b[0m\u001b[0;34m:\u001b[0m\u001b[0;34m\u001b[0m\u001b[0;34m\u001b[0m\u001b[0m\n\u001b[0;32m--> 440\u001b[0;31m                     \u001b[0mhttplib_response\u001b[0m \u001b[0;34m=\u001b[0m \u001b[0mconn\u001b[0m\u001b[0;34m.\u001b[0m\u001b[0mgetresponse\u001b[0m\u001b[0;34m(\u001b[0m\u001b[0;34m)\u001b[0m\u001b[0;34m\u001b[0m\u001b[0;34m\u001b[0m\u001b[0m\n\u001b[0m\u001b[1;32m    441\u001b[0m                 \u001b[0;32mexcept\u001b[0m \u001b[0mBaseException\u001b[0m \u001b[0;32mas\u001b[0m \u001b[0me\u001b[0m\u001b[0;34m:\u001b[0m\u001b[0;34m\u001b[0m\u001b[0;34m\u001b[0m\u001b[0m\n",
      "\u001b[0;32m/usr/local/Cellar/python@3.9/3.9.6/Frameworks/Python.framework/Versions/3.9/lib/python3.9/http/client.py\u001b[0m in \u001b[0;36mgetresponse\u001b[0;34m(self)\u001b[0m\n\u001b[1;32m   1348\u001b[0m             \u001b[0;32mtry\u001b[0m\u001b[0;34m:\u001b[0m\u001b[0;34m\u001b[0m\u001b[0;34m\u001b[0m\u001b[0m\n\u001b[0;32m-> 1349\u001b[0;31m                 \u001b[0mresponse\u001b[0m\u001b[0;34m.\u001b[0m\u001b[0mbegin\u001b[0m\u001b[0;34m(\u001b[0m\u001b[0;34m)\u001b[0m\u001b[0;34m\u001b[0m\u001b[0;34m\u001b[0m\u001b[0m\n\u001b[0m\u001b[1;32m   1350\u001b[0m             \u001b[0;32mexcept\u001b[0m \u001b[0mConnectionError\u001b[0m\u001b[0;34m:\u001b[0m\u001b[0;34m\u001b[0m\u001b[0;34m\u001b[0m\u001b[0m\n",
      "\u001b[0;32m/usr/local/Cellar/python@3.9/3.9.6/Frameworks/Python.framework/Versions/3.9/lib/python3.9/http/client.py\u001b[0m in \u001b[0;36mbegin\u001b[0;34m(self)\u001b[0m\n\u001b[1;32m    315\u001b[0m         \u001b[0;32mwhile\u001b[0m \u001b[0;32mTrue\u001b[0m\u001b[0;34m:\u001b[0m\u001b[0;34m\u001b[0m\u001b[0;34m\u001b[0m\u001b[0m\n\u001b[0;32m--> 316\u001b[0;31m             \u001b[0mversion\u001b[0m\u001b[0;34m,\u001b[0m \u001b[0mstatus\u001b[0m\u001b[0;34m,\u001b[0m \u001b[0mreason\u001b[0m \u001b[0;34m=\u001b[0m \u001b[0mself\u001b[0m\u001b[0;34m.\u001b[0m\u001b[0m_read_status\u001b[0m\u001b[0;34m(\u001b[0m\u001b[0;34m)\u001b[0m\u001b[0;34m\u001b[0m\u001b[0;34m\u001b[0m\u001b[0m\n\u001b[0m\u001b[1;32m    317\u001b[0m             \u001b[0;32mif\u001b[0m \u001b[0mstatus\u001b[0m \u001b[0;34m!=\u001b[0m \u001b[0mCONTINUE\u001b[0m\u001b[0;34m:\u001b[0m\u001b[0;34m\u001b[0m\u001b[0;34m\u001b[0m\u001b[0m\n",
      "\u001b[0;32m/usr/local/Cellar/python@3.9/3.9.6/Frameworks/Python.framework/Versions/3.9/lib/python3.9/http/client.py\u001b[0m in \u001b[0;36m_read_status\u001b[0;34m(self)\u001b[0m\n\u001b[1;32m    276\u001b[0m     \u001b[0;32mdef\u001b[0m \u001b[0m_read_status\u001b[0m\u001b[0;34m(\u001b[0m\u001b[0mself\u001b[0m\u001b[0;34m)\u001b[0m\u001b[0;34m:\u001b[0m\u001b[0;34m\u001b[0m\u001b[0;34m\u001b[0m\u001b[0m\n\u001b[0;32m--> 277\u001b[0;31m         \u001b[0mline\u001b[0m \u001b[0;34m=\u001b[0m \u001b[0mstr\u001b[0m\u001b[0;34m(\u001b[0m\u001b[0mself\u001b[0m\u001b[0;34m.\u001b[0m\u001b[0mfp\u001b[0m\u001b[0;34m.\u001b[0m\u001b[0mreadline\u001b[0m\u001b[0;34m(\u001b[0m\u001b[0m_MAXLINE\u001b[0m \u001b[0;34m+\u001b[0m \u001b[0;36m1\u001b[0m\u001b[0;34m)\u001b[0m\u001b[0;34m,\u001b[0m \u001b[0;34m\"iso-8859-1\"\u001b[0m\u001b[0;34m)\u001b[0m\u001b[0;34m\u001b[0m\u001b[0;34m\u001b[0m\u001b[0m\n\u001b[0m\u001b[1;32m    278\u001b[0m         \u001b[0;32mif\u001b[0m \u001b[0mlen\u001b[0m\u001b[0;34m(\u001b[0m\u001b[0mline\u001b[0m\u001b[0;34m)\u001b[0m \u001b[0;34m>\u001b[0m \u001b[0m_MAXLINE\u001b[0m\u001b[0;34m:\u001b[0m\u001b[0;34m\u001b[0m\u001b[0;34m\u001b[0m\u001b[0m\n",
      "\u001b[0;32m/usr/local/Cellar/python@3.9/3.9.6/Frameworks/Python.framework/Versions/3.9/lib/python3.9/socket.py\u001b[0m in \u001b[0;36mreadinto\u001b[0;34m(self, b)\u001b[0m\n\u001b[1;32m    703\u001b[0m             \u001b[0;32mtry\u001b[0m\u001b[0;34m:\u001b[0m\u001b[0;34m\u001b[0m\u001b[0;34m\u001b[0m\u001b[0m\n\u001b[0;32m--> 704\u001b[0;31m                 \u001b[0;32mreturn\u001b[0m \u001b[0mself\u001b[0m\u001b[0;34m.\u001b[0m\u001b[0m_sock\u001b[0m\u001b[0;34m.\u001b[0m\u001b[0mrecv_into\u001b[0m\u001b[0;34m(\u001b[0m\u001b[0mb\u001b[0m\u001b[0;34m)\u001b[0m\u001b[0;34m\u001b[0m\u001b[0;34m\u001b[0m\u001b[0m\n\u001b[0m\u001b[1;32m    705\u001b[0m             \u001b[0;32mexcept\u001b[0m \u001b[0mtimeout\u001b[0m\u001b[0;34m:\u001b[0m\u001b[0;34m\u001b[0m\u001b[0;34m\u001b[0m\u001b[0m\n",
      "\u001b[0;32m/usr/local/Cellar/python@3.9/3.9.6/Frameworks/Python.framework/Versions/3.9/lib/python3.9/ssl.py\u001b[0m in \u001b[0;36mrecv_into\u001b[0;34m(self, buffer, nbytes, flags)\u001b[0m\n\u001b[1;32m   1240\u001b[0m                   self.__class__)\n\u001b[0;32m-> 1241\u001b[0;31m             \u001b[0;32mreturn\u001b[0m \u001b[0mself\u001b[0m\u001b[0;34m.\u001b[0m\u001b[0mread\u001b[0m\u001b[0;34m(\u001b[0m\u001b[0mnbytes\u001b[0m\u001b[0;34m,\u001b[0m \u001b[0mbuffer\u001b[0m\u001b[0;34m)\u001b[0m\u001b[0;34m\u001b[0m\u001b[0;34m\u001b[0m\u001b[0m\n\u001b[0m\u001b[1;32m   1242\u001b[0m         \u001b[0;32melse\u001b[0m\u001b[0;34m:\u001b[0m\u001b[0;34m\u001b[0m\u001b[0;34m\u001b[0m\u001b[0m\n",
      "\u001b[0;32m/usr/local/Cellar/python@3.9/3.9.6/Frameworks/Python.framework/Versions/3.9/lib/python3.9/ssl.py\u001b[0m in \u001b[0;36mread\u001b[0;34m(self, len, buffer)\u001b[0m\n\u001b[1;32m   1098\u001b[0m             \u001b[0;32mif\u001b[0m \u001b[0mbuffer\u001b[0m \u001b[0;32mis\u001b[0m \u001b[0;32mnot\u001b[0m \u001b[0;32mNone\u001b[0m\u001b[0;34m:\u001b[0m\u001b[0;34m\u001b[0m\u001b[0;34m\u001b[0m\u001b[0m\n\u001b[0;32m-> 1099\u001b[0;31m                 \u001b[0;32mreturn\u001b[0m \u001b[0mself\u001b[0m\u001b[0;34m.\u001b[0m\u001b[0m_sslobj\u001b[0m\u001b[0;34m.\u001b[0m\u001b[0mread\u001b[0m\u001b[0;34m(\u001b[0m\u001b[0mlen\u001b[0m\u001b[0;34m,\u001b[0m \u001b[0mbuffer\u001b[0m\u001b[0;34m)\u001b[0m\u001b[0;34m\u001b[0m\u001b[0;34m\u001b[0m\u001b[0m\n\u001b[0m\u001b[1;32m   1100\u001b[0m             \u001b[0;32melse\u001b[0m\u001b[0;34m:\u001b[0m\u001b[0;34m\u001b[0m\u001b[0;34m\u001b[0m\u001b[0m\n",
      "\u001b[0;31mProtocolError\u001b[0m: ('Connection aborted.', OSError(50, 'Network is down'))",
      "\nDuring handling of the above exception, another exception occurred:\n",
      "\u001b[0;31mConnectionError\u001b[0m                           Traceback (most recent call last)",
      "\u001b[0;32m/var/folders/vt/f297tpjn6n1b6dwkcwhhnmxm0000gp/T/ipykernel_41992/1531163105.py\u001b[0m in \u001b[0;36m<module>\u001b[0;34m\u001b[0m\n\u001b[1;32m      3\u001b[0m \u001b[0mprint\u001b[0m\u001b[0;34m(\u001b[0m\u001b[0mlist_len\u001b[0m\u001b[0;34m)\u001b[0m\u001b[0;34m\u001b[0m\u001b[0;34m\u001b[0m\u001b[0m\n\u001b[1;32m      4\u001b[0m \u001b[0;34m\u001b[0m\u001b[0m\n\u001b[0;32m----> 5\u001b[0;31m sgaw_res = scoped_mapping.search_get_annotations_wrapper(\n\u001b[0m\u001b[1;32m      6\u001b[0m     \u001b[0mraw_list\u001b[0m\u001b[0;34m,\u001b[0m\u001b[0;34m\u001b[0m\u001b[0;34m\u001b[0m\u001b[0m\n\u001b[1;32m      7\u001b[0m     \u001b[0;31m#     bad_chars=standard_replacement_chars,\u001b[0m\u001b[0;34m\u001b[0m\u001b[0;34m\u001b[0m\u001b[0;34m\u001b[0m\u001b[0m\n",
      "\u001b[0;32m~/Documents/gitrepos/scoped-mapping/venv/lib/python3.9/site-packages/scoped_mapping/__init__.py\u001b[0m in \u001b[0;36msearch_get_annotations_wrapper\u001b[0;34m(raw_list, bad_chars, cat_name, ontoprefix, query_fields, rr, string_dist_arg)\u001b[0m\n\u001b[1;32m    251\u001b[0m     \u001b[0;31m# prep_for_label_like returns unique combinations of ontologies and term IRIs\u001b[0m\u001b[0;34m\u001b[0m\u001b[0;34m\u001b[0m\u001b[0;34m\u001b[0m\u001b[0m\n\u001b[1;32m    252\u001b[0m     \u001b[0mmy_label_like_prepped\u001b[0m \u001b[0;34m=\u001b[0m \u001b[0mprep_for_label_like\u001b[0m\u001b[0;34m(\u001b[0m\u001b[0mmy_category_search_results_frame\u001b[0m\u001b[0;34m)\u001b[0m\u001b[0;34m\u001b[0m\u001b[0;34m\u001b[0m\u001b[0m\n\u001b[0;32m--> 253\u001b[0;31m     \u001b[0mmy_bulk_label_like\u001b[0m \u001b[0;34m=\u001b[0m \u001b[0mget_bulk_label_like\u001b[0m\u001b[0;34m(\u001b[0m\u001b[0mmy_label_like_prepped\u001b[0m\u001b[0;34m)\u001b[0m\u001b[0;34m\u001b[0m\u001b[0;34m\u001b[0m\u001b[0m\n\u001b[0m\u001b[1;32m    254\u001b[0m     \u001b[0mmerged_and_compared\u001b[0m \u001b[0;34m=\u001b[0m \u001b[0mmerge_and_compare\u001b[0m\u001b[0;34m(\u001b[0m\u001b[0mmy_category_search_results_frame\u001b[0m\u001b[0;34m,\u001b[0m \u001b[0mmy_bulk_label_like\u001b[0m\u001b[0;34m,\u001b[0m \u001b[0mstring_dist_arg\u001b[0m\u001b[0;34m)\u001b[0m\u001b[0;34m\u001b[0m\u001b[0;34m\u001b[0m\u001b[0m\n\u001b[1;32m    255\u001b[0m     \u001b[0mmerged_and_compared\u001b[0m \u001b[0;34m=\u001b[0m \u001b[0mmerged_and_compared\u001b[0m\u001b[0;34m[\u001b[0m\u001b[0mmerged_cols\u001b[0m\u001b[0;34m]\u001b[0m\u001b[0;34m\u001b[0m\u001b[0;34m\u001b[0m\u001b[0m\n",
      "\u001b[0;32m~/Documents/gitrepos/scoped-mapping/venv/lib/python3.9/site-packages/scoped_mapping/__init__.py\u001b[0m in \u001b[0;36mget_bulk_label_like\u001b[0;34m(label_like_prepped)\u001b[0m\n\u001b[1;32m    208\u001b[0m     \u001b[0mper_iri_annotations_list\u001b[0m \u001b[0;34m=\u001b[0m \u001b[0;34m[\u001b[0m\u001b[0;34m]\u001b[0m\u001b[0;34m\u001b[0m\u001b[0;34m\u001b[0m\u001b[0m\n\u001b[1;32m    209\u001b[0m     \u001b[0;32mfor\u001b[0m \u001b[0minx\u001b[0m \u001b[0;32min\u001b[0m \u001b[0mlabel_like_prepped\u001b[0m\u001b[0;34m.\u001b[0m\u001b[0mindex\u001b[0m\u001b[0;34m:\u001b[0m\u001b[0;34m\u001b[0m\u001b[0;34m\u001b[0m\u001b[0m\n\u001b[0;32m--> 210\u001b[0;31m         one_iri_frame = get_label_like(\n\u001b[0m\u001b[1;32m    211\u001b[0m             {'ontology_name': label_like_prepped['ontology_name'][inx], 'iri': label_like_prepped['iri'][inx]})\n\u001b[1;32m    212\u001b[0m         \u001b[0mper_iri_annotations_list\u001b[0m\u001b[0;34m.\u001b[0m\u001b[0mappend\u001b[0m\u001b[0;34m(\u001b[0m\u001b[0mone_iri_frame\u001b[0m\u001b[0;34m)\u001b[0m\u001b[0;34m\u001b[0m\u001b[0;34m\u001b[0m\u001b[0m\n",
      "\u001b[0;32m~/Documents/gitrepos/scoped-mapping/venv/lib/python3.9/site-packages/scoped_mapping/__init__.py\u001b[0m in \u001b[0;36mget_label_like\u001b[0;34m(current_row)\u001b[0m\n\u001b[1;32m    156\u001b[0m     \u001b[0mterm_retr_base\u001b[0m \u001b[0;34m=\u001b[0m \u001b[0;34m'https://www.ebi.ac.uk/ols/api/ontologies/'\u001b[0m\u001b[0;34m\u001b[0m\u001b[0;34m\u001b[0m\u001b[0m\n\u001b[1;32m    157\u001b[0m     \u001b[0mterm_retr_assembled\u001b[0m \u001b[0;34m=\u001b[0m \u001b[0mterm_retr_base\u001b[0m \u001b[0;34m+\u001b[0m \u001b[0mcurrent_row\u001b[0m\u001b[0;34m[\u001b[0m\u001b[0;34m'ontology_name'\u001b[0m\u001b[0;34m]\u001b[0m \u001b[0;34m+\u001b[0m \u001b[0;34m'/terms/'\u001b[0m \u001b[0;34m+\u001b[0m \u001b[0mtwice\u001b[0m\u001b[0;34m\u001b[0m\u001b[0;34m\u001b[0m\u001b[0m\n\u001b[0;32m--> 158\u001b[0;31m     \u001b[0mterm_details\u001b[0m \u001b[0;34m=\u001b[0m \u001b[0mols_session\u001b[0m\u001b[0;34m.\u001b[0m\u001b[0mget\u001b[0m\u001b[0;34m(\u001b[0m\u001b[0mterm_retr_assembled\u001b[0m\u001b[0;34m)\u001b[0m\u001b[0;34m\u001b[0m\u001b[0;34m\u001b[0m\u001b[0m\n\u001b[0m\u001b[1;32m    159\u001b[0m     \u001b[0mterm_json\u001b[0m \u001b[0;34m=\u001b[0m \u001b[0mterm_details\u001b[0m\u001b[0;34m.\u001b[0m\u001b[0mjson\u001b[0m\u001b[0;34m(\u001b[0m\u001b[0;34m)\u001b[0m\u001b[0;34m\u001b[0m\u001b[0;34m\u001b[0m\u001b[0m\n\u001b[1;32m    160\u001b[0m     \u001b[0;32mif\u001b[0m \u001b[0mterm_json\u001b[0m\u001b[0;34m[\u001b[0m\u001b[0;34m'label'\u001b[0m\u001b[0;34m]\u001b[0m \u001b[0;32mis\u001b[0m \u001b[0;32mnot\u001b[0m \u001b[0;32mNone\u001b[0m\u001b[0;34m:\u001b[0m\u001b[0;34m\u001b[0m\u001b[0;34m\u001b[0m\u001b[0m\n",
      "\u001b[0;32m~/Documents/gitrepos/scoped-mapping/venv/lib/python3.9/site-packages/requests/sessions.py\u001b[0m in \u001b[0;36mget\u001b[0;34m(self, url, **kwargs)\u001b[0m\n\u001b[1;32m    553\u001b[0m \u001b[0;34m\u001b[0m\u001b[0m\n\u001b[1;32m    554\u001b[0m         \u001b[0mkwargs\u001b[0m\u001b[0;34m.\u001b[0m\u001b[0msetdefault\u001b[0m\u001b[0;34m(\u001b[0m\u001b[0;34m'allow_redirects'\u001b[0m\u001b[0;34m,\u001b[0m \u001b[0;32mTrue\u001b[0m\u001b[0;34m)\u001b[0m\u001b[0;34m\u001b[0m\u001b[0;34m\u001b[0m\u001b[0m\n\u001b[0;32m--> 555\u001b[0;31m         \u001b[0;32mreturn\u001b[0m \u001b[0mself\u001b[0m\u001b[0;34m.\u001b[0m\u001b[0mrequest\u001b[0m\u001b[0;34m(\u001b[0m\u001b[0;34m'GET'\u001b[0m\u001b[0;34m,\u001b[0m \u001b[0murl\u001b[0m\u001b[0;34m,\u001b[0m \u001b[0;34m**\u001b[0m\u001b[0mkwargs\u001b[0m\u001b[0;34m)\u001b[0m\u001b[0;34m\u001b[0m\u001b[0;34m\u001b[0m\u001b[0m\n\u001b[0m\u001b[1;32m    556\u001b[0m \u001b[0;34m\u001b[0m\u001b[0m\n\u001b[1;32m    557\u001b[0m     \u001b[0;32mdef\u001b[0m \u001b[0moptions\u001b[0m\u001b[0;34m(\u001b[0m\u001b[0mself\u001b[0m\u001b[0;34m,\u001b[0m \u001b[0murl\u001b[0m\u001b[0;34m,\u001b[0m \u001b[0;34m**\u001b[0m\u001b[0mkwargs\u001b[0m\u001b[0;34m)\u001b[0m\u001b[0;34m:\u001b[0m\u001b[0;34m\u001b[0m\u001b[0;34m\u001b[0m\u001b[0m\n",
      "\u001b[0;32m~/Documents/gitrepos/scoped-mapping/venv/lib/python3.9/site-packages/requests/sessions.py\u001b[0m in \u001b[0;36mrequest\u001b[0;34m(self, method, url, params, data, headers, cookies, files, auth, timeout, allow_redirects, proxies, hooks, stream, verify, cert, json)\u001b[0m\n\u001b[1;32m    540\u001b[0m         }\n\u001b[1;32m    541\u001b[0m         \u001b[0msend_kwargs\u001b[0m\u001b[0;34m.\u001b[0m\u001b[0mupdate\u001b[0m\u001b[0;34m(\u001b[0m\u001b[0msettings\u001b[0m\u001b[0;34m)\u001b[0m\u001b[0;34m\u001b[0m\u001b[0;34m\u001b[0m\u001b[0m\n\u001b[0;32m--> 542\u001b[0;31m         \u001b[0mresp\u001b[0m \u001b[0;34m=\u001b[0m \u001b[0mself\u001b[0m\u001b[0;34m.\u001b[0m\u001b[0msend\u001b[0m\u001b[0;34m(\u001b[0m\u001b[0mprep\u001b[0m\u001b[0;34m,\u001b[0m \u001b[0;34m**\u001b[0m\u001b[0msend_kwargs\u001b[0m\u001b[0;34m)\u001b[0m\u001b[0;34m\u001b[0m\u001b[0;34m\u001b[0m\u001b[0m\n\u001b[0m\u001b[1;32m    543\u001b[0m \u001b[0;34m\u001b[0m\u001b[0m\n\u001b[1;32m    544\u001b[0m         \u001b[0;32mreturn\u001b[0m \u001b[0mresp\u001b[0m\u001b[0;34m\u001b[0m\u001b[0;34m\u001b[0m\u001b[0m\n",
      "\u001b[0;32m~/Documents/gitrepos/scoped-mapping/venv/lib/python3.9/site-packages/requests/sessions.py\u001b[0m in \u001b[0;36msend\u001b[0;34m(self, request, **kwargs)\u001b[0m\n\u001b[1;32m    653\u001b[0m \u001b[0;34m\u001b[0m\u001b[0m\n\u001b[1;32m    654\u001b[0m         \u001b[0;31m# Send the request\u001b[0m\u001b[0;34m\u001b[0m\u001b[0;34m\u001b[0m\u001b[0;34m\u001b[0m\u001b[0m\n\u001b[0;32m--> 655\u001b[0;31m         \u001b[0mr\u001b[0m \u001b[0;34m=\u001b[0m \u001b[0madapter\u001b[0m\u001b[0;34m.\u001b[0m\u001b[0msend\u001b[0m\u001b[0;34m(\u001b[0m\u001b[0mrequest\u001b[0m\u001b[0;34m,\u001b[0m \u001b[0;34m**\u001b[0m\u001b[0mkwargs\u001b[0m\u001b[0;34m)\u001b[0m\u001b[0;34m\u001b[0m\u001b[0;34m\u001b[0m\u001b[0m\n\u001b[0m\u001b[1;32m    656\u001b[0m \u001b[0;34m\u001b[0m\u001b[0m\n\u001b[1;32m    657\u001b[0m         \u001b[0;31m# Total elapsed time of the request (approximately)\u001b[0m\u001b[0;34m\u001b[0m\u001b[0;34m\u001b[0m\u001b[0;34m\u001b[0m\u001b[0m\n",
      "\u001b[0;32m~/Documents/gitrepos/scoped-mapping/venv/lib/python3.9/site-packages/requests/adapters.py\u001b[0m in \u001b[0;36msend\u001b[0;34m(self, request, stream, timeout, verify, cert, proxies)\u001b[0m\n\u001b[1;32m    496\u001b[0m \u001b[0;34m\u001b[0m\u001b[0m\n\u001b[1;32m    497\u001b[0m         \u001b[0;32mexcept\u001b[0m \u001b[0;34m(\u001b[0m\u001b[0mProtocolError\u001b[0m\u001b[0;34m,\u001b[0m \u001b[0msocket\u001b[0m\u001b[0;34m.\u001b[0m\u001b[0merror\u001b[0m\u001b[0;34m)\u001b[0m \u001b[0;32mas\u001b[0m \u001b[0merr\u001b[0m\u001b[0;34m:\u001b[0m\u001b[0;34m\u001b[0m\u001b[0;34m\u001b[0m\u001b[0m\n\u001b[0;32m--> 498\u001b[0;31m             \u001b[0;32mraise\u001b[0m \u001b[0mConnectionError\u001b[0m\u001b[0;34m(\u001b[0m\u001b[0merr\u001b[0m\u001b[0;34m,\u001b[0m \u001b[0mrequest\u001b[0m\u001b[0;34m=\u001b[0m\u001b[0mrequest\u001b[0m\u001b[0;34m)\u001b[0m\u001b[0;34m\u001b[0m\u001b[0;34m\u001b[0m\u001b[0m\n\u001b[0m\u001b[1;32m    499\u001b[0m \u001b[0;34m\u001b[0m\u001b[0m\n\u001b[1;32m    500\u001b[0m         \u001b[0;32mexcept\u001b[0m \u001b[0mMaxRetryError\u001b[0m \u001b[0;32mas\u001b[0m \u001b[0me\u001b[0m\u001b[0;34m:\u001b[0m\u001b[0;34m\u001b[0m\u001b[0;34m\u001b[0m\u001b[0m\n",
      "\u001b[0;31mConnectionError\u001b[0m: ('Connection aborted.', OSError(50, 'Network is down'))"
     ]
    }
   ],
   "source": [
    "print(elected_ontologies)\n",
    "print(min_count)\n",
    "print(list_len)\n",
    "\n",
    "sgaw_res = scoped_mapping.search_get_annotations_wrapper(\n",
    "    raw_list,\n",
    "    #     bad_chars=standard_replacement_chars,\n",
    "    #     cat_name=standard_cat_name,\n",
    "    ontoprefix=elected_ontologies,\n",
    "    #     query_fields=\"\",\n",
    "    rr=10,\n",
    "    string_dist_arg=2,\n",
    ")\n",
    "\n",
    "# ge 100 (329 queries) 7 min\n",
    "#  was using gt, not gte\n",
    "#  8 minutes for count > 30\n",
    "# 12 minutes for count > 10 (1066 queries)\n",
    "# XX minutes for count >  3 (1538 queries)\n",
    "#    error\n",
    "\n",
    "# not currently prioritizing by ontology\n",
    "# so root may go to NCBItaxon"
   ]
  },
  {
   "cell_type": "code",
   "execution_count": null,
   "id": "483b2270",
   "metadata": {
    "ExecuteTime": {
     "end_time": "2021-08-26T03:33:20.741650Z",
     "start_time": "2021-08-26T03:33:20.741641Z"
    }
   },
   "outputs": [],
   "source": [
    "# query\tname\tstring_dist_rank\tstring_dist\n",
    "# non saline sediment environment\tsaline sediment environment\t1\t0.045\n",
    "# microbial mats\tmicrobial mat\t1\t0.039\n",
    "\n",
    "ba = scoped_mapping.get_best_acceptable(sgaw_res, max_string_dist=0.04)\n",
    "\n",
    "print(min_count)\n",
    "print(list_len)\n",
    "print(len(ba.index))"
   ]
  },
  {
   "cell_type": "code",
   "execution_count": null,
   "id": "ad87a5d3",
   "metadata": {
    "ExecuteTime": {
     "end_time": "2021-08-26T03:33:20.742570Z",
     "start_time": "2021-08-26T03:33:20.742558Z"
    }
   },
   "outputs": [],
   "source": [
    "ols_mergable = ba[[\"raw\", \"obo_id\", \"label\"]]\n",
    "wtl_value_counts = pd.merge(\n",
    "    wtl_value_counts,\n",
    "    ols_mergable,\n",
    "    left_on=\"generalized_consensus\",\n",
    "    right_on=\"raw\",\n",
    "    how=\"left\",\n",
    "    suffixes=(\"_presearch\", \"_withsearch\"),\n",
    ")"
   ]
  },
  {
   "cell_type": "code",
   "execution_count": null,
   "id": "3b5cf4fe",
   "metadata": {
    "ExecuteTime": {
     "end_time": "2021-08-26T03:33:20.743632Z",
     "start_time": "2021-08-26T03:33:20.743623Z"
    }
   },
   "outputs": [],
   "source": [
    "wtl_value_counts[\"id_final\"] = wtl_value_counts[\"obo_id\"].fillna(\n",
    "    wtl_value_counts[\"id_consensus\"]\n",
    ")"
   ]
  },
  {
   "cell_type": "code",
   "execution_count": null,
   "id": "93a41cab",
   "metadata": {
    "ExecuteTime": {
     "end_time": "2021-08-26T03:33:20.744729Z",
     "start_time": "2021-08-26T03:33:20.744719Z"
    }
   },
   "outputs": [],
   "source": [
    "wtl_value_counts[\"label_final\"] = wtl_value_counts[\"label_withsearch\"].fillna(\n",
    "    wtl_value_counts[\"label_presearch\"]\n",
    ")"
   ]
  },
  {
   "cell_type": "code",
   "execution_count": null,
   "id": "5f365a0d",
   "metadata": {
    "ExecuteTime": {
     "end_time": "2021-08-26T03:33:20.745536Z",
     "start_time": "2021-08-26T03:33:20.745525Z"
    }
   },
   "outputs": [],
   "source": [
    "wtl_value_counts[\"label_final\"] = wtl_value_counts[\"label_final\"].fillna(\n",
    "    wtl_value_counts[\"generalized_consensus\"]\n",
    ")"
   ]
  },
  {
   "cell_type": "code",
   "execution_count": null,
   "id": "18d0ff49",
   "metadata": {
    "ExecuteTime": {
     "end_time": "2021-08-26T03:33:20.746552Z",
     "start_time": "2021-08-26T03:33:20.746542Z"
    }
   },
   "outputs": [],
   "source": [
    "merge_back_to_samples = wtl_value_counts[[\"value\", \"id_final\", \"label_final\"]]\n",
    "merge_back_to_samples = merge_back_to_samples.loc[\n",
    "    ~merge_back_to_samples[\"id_final\"].isna()\n",
    "]"
   ]
  },
  {
   "cell_type": "code",
   "execution_count": null,
   "id": "17bd0870",
   "metadata": {
    "ExecuteTime": {
     "end_time": "2021-08-26T03:33:20.747482Z",
     "start_time": "2021-08-26T03:33:20.747472Z"
    }
   },
   "outputs": [],
   "source": [
    "wtl = pd.merge(\n",
    "    wtl,\n",
    "    merge_back_to_samples,\n",
    "    left_on=\"value\",\n",
    "    right_on=\"value\",\n",
    "    how=\"left\",\n",
    "    suffixes=(\"_sqlres\", \"_mappingres\"),\n",
    ")"
   ]
  },
  {
   "cell_type": "code",
   "execution_count": null,
   "id": "c6ae79a9",
   "metadata": {
    "ExecuteTime": {
     "end_time": "2021-08-26T03:33:20.748459Z",
     "start_time": "2021-08-26T03:33:20.748432Z"
    }
   },
   "outputs": [],
   "source": [
    "wtl[\"id_final\"] = wtl[\"id_final\"].fillna(\"unmapped\")\n",
    "wtl[\"label_final\"] = wtl[\"label_final\"].fillna(\"unmapped\")\n",
    "\n",
    "wtl[\"lab_id\"] = wtl[\"label_final\"] + \" [\" + wtl[\"id_final\"] + \"]\""
   ]
  },
  {
   "cell_type": "code",
   "execution_count": null,
   "id": "38d8d5a3",
   "metadata": {
    "ExecuteTime": {
     "end_time": "2021-08-26T03:33:20.749406Z",
     "start_time": "2021-08-26T03:33:20.749396Z"
    }
   },
   "outputs": [],
   "source": [
    "for_cast = wtl[[\"id\", \"variable\", \"lab_id\"]]"
   ]
  },
  {
   "cell_type": "code",
   "execution_count": null,
   "id": "1029759c",
   "metadata": {
    "ExecuteTime": {
     "end_time": "2021-08-26T03:33:20.750477Z",
     "start_time": "2021-08-26T03:33:20.750467Z"
    }
   },
   "outputs": [],
   "source": [
    "for_cast[\"lab_id\"] = (\n",
    "    for_cast[[\"id\", \"lab_id\", \"variable\"]]\n",
    "    .groupby([\"id\", \"variable\"])[\"lab_id\"]\n",
    "    .transform(lambda x: \" | \".join(x))\n",
    ")\n",
    "for_cast = for_cast[[\"id\", \"variable\", \"lab_id\"]].drop_duplicates()"
   ]
  },
  {
   "cell_type": "code",
   "execution_count": null,
   "id": "ef977fa0",
   "metadata": {
    "ExecuteTime": {
     "end_time": "2021-08-26T03:33:20.751346Z",
     "start_time": "2021-08-26T03:33:20.751332Z"
    }
   },
   "outputs": [],
   "source": [
    "casted = for_cast.pivot(index=\"id\", columns=\"variable\", values=\"lab_id\")"
   ]
  },
  {
   "cell_type": "code",
   "execution_count": null,
   "id": "e1ddfcde",
   "metadata": {
    "ExecuteTime": {
     "end_time": "2021-08-26T03:33:20.752167Z",
     "start_time": "2021-08-26T03:33:20.752157Z"
    }
   },
   "outputs": [],
   "source": [
    "casted.reset_index(level=0, inplace=True)"
   ]
  },
  {
   "cell_type": "code",
   "execution_count": null,
   "id": "4bc7e986",
   "metadata": {
    "ExecuteTime": {
     "end_time": "2021-08-26T03:33:20.753237Z",
     "start_time": "2021-08-26T03:33:20.753226Z"
    }
   },
   "outputs": [],
   "source": [
    "temp = termterms_by_tidypackage[[\"id\", \"env_package_tidy\"]]\n",
    "temp.columns = [\"id\", \"env_package\"]"
   ]
  },
  {
   "cell_type": "code",
   "execution_count": null,
   "id": "13421eaf",
   "metadata": {
    "ExecuteTime": {
     "end_time": "2021-08-26T03:33:20.754033Z",
     "start_time": "2021-08-26T03:33:20.754023Z"
    }
   },
   "outputs": [],
   "source": [
    "casted = casted.drop(\"env_package_tidy\", axis=1)"
   ]
  },
  {
   "cell_type": "code",
   "execution_count": null,
   "id": "d87980b7",
   "metadata": {
    "ExecuteTime": {
     "end_time": "2021-08-26T03:33:20.755623Z",
     "start_time": "2021-08-26T03:33:20.755609Z"
    }
   },
   "outputs": [],
   "source": [
    "casted = pd.merge(\n",
    "    casted,\n",
    "    temp,\n",
    "    how=\"left\",\n",
    "    on=\"id\",\n",
    "    suffixes=(\"_slots\", \"_package\"),\n",
    ")"
   ]
  },
  {
   "cell_type": "code",
   "execution_count": null,
   "id": "ea918a77",
   "metadata": {
    "ExecuteTime": {
     "end_time": "2021-08-26T03:33:20.756482Z",
     "start_time": "2021-08-26T03:33:20.756472Z"
    }
   },
   "outputs": [],
   "source": [
    "put_first = [\"id\", \"env_package\"]\n",
    "casted_cols = set(casted.columns)\n",
    "casted_cols = list(casted_cols - set(put_first))\n",
    "casted_cols.sort()\n",
    "casted_cols = put_first + casted_cols"
   ]
  },
  {
   "cell_type": "code",
   "execution_count": null,
   "id": "f92e2ca1",
   "metadata": {
    "ExecuteTime": {
     "end_time": "2021-08-26T03:33:20.757466Z",
     "start_time": "2021-08-26T03:33:20.757455Z"
    }
   },
   "outputs": [],
   "source": [
    "casted = casted[casted_cols]"
   ]
  },
  {
   "cell_type": "code",
   "execution_count": null,
   "id": "3e861f97",
   "metadata": {
    "ExecuteTime": {
     "end_time": "2021-08-26T03:33:20.758473Z",
     "start_time": "2021-08-26T03:33:20.758463Z"
    }
   },
   "outputs": [],
   "source": [
    "casted.to_csv(output_file, index=False, sep=\"\\t\")"
   ]
  },
  {
   "cell_type": "code",
   "execution_count": 64,
   "id": "768a125d",
   "metadata": {
    "ExecuteTime": {
     "end_time": "2021-08-26T12:14:52.358369Z",
     "start_time": "2021-08-26T12:14:51.764378Z"
    }
   },
   "outputs": [
    {
     "data": {
      "text/html": [
       "<div>\n",
       "<style scoped>\n",
       "    .dataframe tbody tr th:only-of-type {\n",
       "        vertical-align: middle;\n",
       "    }\n",
       "\n",
       "    .dataframe tbody tr th {\n",
       "        vertical-align: top;\n",
       "    }\n",
       "\n",
       "    .dataframe thead th {\n",
       "        text-align: right;\n",
       "    }\n",
       "</style>\n",
       "<table border=\"1\" class=\"dataframe\">\n",
       "  <thead>\n",
       "    <tr style=\"text-align: right;\">\n",
       "      <th></th>\n",
       "      <th>env_package</th>\n",
       "      <th>chem_administration</th>\n",
       "      <th>env_broad_scale</th>\n",
       "      <th>env_local_scale</th>\n",
       "      <th>env_medium</th>\n",
       "      <th>experimental_factor</th>\n",
       "      <th>growth_med</th>\n",
       "      <th>host_body_product</th>\n",
       "      <th>host_disease</th>\n",
       "      <th>host_phenotype</th>\n",
       "      <th>plant_body_site</th>\n",
       "      <th>ploidy</th>\n",
       "      <th>samp_collect_device</th>\n",
       "    </tr>\n",
       "  </thead>\n",
       "  <tbody>\n",
       "    <tr>\n",
       "      <th>0</th>\n",
       "      <td>water</td>\n",
       "      <td>NaN</td>\n",
       "      <td>unmapped [unmapped]</td>\n",
       "      <td>unmapped [unmapped]</td>\n",
       "      <td>sea water [ENVO:00002149]</td>\n",
       "      <td>NaN</td>\n",
       "      <td>NaN</td>\n",
       "      <td>NaN</td>\n",
       "      <td>NaN</td>\n",
       "      <td>NaN</td>\n",
       "      <td>NaN</td>\n",
       "      <td>NaN</td>\n",
       "      <td>NaN</td>\n",
       "    </tr>\n",
       "    <tr>\n",
       "      <th>1</th>\n",
       "      <td>water</td>\n",
       "      <td>NaN</td>\n",
       "      <td>unmapped [unmapped]</td>\n",
       "      <td>unmapped [unmapped]</td>\n",
       "      <td>sea water [ENVO:00002149]</td>\n",
       "      <td>NaN</td>\n",
       "      <td>NaN</td>\n",
       "      <td>NaN</td>\n",
       "      <td>NaN</td>\n",
       "      <td>NaN</td>\n",
       "      <td>NaN</td>\n",
       "      <td>NaN</td>\n",
       "      <td>NaN</td>\n",
       "    </tr>\n",
       "    <tr>\n",
       "      <th>2</th>\n",
       "      <td>water</td>\n",
       "      <td>NaN</td>\n",
       "      <td>unmapped [unmapped]</td>\n",
       "      <td>unmapped [unmapped]</td>\n",
       "      <td>sea water [ENVO:00002149]</td>\n",
       "      <td>NaN</td>\n",
       "      <td>NaN</td>\n",
       "      <td>NaN</td>\n",
       "      <td>NaN</td>\n",
       "      <td>NaN</td>\n",
       "      <td>NaN</td>\n",
       "      <td>NaN</td>\n",
       "      <td>NaN</td>\n",
       "    </tr>\n",
       "    <tr>\n",
       "      <th>3</th>\n",
       "      <td>water</td>\n",
       "      <td>NaN</td>\n",
       "      <td>unmapped [unmapped]</td>\n",
       "      <td>unmapped [unmapped]</td>\n",
       "      <td>sea water [ENVO:00002149]</td>\n",
       "      <td>NaN</td>\n",
       "      <td>NaN</td>\n",
       "      <td>NaN</td>\n",
       "      <td>NaN</td>\n",
       "      <td>NaN</td>\n",
       "      <td>NaN</td>\n",
       "      <td>NaN</td>\n",
       "      <td>NaN</td>\n",
       "    </tr>\n",
       "    <tr>\n",
       "      <th>4</th>\n",
       "      <td>water</td>\n",
       "      <td>NaN</td>\n",
       "      <td>unmapped [unmapped]</td>\n",
       "      <td>unmapped [unmapped]</td>\n",
       "      <td>sea water [ENVO:00002149]</td>\n",
       "      <td>NaN</td>\n",
       "      <td>NaN</td>\n",
       "      <td>NaN</td>\n",
       "      <td>NaN</td>\n",
       "      <td>NaN</td>\n",
       "      <td>NaN</td>\n",
       "      <td>NaN</td>\n",
       "      <td>NaN</td>\n",
       "    </tr>\n",
       "    <tr>\n",
       "      <th>...</th>\n",
       "      <td>...</td>\n",
       "      <td>...</td>\n",
       "      <td>...</td>\n",
       "      <td>...</td>\n",
       "      <td>...</td>\n",
       "      <td>...</td>\n",
       "      <td>...</td>\n",
       "      <td>...</td>\n",
       "      <td>...</td>\n",
       "      <td>...</td>\n",
       "      <td>...</td>\n",
       "      <td>...</td>\n",
       "      <td>...</td>\n",
       "    </tr>\n",
       "    <tr>\n",
       "      <th>245058</th>\n",
       "      <td>human-associated</td>\n",
       "      <td>NaN</td>\n",
       "      <td>urban biome [ENVO:01000249]</td>\n",
       "      <td>unmapped [unmapped]</td>\n",
       "      <td>bodily fluid [UBERON:0006314]</td>\n",
       "      <td>NaN</td>\n",
       "      <td>NaN</td>\n",
       "      <td>NaN</td>\n",
       "      <td>NaN</td>\n",
       "      <td>NaN</td>\n",
       "      <td>NaN</td>\n",
       "      <td>NaN</td>\n",
       "      <td>NaN</td>\n",
       "    </tr>\n",
       "    <tr>\n",
       "      <th>245059</th>\n",
       "      <td>human-associated</td>\n",
       "      <td>NaN</td>\n",
       "      <td>urban biome [ENVO:01000249]</td>\n",
       "      <td>unmapped [unmapped]</td>\n",
       "      <td>bodily fluid [UBERON:0006314]</td>\n",
       "      <td>NaN</td>\n",
       "      <td>NaN</td>\n",
       "      <td>NaN</td>\n",
       "      <td>NaN</td>\n",
       "      <td>NaN</td>\n",
       "      <td>NaN</td>\n",
       "      <td>NaN</td>\n",
       "      <td>NaN</td>\n",
       "    </tr>\n",
       "    <tr>\n",
       "      <th>245060</th>\n",
       "      <td>human-associated</td>\n",
       "      <td>NaN</td>\n",
       "      <td>urban biome [ENVO:01000249]</td>\n",
       "      <td>unmapped [unmapped]</td>\n",
       "      <td>bodily fluid [UBERON:0006314]</td>\n",
       "      <td>NaN</td>\n",
       "      <td>NaN</td>\n",
       "      <td>NaN</td>\n",
       "      <td>NaN</td>\n",
       "      <td>NaN</td>\n",
       "      <td>NaN</td>\n",
       "      <td>NaN</td>\n",
       "      <td>NaN</td>\n",
       "    </tr>\n",
       "    <tr>\n",
       "      <th>245061</th>\n",
       "      <td>human-associated</td>\n",
       "      <td>NaN</td>\n",
       "      <td>urban biome [ENVO:01000249]</td>\n",
       "      <td>unmapped [unmapped]</td>\n",
       "      <td>bodily fluid [UBERON:0006314]</td>\n",
       "      <td>NaN</td>\n",
       "      <td>NaN</td>\n",
       "      <td>NaN</td>\n",
       "      <td>NaN</td>\n",
       "      <td>NaN</td>\n",
       "      <td>NaN</td>\n",
       "      <td>NaN</td>\n",
       "      <td>NaN</td>\n",
       "    </tr>\n",
       "    <tr>\n",
       "      <th>245062</th>\n",
       "      <td>human-associated</td>\n",
       "      <td>NaN</td>\n",
       "      <td>urban biome [ENVO:01000249]</td>\n",
       "      <td>unmapped [unmapped]</td>\n",
       "      <td>bodily fluid [UBERON:0006314]</td>\n",
       "      <td>NaN</td>\n",
       "      <td>NaN</td>\n",
       "      <td>NaN</td>\n",
       "      <td>NaN</td>\n",
       "      <td>NaN</td>\n",
       "      <td>NaN</td>\n",
       "      <td>NaN</td>\n",
       "      <td>NaN</td>\n",
       "    </tr>\n",
       "  </tbody>\n",
       "</table>\n",
       "<p>245063 rows × 13 columns</p>\n",
       "</div>"
      ],
      "text/plain": [
       "             env_package chem_administration              env_broad_scale  \\\n",
       "0                  water                 NaN          unmapped [unmapped]   \n",
       "1                  water                 NaN          unmapped [unmapped]   \n",
       "2                  water                 NaN          unmapped [unmapped]   \n",
       "3                  water                 NaN          unmapped [unmapped]   \n",
       "4                  water                 NaN          unmapped [unmapped]   \n",
       "...                  ...                 ...                          ...   \n",
       "245058  human-associated                 NaN  urban biome [ENVO:01000249]   \n",
       "245059  human-associated                 NaN  urban biome [ENVO:01000249]   \n",
       "245060  human-associated                 NaN  urban biome [ENVO:01000249]   \n",
       "245061  human-associated                 NaN  urban biome [ENVO:01000249]   \n",
       "245062  human-associated                 NaN  urban biome [ENVO:01000249]   \n",
       "\n",
       "            env_local_scale                     env_medium  \\\n",
       "0       unmapped [unmapped]      sea water [ENVO:00002149]   \n",
       "1       unmapped [unmapped]      sea water [ENVO:00002149]   \n",
       "2       unmapped [unmapped]      sea water [ENVO:00002149]   \n",
       "3       unmapped [unmapped]      sea water [ENVO:00002149]   \n",
       "4       unmapped [unmapped]      sea water [ENVO:00002149]   \n",
       "...                     ...                            ...   \n",
       "245058  unmapped [unmapped]  bodily fluid [UBERON:0006314]   \n",
       "245059  unmapped [unmapped]  bodily fluid [UBERON:0006314]   \n",
       "245060  unmapped [unmapped]  bodily fluid [UBERON:0006314]   \n",
       "245061  unmapped [unmapped]  bodily fluid [UBERON:0006314]   \n",
       "245062  unmapped [unmapped]  bodily fluid [UBERON:0006314]   \n",
       "\n",
       "       experimental_factor growth_med host_body_product host_disease  \\\n",
       "0                      NaN        NaN               NaN          NaN   \n",
       "1                      NaN        NaN               NaN          NaN   \n",
       "2                      NaN        NaN               NaN          NaN   \n",
       "3                      NaN        NaN               NaN          NaN   \n",
       "4                      NaN        NaN               NaN          NaN   \n",
       "...                    ...        ...               ...          ...   \n",
       "245058                 NaN        NaN               NaN          NaN   \n",
       "245059                 NaN        NaN               NaN          NaN   \n",
       "245060                 NaN        NaN               NaN          NaN   \n",
       "245061                 NaN        NaN               NaN          NaN   \n",
       "245062                 NaN        NaN               NaN          NaN   \n",
       "\n",
       "       host_phenotype plant_body_site ploidy samp_collect_device  \n",
       "0                 NaN             NaN    NaN                 NaN  \n",
       "1                 NaN             NaN    NaN                 NaN  \n",
       "2                 NaN             NaN    NaN                 NaN  \n",
       "3                 NaN             NaN    NaN                 NaN  \n",
       "4                 NaN             NaN    NaN                 NaN  \n",
       "...               ...             ...    ...                 ...  \n",
       "245058            NaN             NaN    NaN                 NaN  \n",
       "245059            NaN             NaN    NaN                 NaN  \n",
       "245060            NaN             NaN    NaN                 NaN  \n",
       "245061            NaN             NaN    NaN                 NaN  \n",
       "245062            NaN             NaN    NaN                 NaN  \n",
       "\n",
       "[245063 rows x 13 columns]"
      ]
     },
     "execution_count": 64,
     "metadata": {},
     "output_type": "execute_result"
    }
   ],
   "source": [
    "# casted = pd.read_csv(\"onto_slots_by_env_pack.tsv\", sep=\"\\t\", low_memory=False)\n",
    "\n",
    "put_first = [\"env_package\"]\n",
    "omit_only = [\"id\"]\n",
    "special_request = put_first + omit_only\n",
    "\n",
    "for_melt = casted.columns\n",
    "\n",
    "for_melt = list(set(for_melt) - set(special_request))\n",
    "for_melt.sort()\n",
    "\n",
    "casted_cols = put_first + for_melt\n",
    "casted_cols\n",
    "\n",
    "ignore_samples = casted[casted_cols]"
   ]
  },
  {
   "cell_type": "code",
   "execution_count": 69,
   "id": "2ecdbefc",
   "metadata": {
    "ExecuteTime": {
     "end_time": "2021-08-26T12:20:52.335503Z",
     "start_time": "2021-08-26T12:20:52.054426Z"
    }
   },
   "outputs": [
    {
     "data": {
      "text/html": [
       "<div>\n",
       "<style scoped>\n",
       "    .dataframe tbody tr th:only-of-type {\n",
       "        vertical-align: middle;\n",
       "    }\n",
       "\n",
       "    .dataframe tbody tr th {\n",
       "        vertical-align: top;\n",
       "    }\n",
       "\n",
       "    .dataframe thead th {\n",
       "        text-align: right;\n",
       "    }\n",
       "</style>\n",
       "<table border=\"1\" class=\"dataframe\">\n",
       "  <thead>\n",
       "    <tr style=\"text-align: right;\">\n",
       "      <th></th>\n",
       "      <th>env_package</th>\n",
       "      <th>variable</th>\n",
       "      <th>value</th>\n",
       "      <th>placeholder</th>\n",
       "    </tr>\n",
       "  </thead>\n",
       "  <tbody>\n",
       "    <tr>\n",
       "      <th>529</th>\n",
       "      <td>human-gut</td>\n",
       "      <td>chem_administration</td>\n",
       "      <td>unmapped [unmapped]</td>\n",
       "      <td>1</td>\n",
       "    </tr>\n",
       "    <tr>\n",
       "      <th>530</th>\n",
       "      <td>human-gut</td>\n",
       "      <td>chem_administration</td>\n",
       "      <td>unmapped [unmapped]</td>\n",
       "      <td>1</td>\n",
       "    </tr>\n",
       "    <tr>\n",
       "      <th>531</th>\n",
       "      <td>human-gut</td>\n",
       "      <td>chem_administration</td>\n",
       "      <td>unmapped [unmapped]</td>\n",
       "      <td>1</td>\n",
       "    </tr>\n",
       "    <tr>\n",
       "      <th>532</th>\n",
       "      <td>human-gut</td>\n",
       "      <td>chem_administration</td>\n",
       "      <td>unmapped [unmapped]</td>\n",
       "      <td>1</td>\n",
       "    </tr>\n",
       "    <tr>\n",
       "      <th>533</th>\n",
       "      <td>human-gut</td>\n",
       "      <td>chem_administration</td>\n",
       "      <td>unmapped [unmapped]</td>\n",
       "      <td>1</td>\n",
       "    </tr>\n",
       "    <tr>\n",
       "      <th>...</th>\n",
       "      <td>...</td>\n",
       "      <td>...</td>\n",
       "      <td>...</td>\n",
       "      <td>...</td>\n",
       "    </tr>\n",
       "    <tr>\n",
       "      <th>2940703</th>\n",
       "      <td>human-gut</td>\n",
       "      <td>samp_collect_device</td>\n",
       "      <td>unmapped [unmapped]</td>\n",
       "      <td>1</td>\n",
       "    </tr>\n",
       "    <tr>\n",
       "      <th>2940704</th>\n",
       "      <td>human-gut</td>\n",
       "      <td>samp_collect_device</td>\n",
       "      <td>unmapped [unmapped]</td>\n",
       "      <td>1</td>\n",
       "    </tr>\n",
       "    <tr>\n",
       "      <th>2940705</th>\n",
       "      <td>human-gut</td>\n",
       "      <td>samp_collect_device</td>\n",
       "      <td>unmapped [unmapped]</td>\n",
       "      <td>1</td>\n",
       "    </tr>\n",
       "    <tr>\n",
       "      <th>2940706</th>\n",
       "      <td>human-gut</td>\n",
       "      <td>samp_collect_device</td>\n",
       "      <td>unmapped [unmapped]</td>\n",
       "      <td>1</td>\n",
       "    </tr>\n",
       "    <tr>\n",
       "      <th>2940707</th>\n",
       "      <td>human-gut</td>\n",
       "      <td>samp_collect_device</td>\n",
       "      <td>unmapped [unmapped]</td>\n",
       "      <td>1</td>\n",
       "    </tr>\n",
       "  </tbody>\n",
       "</table>\n",
       "<p>793948 rows × 4 columns</p>\n",
       "</div>"
      ],
      "text/plain": [
       "        env_package             variable                value  placeholder\n",
       "529       human-gut  chem_administration  unmapped [unmapped]            1\n",
       "530       human-gut  chem_administration  unmapped [unmapped]            1\n",
       "531       human-gut  chem_administration  unmapped [unmapped]            1\n",
       "532       human-gut  chem_administration  unmapped [unmapped]            1\n",
       "533       human-gut  chem_administration  unmapped [unmapped]            1\n",
       "...             ...                  ...                  ...          ...\n",
       "2940703   human-gut  samp_collect_device  unmapped [unmapped]            1\n",
       "2940704   human-gut  samp_collect_device  unmapped [unmapped]            1\n",
       "2940705   human-gut  samp_collect_device  unmapped [unmapped]            1\n",
       "2940706   human-gut  samp_collect_device  unmapped [unmapped]            1\n",
       "2940707   human-gut  samp_collect_device  unmapped [unmapped]            1\n",
       "\n",
       "[793948 rows x 4 columns]"
      ]
     },
     "execution_count": 69,
     "metadata": {},
     "output_type": "execute_result"
    }
   ],
   "source": [
    "is_melt = pd.melt(\n",
    "    ignore_samples,\n",
    "    id_vars=\"env_package\",\n",
    "    value_vars=for_melt,\n",
    ")\n",
    "\n",
    "is_melt = is_melt[is_melt[\"value\"].notna()]\n",
    "\n",
    "is_melt[\"placeholder\"] = 1"
   ]
  },
  {
   "cell_type": "code",
   "execution_count": 74,
   "id": "c8e4f849",
   "metadata": {
    "ExecuteTime": {
     "end_time": "2021-08-26T14:43:50.766474Z",
     "start_time": "2021-08-26T14:43:50.520079Z"
    }
   },
   "outputs": [
    {
     "data": {
      "text/html": [
       "<div>\n",
       "<style scoped>\n",
       "    .dataframe tbody tr th:only-of-type {\n",
       "        vertical-align: middle;\n",
       "    }\n",
       "\n",
       "    .dataframe tbody tr th {\n",
       "        vertical-align: top;\n",
       "    }\n",
       "\n",
       "    .dataframe thead th {\n",
       "        text-align: right;\n",
       "    }\n",
       "</style>\n",
       "<table border=\"1\" class=\"dataframe\">\n",
       "  <thead>\n",
       "    <tr style=\"text-align: right;\">\n",
       "      <th></th>\n",
       "      <th>env_package</th>\n",
       "      <th>variable</th>\n",
       "      <th>value</th>\n",
       "      <th>val_count</th>\n",
       "    </tr>\n",
       "  </thead>\n",
       "  <tbody>\n",
       "    <tr>\n",
       "      <th>0</th>\n",
       "      <td>air</td>\n",
       "      <td>env_broad_scale</td>\n",
       "      <td>air [ENVO:00002005]</td>\n",
       "      <td>189</td>\n",
       "    </tr>\n",
       "    <tr>\n",
       "      <th>1</th>\n",
       "      <td>air</td>\n",
       "      <td>env_broad_scale</td>\n",
       "      <td>cropland biome [ENVO:01000245]</td>\n",
       "      <td>48</td>\n",
       "    </tr>\n",
       "    <tr>\n",
       "      <th>2</th>\n",
       "      <td>air</td>\n",
       "      <td>env_broad_scale</td>\n",
       "      <td>forest [ENVO:00000111]</td>\n",
       "      <td>2</td>\n",
       "    </tr>\n",
       "    <tr>\n",
       "      <th>3</th>\n",
       "      <td>air</td>\n",
       "      <td>env_broad_scale</td>\n",
       "      <td>temperate grassland biome [ENVO:01000193]</td>\n",
       "      <td>6</td>\n",
       "    </tr>\n",
       "    <tr>\n",
       "      <th>4</th>\n",
       "      <td>air</td>\n",
       "      <td>env_broad_scale</td>\n",
       "      <td>temperate woodland biome [ENVO:01000221]</td>\n",
       "      <td>9</td>\n",
       "    </tr>\n",
       "    <tr>\n",
       "      <th>...</th>\n",
       "      <td>...</td>\n",
       "      <td>...</td>\n",
       "      <td>...</td>\n",
       "      <td>...</td>\n",
       "    </tr>\n",
       "    <tr>\n",
       "      <th>1585</th>\n",
       "      <td>water</td>\n",
       "      <td>ploidy</td>\n",
       "      <td>diploid [PATO:0001394]</td>\n",
       "      <td>9</td>\n",
       "    </tr>\n",
       "    <tr>\n",
       "      <th>1586</th>\n",
       "      <td>water</td>\n",
       "      <td>ploidy</td>\n",
       "      <td>haploid [PATO:0001375]</td>\n",
       "      <td>6</td>\n",
       "    </tr>\n",
       "    <tr>\n",
       "      <th>1587</th>\n",
       "      <td>water</td>\n",
       "      <td>ploidy</td>\n",
       "      <td>unmapped [unmapped]</td>\n",
       "      <td>1</td>\n",
       "    </tr>\n",
       "    <tr>\n",
       "      <th>1588</th>\n",
       "      <td>water</td>\n",
       "      <td>samp_collect_device</td>\n",
       "      <td>bottle [FOODON:03490214]</td>\n",
       "      <td>27</td>\n",
       "    </tr>\n",
       "    <tr>\n",
       "      <th>1589</th>\n",
       "      <td>water</td>\n",
       "      <td>samp_collect_device</td>\n",
       "      <td>unmapped [unmapped]</td>\n",
       "      <td>855</td>\n",
       "    </tr>\n",
       "  </tbody>\n",
       "</table>\n",
       "<p>1590 rows × 4 columns</p>\n",
       "</div>"
      ],
      "text/plain": [
       "     env_package             variable  \\\n",
       "0            air      env_broad_scale   \n",
       "1            air      env_broad_scale   \n",
       "2            air      env_broad_scale   \n",
       "3            air      env_broad_scale   \n",
       "4            air      env_broad_scale   \n",
       "...          ...                  ...   \n",
       "1585       water               ploidy   \n",
       "1586       water               ploidy   \n",
       "1587       water               ploidy   \n",
       "1588       water  samp_collect_device   \n",
       "1589       water  samp_collect_device   \n",
       "\n",
       "                                          value  val_count  \n",
       "0                           air [ENVO:00002005]        189  \n",
       "1                cropland biome [ENVO:01000245]         48  \n",
       "2                        forest [ENVO:00000111]          2  \n",
       "3     temperate grassland biome [ENVO:01000193]          6  \n",
       "4      temperate woodland biome [ENVO:01000221]          9  \n",
       "...                                         ...        ...  \n",
       "1585                     diploid [PATO:0001394]          9  \n",
       "1586                     haploid [PATO:0001375]          6  \n",
       "1587                        unmapped [unmapped]          1  \n",
       "1588                   bottle [FOODON:03490214]         27  \n",
       "1589                        unmapped [unmapped]        855  \n",
       "\n",
       "[1590 rows x 4 columns]"
      ]
     },
     "execution_count": 74,
     "metadata": {},
     "output_type": "execute_result"
    }
   ],
   "source": [
    "is_counts = (\n",
    "    is_melt[[\"env_package\", \"variable\", \"value\", \"placeholder\"]]\n",
    "    .groupby([\"env_package\", \"variable\", \"value\"])\n",
    "    .agg([\"count\"])\n",
    ")\n",
    "\n",
    "is_counts.reset_index(inplace=True)\n",
    "is_counts.columns = [\"env_package\", \"variable\", \"value\", \"val_count\"]"
   ]
  },
  {
   "cell_type": "code",
   "execution_count": 77,
   "id": "848fa397",
   "metadata": {
    "ExecuteTime": {
     "end_time": "2021-08-26T14:45:05.632820Z",
     "start_time": "2021-08-26T14:45:05.616574Z"
    }
   },
   "outputs": [
    {
     "data": {
      "text/html": [
       "<div>\n",
       "<style scoped>\n",
       "    .dataframe tbody tr th:only-of-type {\n",
       "        vertical-align: middle;\n",
       "    }\n",
       "\n",
       "    .dataframe tbody tr th {\n",
       "        vertical-align: top;\n",
       "    }\n",
       "\n",
       "    .dataframe thead th {\n",
       "        text-align: right;\n",
       "    }\n",
       "</style>\n",
       "<table border=\"1\" class=\"dataframe\">\n",
       "  <thead>\n",
       "    <tr style=\"text-align: right;\">\n",
       "      <th></th>\n",
       "      <th>env_package</th>\n",
       "      <th>variable</th>\n",
       "      <th>ep_var_sum</th>\n",
       "    </tr>\n",
       "  </thead>\n",
       "  <tbody>\n",
       "    <tr>\n",
       "      <th>0</th>\n",
       "      <td>air</td>\n",
       "      <td>env_broad_scale</td>\n",
       "      <td>437</td>\n",
       "    </tr>\n",
       "    <tr>\n",
       "      <th>1</th>\n",
       "      <td>air</td>\n",
       "      <td>env_local_scale</td>\n",
       "      <td>437</td>\n",
       "    </tr>\n",
       "    <tr>\n",
       "      <th>2</th>\n",
       "      <td>air</td>\n",
       "      <td>env_medium</td>\n",
       "      <td>438</td>\n",
       "    </tr>\n",
       "    <tr>\n",
       "      <th>3</th>\n",
       "      <td>air</td>\n",
       "      <td>ploidy</td>\n",
       "      <td>2</td>\n",
       "    </tr>\n",
       "    <tr>\n",
       "      <th>4</th>\n",
       "      <td>built</td>\n",
       "      <td>env_broad_scale</td>\n",
       "      <td>14510</td>\n",
       "    </tr>\n",
       "    <tr>\n",
       "      <th>...</th>\n",
       "      <td>...</td>\n",
       "      <td>...</td>\n",
       "      <td>...</td>\n",
       "    </tr>\n",
       "    <tr>\n",
       "      <th>90</th>\n",
       "      <td>water</td>\n",
       "      <td>env_medium</td>\n",
       "      <td>18939</td>\n",
       "    </tr>\n",
       "    <tr>\n",
       "      <th>91</th>\n",
       "      <td>water</td>\n",
       "      <td>experimental_factor</td>\n",
       "      <td>410</td>\n",
       "    </tr>\n",
       "    <tr>\n",
       "      <th>92</th>\n",
       "      <td>water</td>\n",
       "      <td>host_body_product</td>\n",
       "      <td>103</td>\n",
       "    </tr>\n",
       "    <tr>\n",
       "      <th>93</th>\n",
       "      <td>water</td>\n",
       "      <td>ploidy</td>\n",
       "      <td>16</td>\n",
       "    </tr>\n",
       "    <tr>\n",
       "      <th>94</th>\n",
       "      <td>water</td>\n",
       "      <td>samp_collect_device</td>\n",
       "      <td>882</td>\n",
       "    </tr>\n",
       "  </tbody>\n",
       "</table>\n",
       "<p>95 rows × 3 columns</p>\n",
       "</div>"
      ],
      "text/plain": [
       "   env_package             variable  ep_var_sum\n",
       "0          air      env_broad_scale         437\n",
       "1          air      env_local_scale         437\n",
       "2          air           env_medium         438\n",
       "3          air               ploidy           2\n",
       "4        built      env_broad_scale       14510\n",
       "..         ...                  ...         ...\n",
       "90       water           env_medium       18939\n",
       "91       water  experimental_factor         410\n",
       "92       water    host_body_product         103\n",
       "93       water               ploidy          16\n",
       "94       water  samp_collect_device         882\n",
       "\n",
       "[95 rows x 3 columns]"
      ]
     },
     "execution_count": 77,
     "metadata": {},
     "output_type": "execute_result"
    }
   ],
   "source": [
    "is_sums = (\n",
    "    is_counts[[\"env_package\", \"variable\", \"val_count\"]]\n",
    "    .groupby([\"env_package\", \"variable\"])\n",
    "    .agg([\"sum\"])\n",
    ")\n",
    "is_sums.reset_index(inplace=True)\n",
    "is_sums.columns = [\"env_package\", \"variable\", \"ep_var_sum\"]"
   ]
  },
  {
   "cell_type": "code",
   "execution_count": 84,
   "id": "b5bdd3b4",
   "metadata": {
    "ExecuteTime": {
     "end_time": "2021-08-26T14:52:31.415628Z",
     "start_time": "2021-08-26T14:52:31.396135Z"
    }
   },
   "outputs": [
    {
     "data": {
      "text/html": [
       "<div>\n",
       "<style scoped>\n",
       "    .dataframe tbody tr th:only-of-type {\n",
       "        vertical-align: middle;\n",
       "    }\n",
       "\n",
       "    .dataframe tbody tr th {\n",
       "        vertical-align: top;\n",
       "    }\n",
       "\n",
       "    .dataframe thead th {\n",
       "        text-align: right;\n",
       "    }\n",
       "</style>\n",
       "<table border=\"1\" class=\"dataframe\">\n",
       "  <thead>\n",
       "    <tr style=\"text-align: right;\">\n",
       "      <th></th>\n",
       "      <th>env_package</th>\n",
       "      <th>slot</th>\n",
       "      <th>value</th>\n",
       "      <th>val_count</th>\n",
       "      <th>fraction</th>\n",
       "    </tr>\n",
       "  </thead>\n",
       "  <tbody>\n",
       "    <tr>\n",
       "      <th>0</th>\n",
       "      <td>air</td>\n",
       "      <td>env_broad_scale</td>\n",
       "      <td>air [ENVO:00002005]</td>\n",
       "      <td>189</td>\n",
       "      <td>0.432494</td>\n",
       "    </tr>\n",
       "    <tr>\n",
       "      <th>1</th>\n",
       "      <td>air</td>\n",
       "      <td>env_broad_scale</td>\n",
       "      <td>cropland biome [ENVO:01000245]</td>\n",
       "      <td>48</td>\n",
       "      <td>0.109840</td>\n",
       "    </tr>\n",
       "    <tr>\n",
       "      <th>2</th>\n",
       "      <td>air</td>\n",
       "      <td>env_broad_scale</td>\n",
       "      <td>forest [ENVO:00000111]</td>\n",
       "      <td>2</td>\n",
       "      <td>0.004577</td>\n",
       "    </tr>\n",
       "    <tr>\n",
       "      <th>3</th>\n",
       "      <td>air</td>\n",
       "      <td>env_broad_scale</td>\n",
       "      <td>temperate grassland biome [ENVO:01000193]</td>\n",
       "      <td>6</td>\n",
       "      <td>0.013730</td>\n",
       "    </tr>\n",
       "    <tr>\n",
       "      <th>4</th>\n",
       "      <td>air</td>\n",
       "      <td>env_broad_scale</td>\n",
       "      <td>temperate woodland biome [ENVO:01000221]</td>\n",
       "      <td>9</td>\n",
       "      <td>0.020595</td>\n",
       "    </tr>\n",
       "    <tr>\n",
       "      <th>...</th>\n",
       "      <td>...</td>\n",
       "      <td>...</td>\n",
       "      <td>...</td>\n",
       "      <td>...</td>\n",
       "      <td>...</td>\n",
       "    </tr>\n",
       "    <tr>\n",
       "      <th>1585</th>\n",
       "      <td>water</td>\n",
       "      <td>ploidy</td>\n",
       "      <td>diploid [PATO:0001394]</td>\n",
       "      <td>9</td>\n",
       "      <td>0.562500</td>\n",
       "    </tr>\n",
       "    <tr>\n",
       "      <th>1586</th>\n",
       "      <td>water</td>\n",
       "      <td>ploidy</td>\n",
       "      <td>haploid [PATO:0001375]</td>\n",
       "      <td>6</td>\n",
       "      <td>0.375000</td>\n",
       "    </tr>\n",
       "    <tr>\n",
       "      <th>1587</th>\n",
       "      <td>water</td>\n",
       "      <td>ploidy</td>\n",
       "      <td>unmapped [unmapped]</td>\n",
       "      <td>1</td>\n",
       "      <td>0.062500</td>\n",
       "    </tr>\n",
       "    <tr>\n",
       "      <th>1588</th>\n",
       "      <td>water</td>\n",
       "      <td>samp_collect_device</td>\n",
       "      <td>bottle [FOODON:03490214]</td>\n",
       "      <td>27</td>\n",
       "      <td>0.030612</td>\n",
       "    </tr>\n",
       "    <tr>\n",
       "      <th>1589</th>\n",
       "      <td>water</td>\n",
       "      <td>samp_collect_device</td>\n",
       "      <td>unmapped [unmapped]</td>\n",
       "      <td>855</td>\n",
       "      <td>0.969388</td>\n",
       "    </tr>\n",
       "  </tbody>\n",
       "</table>\n",
       "<p>1590 rows × 5 columns</p>\n",
       "</div>"
      ],
      "text/plain": [
       "     env_package                 slot  \\\n",
       "0            air      env_broad_scale   \n",
       "1            air      env_broad_scale   \n",
       "2            air      env_broad_scale   \n",
       "3            air      env_broad_scale   \n",
       "4            air      env_broad_scale   \n",
       "...          ...                  ...   \n",
       "1585       water               ploidy   \n",
       "1586       water               ploidy   \n",
       "1587       water               ploidy   \n",
       "1588       water  samp_collect_device   \n",
       "1589       water  samp_collect_device   \n",
       "\n",
       "                                          value  val_count  fraction  \n",
       "0                           air [ENVO:00002005]        189  0.432494  \n",
       "1                cropland biome [ENVO:01000245]         48  0.109840  \n",
       "2                        forest [ENVO:00000111]          2  0.004577  \n",
       "3     temperate grassland biome [ENVO:01000193]          6  0.013730  \n",
       "4      temperate woodland biome [ENVO:01000221]          9  0.020595  \n",
       "...                                         ...        ...       ...  \n",
       "1585                     diploid [PATO:0001394]          9  0.562500  \n",
       "1586                     haploid [PATO:0001375]          6  0.375000  \n",
       "1587                        unmapped [unmapped]          1  0.062500  \n",
       "1588                   bottle [FOODON:03490214]         27  0.030612  \n",
       "1589                        unmapped [unmapped]        855  0.969388  \n",
       "\n",
       "[1590 rows x 5 columns]"
      ]
     },
     "execution_count": 84,
     "metadata": {},
     "output_type": "execute_result"
    }
   ],
   "source": [
    "is_frac = pd.merge(is_counts, is_sums)\n",
    "is_frac[\"fraction\"] = is_frac[\"val_count\"] / is_frac[\"ep_var_sum\"]\n",
    "is_frac = is_frac.drop(\"ep_var_sum\", axis=1)\n",
    "is_frac = is_frac.rename(columns={\"variable\": \"slot\"})\n",
    "\n",
    "is_frac"
   ]
  },
  {
   "cell_type": "code",
   "execution_count": 85,
   "id": "c0face55",
   "metadata": {
    "ExecuteTime": {
     "end_time": "2021-08-26T14:53:47.521861Z",
     "start_time": "2021-08-26T14:53:47.510909Z"
    }
   },
   "outputs": [],
   "source": [
    "envpack_slot_fracs_file = \"envpack_slot_fractions.tsv\"\n",
    "is_frac.to_csv(envpack_slot_fracs_file, index=False, sep=\"\\t\")"
   ]
  },
  {
   "cell_type": "code",
   "execution_count": null,
   "id": "ce1055ab",
   "metadata": {},
   "outputs": [],
   "source": [
    "casted.reset_index(level=0, inplace=True)"
   ]
  },
  {
   "cell_type": "markdown",
   "id": "42b37be8",
   "metadata": {},
   "source": [
    "---"
   ]
  },
  {
   "cell_type": "code",
   "execution_count": null,
   "id": "beaa97a9",
   "metadata": {
    "ExecuteTime": {
     "end_time": "2021-08-26T03:33:20.759313Z",
     "start_time": "2021-08-26T03:33:20.759303Z"
    }
   },
   "outputs": [],
   "source": [
    "# ba['ontology_prefix'].value_counts()\n",
    "\n",
    "# ontology_elections = 'ENVO,MICRO,FMA,UBERON,NCBITAXON,FOODON,MA,EFO,CHEBI,AGRO,PATO,DOID,MONDO,OBI,PR,HP,PO'.lower()"
   ]
  },
  {
   "cell_type": "markdown",
   "id": "94c72a62",
   "metadata": {},
   "source": [
    " accounting of unfiltered search over top ~ 1000 query results\n",
    "\n",
    "```\n",
    "ENVO            191\n",
    "NCIT            137\n",
    "MICRO            34\n",
    "OMIT             29\n",
    "FMA              16\n",
    "GAZ              11\n",
    "UBERON           10\n",
    "NCBITAXON         7\n",
    "FOODON            6\n",
    "MA                6\n",
    "EFO               4\n",
    "CHEBI             4\n",
    "AGRO              4\n",
    "SPD               3\n",
    "CCO               3\n",
    "GENEPIO           3\n",
    "BAO               2\n",
    "OHPI              2\n",
    "OHMI              2\n",
    "PATO              2\n",
    "NMR               2\n",
    "MS                2\n",
    "DOID              2\n",
    "IDOMAL            2\n",
    "OGG               2\n",
    "OBI               2\n",
    "EOL               2\n",
    "VTO               2\n",
    "PR                1\n",
    "MRO               1\n",
    "MCO               1\n",
    "HP                1\n",
    "ARO               1\n",
    "CO_357            1\n",
    "ECAO              1\n",
    "IDO-COVID-19      1\n",
    "EDAM              1\n",
    "MAXO              1\n",
    "CO_366            1\n",
    "BTO               1\n",
    "TGMA              1\n",
    "EUPATH            1\n",
    "ExO               1\n",
    "CEPH              1\n",
    "PLANP             1\n",
    "MIRO              1\n",
    "FIDEO             1\n",
    "COVOC             1\n",
    "SYMP              1\n",
    "HCAO              1\n",
    "WBPhenotype       1\n",
    "SO                1\n",
    "ONS               1\n",
    "EMAPA             1\n",
    "AFO               1\n",
    "ECTO              1\n",
    "CO_340            1\n",
    "```"
   ]
  },
  {
   "cell_type": "markdown",
   "id": "b42540ae",
   "metadata": {},
   "source": [
    "----"
   ]
  },
  {
   "cell_type": "markdown",
   "id": "fd3a518c",
   "metadata": {},
   "source": [
    "we can now say what is meant by the presence of term ids in many of the annotations\n",
    "\n",
    "Questions:\n",
    "- should we compare the asserted label to the depleted annotation?\n",
    "- over what space should we search the values for which a term/label wasn't found?\n",
    "- use rdftab, runner or API like OLS?\n",
    "- how to rank and filter hits?\n",
    "- try harder with some of the malformed extracts?\n",
    "- what about PREFIX:label style? remove prefixes that have already been recognized from the extracts?\n"
   ]
  },
  {
   "cell_type": "markdown",
   "id": "64b88932",
   "metadata": {},
   "source": [
    "----"
   ]
  },
  {
   "cell_type": "markdown",
   "id": "066af8db",
   "metadata": {},
   "source": [
    "Slow and unsuccessful attempt to cluster singletons\n",
    "\n",
    "Using right-truncation of numbers instead"
   ]
  },
  {
   "cell_type": "code",
   "execution_count": null,
   "id": "5e967fdd",
   "metadata": {
    "ExecuteTime": {
     "end_time": "2021-08-26T03:33:20.760336Z",
     "start_time": "2021-08-26T03:33:20.760323Z"
    }
   },
   "outputs": [],
   "source": [
    "# # slow\n",
    "\n",
    "# lev_similarity = -1 * np.array(\n",
    "#     [[distance.levenshtein(w1, w2) for w1 in words] for w2 in words]\n",
    "# )\n",
    "\n",
    "# lev_similarity"
   ]
  },
  {
   "cell_type": "code",
   "execution_count": null,
   "id": "bd33e11a",
   "metadata": {
    "ExecuteTime": {
     "end_time": "2021-08-26T03:33:20.761269Z",
     "start_time": "2021-08-26T03:33:20.761259Z"
    }
   },
   "outputs": [],
   "source": [
    "# affprop = AffinityPropagation(affinity=\"precomputed\", damping=0.5)\n",
    "# affprop.fit(lev_similarity)"
   ]
  },
  {
   "cell_type": "markdown",
   "id": "d20cffc7",
   "metadata": {},
   "source": [
    "```\n",
    "/Users/MAM/Documents/gitrepos/scoped-mapping/venv/lib/python3.9/site-packages/sklearn/cluster/_affinity_propagation.py:148: FutureWarning: 'random_state' has been introduced in 0.23. It will be set to None starting from 1.0 (renaming of 0.25) which means that results will differ at every function call. Set 'random_state' to None to silence this warning, or to 0 to keep the behavior of versions <0.23.\n",
    "  warnings.warn(\n",
    "/Users/MAM/Documents/gitrepos/scoped-mapping/venv/lib/python3.9/site-packages/sklearn/cluster/_affinity_propagation.py:246: ConvergenceWarning: Affinity propagation did not converge, this model will not have any cluster centers.\n",
    "  warnings.warn(\"Affinity propagation did not converge, this model \"\n",
    "```"
   ]
  },
  {
   "cell_type": "code",
   "execution_count": null,
   "id": "c094799e",
   "metadata": {
    "ExecuteTime": {
     "end_time": "2021-08-26T03:33:20.762295Z",
     "start_time": "2021-08-26T03:33:20.762284Z"
    }
   },
   "outputs": [],
   "source": [
    "# for cluster_id in np.unique(affprop.labels_):\n",
    "#     exemplar = words[affprop.cluster_centers_indices_[cluster_id]]\n",
    "#     cluster = np.unique(words[np.nonzero(affprop.labels_ == cluster_id)])\n",
    "#     cluster_str = \", \".join(cluster)\n",
    "#     print(\" - *%s:* %s\" % (exemplar, cluster_str))"
   ]
  }
 ],
 "metadata": {
  "kernelspec": {
   "display_name": "Python 3 (ipykernel)",
   "language": "python",
   "name": "python3"
  },
  "language_info": {
   "codemirror_mode": {
    "name": "ipython",
    "version": 3
   },
   "file_extension": ".py",
   "mimetype": "text/x-python",
   "name": "python",
   "nbconvert_exporter": "python",
   "pygments_lexer": "ipython3",
   "version": "3.9.6"
  },
  "varInspector": {
   "cols": {
    "lenName": 16,
    "lenType": 16,
    "lenVar": 40
   },
   "kernels_config": {
    "python": {
     "delete_cmd_postfix": "",
     "delete_cmd_prefix": "del ",
     "library": "var_list.py",
     "varRefreshCmd": "print(var_dic_list())"
    },
    "r": {
     "delete_cmd_postfix": ") ",
     "delete_cmd_prefix": "rm(",
     "library": "var_list.r",
     "varRefreshCmd": "cat(var_dic_list()) "
    }
   },
   "oldHeight": 122,
   "position": {
    "height": "144px",
    "left": "1550px",
    "right": "20px",
    "top": "120px",
    "width": "350px"
   },
   "types_to_exclude": [
    "module",
    "function",
    "builtin_function_or_method",
    "instance",
    "_Feature"
   ],
   "varInspector_section_display": "block",
   "window_display": false
  }
 },
 "nbformat": 4,
 "nbformat_minor": 5
}
