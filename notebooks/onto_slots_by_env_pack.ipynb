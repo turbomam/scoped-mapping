{
 "cells": [
  {
   "cell_type": "code",
   "execution_count": null,
   "id": "4657d661",
   "metadata": {
    "ExecuteTime": {
     "end_time": "2021-08-26T01:04:57.422189Z",
     "start_time": "2021-08-26T01:04:57.418264Z"
    }
   },
   "outputs": [],
   "source": [
    "import yaml\n",
    "import sqlite3\n",
    "import pandas as pd\n",
    "import scoped_mapping\n",
    "import re\n",
    "import requests\n",
    "import string\n",
    "\n",
    "import sys\n",
    "\n",
    "import numpy as np\n",
    "from sklearn.cluster import AffinityPropagation\n",
    "import distance\n",
    "\n",
    "mixs_terms_file = \"../../mixs-source/model/schema/terms.yaml\"\n",
    "harmonized_table_db = \"../target/harmonized_table.db\"\n",
    "\n",
    "# this is static, so counts will not be accuarate as adatabase grows\n",
    "# raw env_package values could be added or removed over time, too\n",
    "# I have code that automates some of this, but even that has SOME manual curations\n",
    "# and some intermittent bugs (esp removing leading checklist name)\n",
    "env_package_count_file = \"../data/env_package_count_manual_20210824.tsv\"\n",
    "\n",
    "# there are some runons like\n",
    "# 81 occurences of ...lhouseENVO:00003040\n",
    "# start with a capital letter\n",
    "obo_pattern = \"[A-Z][a-zA-Z]{1,9}[\\.| |_|:][0-9]{6,9}\"\n",
    "\n",
    "ols_ontologies_url = \"http://www.ebi.ac.uk/ols/api/ontologies?size=500\"\n",
    "# only up to mid 200s now. Not bothering with pagination\n",
    "\n",
    "findByIdAndIsDefiningOntology_url = (\n",
    "    \"http://www.ebi.ac.uk/ols/api/terms/findByIdAndIsDefiningOntology?obo_id=\"\n",
    ")\n",
    "\n",
    "output_file = \"onto_slots_by_env_pack.tsv\""
   ]
  },
  {
   "cell_type": "code",
   "execution_count": null,
   "id": "f0a89efc",
   "metadata": {
    "ExecuteTime": {
     "end_time": "2021-08-26T01:04:58.493918Z",
     "start_time": "2021-08-26T01:04:58.489627Z"
    }
   },
   "outputs": [],
   "source": [
    "# works bare but not as a function?\n",
    "# dumps objects in memory sorted by size\n",
    "\n",
    "# https://stackoverflow.com/questions/40993626/list-memory-usage-in-ipython-and-jupyter\n",
    "# These are the usual ipython objects, including this one you are creating\n",
    "ipython_vars = [\"In\", \"Out\", \"exit\", \"quit\", \"get_ipython\", \"ipython_vars\"]\n",
    "\n",
    "# Get a sorted list of the objects and their sizes\n",
    "def var_sizes():\n",
    "    temp = sorted(\n",
    "        [\n",
    "            (x, sys.getsizeof(globals().get(x)))\n",
    "            for x in dir()\n",
    "            if not x.startswith(\"_\") and x not in sys.modules and x not in ipython_vars\n",
    "        ],\n",
    "        key=lambda x: x[1],\n",
    "        reverse=True,\n",
    "    )\n",
    "    print(temp)\n",
    "    return temp"
   ]
  },
  {
   "cell_type": "code",
   "execution_count": null,
   "id": "af420eb4",
   "metadata": {
    "ExecuteTime": {
     "end_time": "2021-08-26T01:05:00.520532Z",
     "start_time": "2021-08-26T01:04:59.527512Z"
    }
   },
   "outputs": [],
   "source": [
    "with open(mixs_terms_file) as f:\n",
    "    mixs_terms = yaml.safe_load(f)\n",
    "\n",
    "mixs_slots = mixs_terms[\"slots\"]\n",
    "\n",
    "slotnames = mixs_slots.keys()\n",
    "\n",
    "termid_terms = []"
   ]
  },
  {
   "cell_type": "code",
   "execution_count": null,
   "id": "b8cd0b09",
   "metadata": {
    "ExecuteTime": {
     "end_time": "2021-08-26T01:05:01.706782Z",
     "start_time": "2021-08-26T01:05:01.703157Z"
    }
   },
   "outputs": [],
   "source": [
    "for slot in slotnames:\n",
    "    current_obj = mixs_slots[slot]\n",
    "    current_keys = list(current_obj.keys())\n",
    "    if \"pattern\" in current_keys:\n",
    "        the_pattern = current_obj[\"pattern\"]\n",
    "        if \"termID\" in the_pattern:\n",
    "            termid_terms.append(slot)"
   ]
  },
  {
   "cell_type": "code",
   "execution_count": null,
   "id": "5a374f32",
   "metadata": {
    "ExecuteTime": {
     "end_time": "2021-08-26T01:05:02.796674Z",
     "start_time": "2021-08-26T01:05:02.787051Z"
    }
   },
   "outputs": [],
   "source": [
    "termid_terms.sort()\n",
    "termid_terms"
   ]
  },
  {
   "cell_type": "code",
   "execution_count": null,
   "id": "258b325b",
   "metadata": {
    "ExecuteTime": {
     "end_time": "2021-08-26T01:05:04.372953Z",
     "start_time": "2021-08-26T01:05:04.367518Z"
    }
   },
   "outputs": [],
   "source": [
    "connection = sqlite3.connect(harmonized_table_db)\n",
    "cursor = connection.execute(\"select * from biosample limit 1\")\n",
    "ht_names = [description[0] for description in cursor.description]"
   ]
  },
  {
   "cell_type": "code",
   "execution_count": null,
   "id": "5e28d3f3",
   "metadata": {
    "ExecuteTime": {
     "end_time": "2021-08-26T01:05:05.729284Z",
     "start_time": "2021-08-26T01:05:05.724607Z"
    }
   },
   "outputs": [],
   "source": [
    "htms = set(ht_names)\n",
    "tts = set(termid_terms)\n",
    "missing_from_ht = list(tts - htms)\n",
    "missing_from_ht.sort()\n",
    "missing_from_ht"
   ]
  },
  {
   "cell_type": "code",
   "execution_count": null,
   "id": "2f98605b",
   "metadata": {
    "ExecuteTime": {
     "end_time": "2021-08-26T01:05:07.143912Z",
     "start_time": "2021-08-26T01:05:07.141069Z"
    }
   },
   "outputs": [],
   "source": [
    "terms_to_tabulate = list(tts.intersection(htms))"
   ]
  },
  {
   "cell_type": "markdown",
   "id": "5ce18333",
   "metadata": {},
   "source": [
    "### possible remedies?\n",
    "- host_disease_stat (host_disease? host_disease_outcome?)\n",
    "- plant_growth_med (there is a general growth_med )\n",
    "- plant_struc (there is a plant_body_site)\n",
    "- samp_collec_device spelled as samp_collect_device\n",
    "\n",
    "### CJM doesn't care about these\n",
    "- season (there is a season_environment)\n",
    "- seq_meth"
   ]
  },
  {
   "cell_type": "code",
   "execution_count": null,
   "id": "3074c39e",
   "metadata": {
    "ExecuteTime": {
     "end_time": "2021-08-26T01:05:09.371509Z",
     "start_time": "2021-08-26T01:05:09.367006Z"
    }
   },
   "outputs": [],
   "source": [
    "manual_adds = [\n",
    "    \"host_disease\",\n",
    "    \"host_disease_outcome\",\n",
    "    \"growth_med\",\n",
    "    \"plant_body_site\",\n",
    "    \"samp_collect_device\",\n",
    "]\n",
    "terms_to_tabulate = terms_to_tabulate + manual_adds\n",
    "terms_to_tabulate.sort()\n",
    "terms_to_tabulate"
   ]
  },
  {
   "cell_type": "code",
   "execution_count": null,
   "id": "49b3d515",
   "metadata": {
    "ExecuteTime": {
     "end_time": "2021-08-26T01:05:10.424189Z",
     "start_time": "2021-08-26T01:05:10.394658Z"
    }
   },
   "outputs": [],
   "source": [
    "env_package_count_manual = pd.read_csv(env_package_count_file, sep=\"\\t\")"
   ]
  },
  {
   "cell_type": "code",
   "execution_count": null,
   "id": "b673994c",
   "metadata": {
    "ExecuteTime": {
     "end_time": "2021-08-26T01:05:11.631565Z",
     "start_time": "2021-08-26T01:05:11.593913Z"
    }
   },
   "outputs": [],
   "source": [
    "env_package_count_manual"
   ]
  },
  {
   "cell_type": "code",
   "execution_count": null,
   "id": "1f234f6b",
   "metadata": {
    "ExecuteTime": {
     "end_time": "2021-08-26T01:05:12.737513Z",
     "start_time": "2021-08-26T01:05:12.735233Z"
    }
   },
   "outputs": [],
   "source": [
    "# add env_package_count_manual to sqlite database\n",
    "\n",
    "## indices!\n",
    "# create index biosample_env_pack_idx on\n",
    "#  biosample(env_package) ;"
   ]
  },
  {
   "cell_type": "code",
   "execution_count": null,
   "id": "51f3b276",
   "metadata": {
    "ExecuteTime": {
     "end_time": "2021-08-26T01:05:13.889059Z",
     "start_time": "2021-08-26T01:05:13.886744Z"
    }
   },
   "outputs": [],
   "source": [
    "# build query from sample id, raw and tidy env_package, and the terms_to_tabulate columns\n",
    "# then cast wide to long\n",
    "\n",
    "for_query = \", \".join(terms_to_tabulate)"
   ]
  },
  {
   "cell_type": "code",
   "execution_count": null,
   "id": "8427d609",
   "metadata": {
    "ExecuteTime": {
     "end_time": "2021-08-26T01:05:15.098517Z",
     "start_time": "2021-08-26T01:05:15.095461Z"
    }
   },
   "outputs": [],
   "source": [
    "whole_query = (\n",
    "    \"\"\"select\n",
    "\tid,\n",
    "\tb.env_package as env_package_raw,\n",
    "\tepcm.tidy as env_package_tidy, \"\"\"\n",
    "    + for_query\n",
    "    + \"\"\" from\n",
    "\tbiosample b\n",
    "join env_package_count_manual epcm on\n",
    "\tb.env_package = epcm .env_package\n",
    "where\n",
    "\tepcm.tidy != ''\n",
    "-- limit 9\n",
    "\"\"\"\n",
    ")"
   ]
  },
  {
   "cell_type": "code",
   "execution_count": null,
   "id": "46fa1638",
   "metadata": {
    "ExecuteTime": {
     "end_time": "2021-08-26T01:05:18.413771Z",
     "start_time": "2021-08-26T01:05:16.762013Z"
    }
   },
   "outputs": [],
   "source": [
    "termterms_by_tidypackage = pd.read_sql_query(whole_query, connection)"
   ]
  },
  {
   "cell_type": "code",
   "execution_count": null,
   "id": "87fe3e05",
   "metadata": {
    "ExecuteTime": {
     "end_time": "2021-08-26T01:05:19.471183Z",
     "start_time": "2021-08-26T01:05:19.193474Z"
    }
   },
   "outputs": [],
   "source": [
    "wtl = pd.melt(\n",
    "    termterms_by_tidypackage,\n",
    "    id_vars=\"id\",\n",
    "    value_vars=terms_to_tabulate,\n",
    ")"
   ]
  },
  {
   "cell_type": "code",
   "execution_count": null,
   "id": "18aa1fda",
   "metadata": {
    "ExecuteTime": {
     "end_time": "2021-08-26T01:05:21.704637Z",
     "start_time": "2021-08-26T01:05:21.508136Z"
    }
   },
   "outputs": [],
   "source": [
    "wtl = wtl[wtl[\"value\"].notna()]"
   ]
  },
  {
   "cell_type": "code",
   "execution_count": null,
   "id": "2480e6da",
   "metadata": {
    "ExecuteTime": {
     "end_time": "2021-08-26T01:05:26.803928Z",
     "start_time": "2021-08-26T01:05:25.415399Z"
    }
   },
   "outputs": [],
   "source": [
    "wtl[\"value\"] = wtl[\"value\"].str.split(\"|\")\n",
    "wtl = wtl.explode(\"value\", ignore_index=True)"
   ]
  },
  {
   "cell_type": "code",
   "execution_count": null,
   "id": "55fd1e05",
   "metadata": {
    "ExecuteTime": {
     "end_time": "2021-08-26T01:05:36.877079Z",
     "start_time": "2021-08-26T01:05:36.793550Z"
    }
   },
   "outputs": [],
   "source": [
    "wtl_value_counts = wtl[\"value\"].value_counts().to_frame()\n",
    "wtl_value_counts.reset_index(level=0, inplace=True)\n",
    "wtl_value_counts.columns = [\"value\", \"count\"]"
   ]
  },
  {
   "cell_type": "code",
   "execution_count": null,
   "id": "b3917fd8",
   "metadata": {
    "ExecuteTime": {
     "end_time": "2021-08-26T01:05:38.697143Z",
     "start_time": "2021-08-26T01:05:38.688554Z"
    }
   },
   "outputs": [],
   "source": [
    "for_capture = \"(\" + obo_pattern + \")\"\n",
    "p = re.compile(for_capture)\n",
    "wtl_value_counts[\"extract\"] = wtl_value_counts[\"value\"].str.extract(p)\n",
    "# are there any extracts that generate a list?\n",
    "# now how to tidy and or validate? OLS lookup?"
   ]
  },
  {
   "cell_type": "code",
   "execution_count": null,
   "id": "c05eb723",
   "metadata": {
    "ExecuteTime": {
     "end_time": "2021-08-26T01:05:40.708299Z",
     "start_time": "2021-08-26T01:05:40.703352Z"
    }
   },
   "outputs": [],
   "source": [
    "extract_count = wtl_value_counts[\"extract\"].value_counts().to_frame()\n",
    "extract_count.reset_index(level=0, inplace=True)\n",
    "extract_count.columns = [\"extract\", \"count\"]"
   ]
  },
  {
   "cell_type": "code",
   "execution_count": null,
   "id": "0774a131",
   "metadata": {
    "ExecuteTime": {
     "end_time": "2021-08-26T01:05:42.240472Z",
     "start_time": "2021-08-26T01:05:42.236325Z"
    }
   },
   "outputs": [],
   "source": [
    "split_extract = extract_count[\"extract\"].str.split(r\"[ .:_]\", expand=True)\n",
    "split_extract.columns = [\"prefix\", \"local_part\"]"
   ]
  },
  {
   "cell_type": "code",
   "execution_count": null,
   "id": "6e0fa5b4",
   "metadata": {
    "ExecuteTime": {
     "end_time": "2021-08-26T01:05:43.797421Z",
     "start_time": "2021-08-26T01:05:43.775411Z"
    }
   },
   "outputs": [],
   "source": [
    "extract_count = pd.concat([extract_count, split_extract], axis=1)\n",
    "extract_count[\"prefix_lower\"] = extract_count[\"prefix\"].str.lower()\n",
    "extract_count[\"prefix_upper\"] = extract_count[\"prefix\"].str.upper()\n",
    "\n",
    "# what if prefix doesn't ahve the right capitalizastion\n",
    "# could lowercase, then look up as OLS ontologyId and get preferredPrefix\n",
    "\n",
    "extract_count[\"reconstituted\"] = extract_count[[\"prefix_upper\", \"local_part\"]].agg(\n",
    "    \":\".join, axis=1\n",
    ")"
   ]
  },
  {
   "cell_type": "code",
   "execution_count": null,
   "id": "4fab91db",
   "metadata": {
    "ExecuteTime": {
     "end_time": "2021-08-26T01:05:47.521050Z",
     "start_time": "2021-08-26T01:05:47.516442Z"
    }
   },
   "outputs": [],
   "source": [
    "prefix_count = extract_count[\"prefix_lower\"].value_counts().to_frame()\n",
    "prefix_count.reset_index(level=0, inplace=True)\n",
    "prefix_count.columns = [\"prefix\", \"count\"]"
   ]
  },
  {
   "cell_type": "code",
   "execution_count": null,
   "id": "56c38914",
   "metadata": {
    "ExecuteTime": {
     "end_time": "2021-08-26T01:05:52.880533Z",
     "start_time": "2021-08-26T01:05:50.474136Z"
    }
   },
   "outputs": [],
   "source": [
    "r = requests.get(ols_ontologies_url)\n",
    "rj = json.loads(r.content)\n",
    "# only up to mid 200s now. Not bothering with pagination\n",
    "rj[\"page\"][\"totalPages\"]"
   ]
  },
  {
   "cell_type": "code",
   "execution_count": null,
   "id": "d2e716a2",
   "metadata": {
    "ExecuteTime": {
     "end_time": "2021-08-26T01:06:02.585584Z",
     "start_time": "2021-08-26T01:06:02.581875Z"
    }
   },
   "outputs": [],
   "source": [
    "# ols_ontology_ids = []\n",
    "ols_ontology_ids = {}\n",
    "ols_ontology_list = rj[\"_embedded\"][\"ontologies\"]\n",
    "# dict comprehension?\n",
    "for ontology in ols_ontology_list:\n",
    "    #     ols_ontology_ids.append(ontology[\"ontologyId\"])\n",
    "    if \"config\" in ontology:\n",
    "        if \"preferredPrefix\" in ontology[\"config\"]:\n",
    "            ols_ontology_ids[ontology[\"ontologyId\"]] = ontology[\"config\"][\n",
    "                \"preferredPrefix\"\n",
    "            ]\n",
    "    else:\n",
    "        ols_ontology_ids[ontology[\"ontologyId\"]] = \"\"\n",
    "\n",
    "## preferredPrefix says \"NCBITAXON\" not \"NCBITaxon\""
   ]
  },
  {
   "cell_type": "code",
   "execution_count": null,
   "id": "66fd8f2e",
   "metadata": {
    "ExecuteTime": {
     "end_time": "2021-08-26T01:06:03.949476Z",
     "start_time": "2021-08-26T01:06:03.946975Z"
    }
   },
   "outputs": [],
   "source": [
    "ols_ontology_id_list = list(ols_ontology_ids.keys())"
   ]
  },
  {
   "cell_type": "code",
   "execution_count": null,
   "id": "0668bada",
   "metadata": {
    "ExecuteTime": {
     "end_time": "2021-08-26T01:06:08.503232Z",
     "start_time": "2021-08-26T01:06:08.500681Z"
    }
   },
   "outputs": [],
   "source": [
    "claimed_prefixes = set(prefix_count[\"prefix\"])"
   ]
  },
  {
   "cell_type": "code",
   "execution_count": null,
   "id": "c91d5b14",
   "metadata": {
    "ExecuteTime": {
     "end_time": "2021-08-26T01:06:15.042310Z",
     "start_time": "2021-08-26T01:06:15.038325Z"
    }
   },
   "outputs": [],
   "source": [
    "ols_doesnt_recognize = list(claimed_prefixes - set(ols_ontology_id_list))\n",
    "ols_doesnt_recognize"
   ]
  },
  {
   "cell_type": "code",
   "execution_count": null,
   "id": "c363ef19",
   "metadata": {
    "ExecuteTime": {
     "end_time": "2021-08-26T01:06:17.588606Z",
     "start_time": "2021-08-26T01:06:17.584438Z"
    }
   },
   "outputs": [],
   "source": [
    "claimed_recognized = list(claimed_prefixes.intersection(set(ols_ontology_id_list)))\n",
    "claimed_recognized"
   ]
  },
  {
   "cell_type": "markdown",
   "id": "4433e6a2",
   "metadata": {},
   "source": [
    "_could manually assert  env -> envo_"
   ]
  },
  {
   "cell_type": "code",
   "execution_count": null,
   "id": "b1501f54",
   "metadata": {
    "ExecuteTime": {
     "end_time": "2021-08-26T01:06:22.118033Z",
     "start_time": "2021-08-26T01:06:22.114603Z"
    }
   },
   "outputs": [],
   "source": [
    "prefix_count[\"recognized\"] = prefix_count[\"prefix\"].isin(claimed_recognized)"
   ]
  },
  {
   "cell_type": "code",
   "execution_count": null,
   "id": "144f41f5",
   "metadata": {
    "ExecuteTime": {
     "end_time": "2021-08-26T01:06:23.879537Z",
     "start_time": "2021-08-26T01:06:23.876147Z"
    }
   },
   "outputs": [],
   "source": [
    "temp = prefix_count[[\"prefix\", \"recognized\"]]\n",
    "temp.columns = [\"prefix_lower\", \"recognized\"]"
   ]
  },
  {
   "cell_type": "code",
   "execution_count": null,
   "id": "9072708d",
   "metadata": {
    "ExecuteTime": {
     "end_time": "2021-08-26T01:06:25.326533Z",
     "start_time": "2021-08-26T01:06:25.320808Z"
    }
   },
   "outputs": [],
   "source": [
    "extract_count = pd.merge(\n",
    "    extract_count, temp, left_on=\"prefix_lower\", right_on=\"prefix_lower\", how=\"left\"\n",
    ")"
   ]
  },
  {
   "cell_type": "code",
   "execution_count": null,
   "id": "66ed0d47",
   "metadata": {
    "ExecuteTime": {
     "end_time": "2021-08-26T01:06:30.325844Z",
     "start_time": "2021-08-26T01:06:30.322124Z"
    }
   },
   "outputs": [],
   "source": [
    "extracted_recognized_list = extract_count[\"reconstituted\"].loc[\n",
    "    extract_count[\"recognized\"]\n",
    "]\n",
    "extracted_recognized_list.sort_values(inplace=True)"
   ]
  },
  {
   "cell_type": "code",
   "execution_count": null,
   "id": "5a853839",
   "metadata": {
    "ExecuteTime": {
     "end_time": "2021-08-26T01:06:31.454962Z",
     "start_time": "2021-08-26T01:06:31.452816Z"
    }
   },
   "outputs": [],
   "source": [
    "# term_to_label = {}\n",
    "# for term in extracted_recognized_list:\n",
    "#     print(term)\n",
    "#     r = requests.get(findByIdAndIsDefiningOntology_url + term)\n",
    "#     if r.status_code == 200:\n",
    "#         temp = json.loads(r.content)\n",
    "#         if \"_embedded\" in temp:\n",
    "#             if \"terms\" in temp[\"_embedded\"]:\n",
    "#                 # list. assume 0 or 1?\n",
    "#                 #   as opposed to multiple hits for a single term in the defining ontology\n",
    "#                 if \"label\" in temp[\"_embedded\"][\"terms\"][0]:\n",
    "#                     print(temp[\"_embedded\"][\"terms\"][0][\"label\"])\n",
    "#                     term_to_label[term] = temp[\"_embedded\"][\"terms\"][0][\"label\"]"
   ]
  },
  {
   "cell_type": "code",
   "execution_count": null,
   "id": "902120f4",
   "metadata": {
    "ExecuteTime": {
     "end_time": "2021-08-26T01:06:32.514162Z",
     "start_time": "2021-08-26T01:06:32.511744Z"
    }
   },
   "outputs": [],
   "source": [
    "# use this as a cache to minimize OLS API REST calls\n",
    "# term_to_label = pd.DataFrame(term_to_label.items(), columns=[\"id\", \"label\"])"
   ]
  },
  {
   "cell_type": "code",
   "execution_count": null,
   "id": "f0092332",
   "metadata": {
    "ExecuteTime": {
     "end_time": "2021-08-26T01:06:33.801462Z",
     "start_time": "2021-08-26T01:06:33.799150Z"
    }
   },
   "outputs": [],
   "source": [
    "# term_to_label.to_sql(\n",
    "#     \"term_to_label\",\n",
    "#     connection,\n",
    "#     if_exists=\"append\",\n",
    "#     index=False,\n",
    "#     index_label=None,\n",
    "#     chunksize=None,\n",
    "#     dtype=None,\n",
    "#     method=None,\n",
    "# )"
   ]
  },
  {
   "cell_type": "code",
   "execution_count": null,
   "id": "04ddf6d1",
   "metadata": {
    "ExecuteTime": {
     "end_time": "2021-08-26T01:06:38.517431Z",
     "start_time": "2021-08-26T01:06:38.512913Z"
    }
   },
   "outputs": [],
   "source": [
    "term_to_label = pd.read_sql(\n",
    "    \"select * from term_to_label\",\n",
    "    connection,\n",
    "    index_col=None,\n",
    "    coerce_float=False,\n",
    "    params=None,\n",
    "    parse_dates=None,\n",
    "    columns=None,\n",
    "    chunksize=None,\n",
    ")"
   ]
  },
  {
   "cell_type": "code",
   "execution_count": null,
   "id": "6a558f96",
   "metadata": {
    "ExecuteTime": {
     "end_time": "2021-08-26T01:06:41.555887Z",
     "start_time": "2021-08-26T01:06:41.551138Z"
    }
   },
   "outputs": [],
   "source": [
    "extract_count = pd.merge(\n",
    "    extract_count, term_to_label, left_on=\"reconstituted\", right_on=\"id\", how=\"left\"\n",
    ")"
   ]
  },
  {
   "cell_type": "code",
   "execution_count": null,
   "id": "114ee88b",
   "metadata": {
    "ExecuteTime": {
     "end_time": "2021-08-26T01:06:42.764214Z",
     "start_time": "2021-08-26T01:06:42.761206Z"
    }
   },
   "outputs": [],
   "source": [
    "# termterms_by_tidypackage\n",
    "#   245 577 rows × 16 columns\n",
    "#   initial wide query result\n",
    "# wtl\n",
    "#   822 761 rows × 3 columns\n",
    "#   id\tvariable\tvalue\n",
    "# wtl_value_counts\n",
    "#   4383 rows × 3 columns\n",
    "#   value\tcount\textract\n",
    "# extract_count\n",
    "#   283 rows × 9 columns\n",
    "#   extract\tcount\tprefix\tlocal_part\tprefix_lower\treconstituted\trecognized\tid\tlabel\n",
    "# term_to_label\n",
    "#    269 rows × 2 columns\n",
    "#    id\tlabel\n",
    "# split_extract\n",
    "#    283 rows × 2 columns\n",
    "#    prefix\tlocal_part\n",
    "# prefix_count\n",
    "#    11 x 3\n",
    "#    prefix\tcount\trecognized"
   ]
  },
  {
   "cell_type": "code",
   "execution_count": null,
   "id": "136391c0",
   "metadata": {
    "ExecuteTime": {
     "end_time": "2021-08-26T01:06:45.608457Z",
     "start_time": "2021-08-26T01:06:45.600132Z"
    }
   },
   "outputs": [],
   "source": [
    "wtl_value_counts = pd.merge(\n",
    "    wtl_value_counts,\n",
    "    extract_count,\n",
    "    how=\"left\",\n",
    "    on=\"extract\",\n",
    "    suffixes=(\"_annot\", \"_extr\"),\n",
    ")"
   ]
  },
  {
   "cell_type": "code",
   "execution_count": null,
   "id": "d5c53eac",
   "metadata": {
    "ExecuteTime": {
     "end_time": "2021-08-26T01:06:49.534247Z",
     "start_time": "2021-08-26T01:06:49.522315Z"
    }
   },
   "outputs": [],
   "source": [
    "wtl_value_counts[\"depleted\"] = wtl_value_counts[\"value\"].replace(\n",
    "    value=\"\", inplace=False, limit=None, regex=obo_pattern\n",
    ")"
   ]
  },
  {
   "cell_type": "code",
   "execution_count": null,
   "id": "dca7c597",
   "metadata": {
    "ExecuteTime": {
     "end_time": "2021-08-26T01:07:01.928363Z",
     "start_time": "2021-08-26T01:07:01.920236Z"
    }
   },
   "outputs": [],
   "source": [
    "term_to_label[\"tidy\"] = term_to_label[\"label\"]\n",
    "term_to_label[\"tidy\"] = term_to_label[\"tidy\"].str.lower()\n",
    "\n",
    "# replace punctuation\n",
    "term_to_label[\"tidy\"] = term_to_label[\"tidy\"].str.replace(\n",
    "    \"[{}]\".format(string.punctuation), \" \"\n",
    ")\n",
    "\n",
    "term_to_label[\"tidy\"] = term_to_label[\"tidy\"].str.strip()\n",
    "term_to_label[\"tidy\"] = term_to_label[\"tidy\"].replace(\n",
    "    value=\" \", inplace=False, limit=None, regex=\" +\"\n",
    ")\n",
    "\n",
    "# refactor!"
   ]
  },
  {
   "cell_type": "code",
   "execution_count": null,
   "id": "b9819207",
   "metadata": {
    "ExecuteTime": {
     "end_time": "2021-08-26T01:07:04.525491Z",
     "start_time": "2021-08-26T01:07:04.435967Z"
    }
   },
   "outputs": [],
   "source": [
    "# wtl_value_counts['tidy'] = scoped_mapping.whiteout...\n",
    "\n",
    "wtl_value_counts[\"tidy\"] = wtl_value_counts[\"depleted\"]\n",
    "wtl_value_counts[\"tidy\"] = wtl_value_counts[\"tidy\"].str.lower()\n",
    "\n",
    "# replace punctuation\n",
    "wtl_value_counts[\"tidy\"] = wtl_value_counts[\"tidy\"].str.replace(\n",
    "    \"[{}]\".format(string.punctuation), \" \"\n",
    ")\n",
    "\n",
    "wtl_value_counts[\"tidy\"] = wtl_value_counts[\"tidy\"].str.strip()\n",
    "wtl_value_counts[\"tidy\"] = wtl_value_counts[\"tidy\"].replace(\n",
    "    value=\" \", inplace=False, limit=None, regex=\" +\"\n",
    ")\n",
    "\n",
    "# replace or utilize ontology name prefixes (before text, not numbers)\n",
    "preflist = list(prefix_count[\"prefix\"].loc[prefix_count[\"recognized\"]])\n",
    "for prefix in preflist:\n",
    "    anchored = \"^\" + prefix + \" \"\n",
    "    wtl_value_counts[\"tidy\"] = wtl_value_counts[\"tidy\"].replace(\n",
    "        value=\"\", inplace=False, limit=None, regex=anchored\n",
    "    )\n",
    "\n",
    "# propigate labels that were already looked up from terms?\n",
    "temp = term_to_label[[\"tidy\", \"id\"]]\n",
    "wtl_value_counts = pd.merge(\n",
    "    wtl_value_counts,\n",
    "    temp,\n",
    "    left_on=\"tidy\",\n",
    "    right_on=\"tidy\",\n",
    "    how=\"left\",\n",
    "    suffixes=(\"_orig\", \"_backtrack\"),\n",
    ")\n",
    "\n",
    "wtl_value_counts[\"id_consensus\"] = wtl_value_counts[\"id_orig\"].fillna(\n",
    "    wtl_value_counts[\"id_backtrack\"]\n",
    ")\n",
    "\n",
    "# don't pursue tidy terms that only appear once\n",
    "#   but what about numerical suffixes like fish lung 1, fish lung 2, etc>"
   ]
  },
  {
   "cell_type": "code",
   "execution_count": null,
   "id": "f117937b",
   "metadata": {
    "ExecuteTime": {
     "end_time": "2021-08-26T01:07:33.611508Z",
     "start_time": "2021-08-26T01:07:33.549578Z"
    }
   },
   "outputs": [],
   "source": [
    "wtl_value_counts.to_clipboard(index=False)"
   ]
  },
  {
   "cell_type": "code",
   "execution_count": null,
   "id": "2e5ad5b3",
   "metadata": {
    "ExecuteTime": {
     "end_time": "2021-08-26T01:09:26.918567Z",
     "start_time": "2021-08-26T01:09:26.891734Z"
    }
   },
   "outputs": [],
   "source": [
    "singletons = wtl_value_counts[\"tidy\"].loc[\n",
    "    wtl_value_counts[\"count_annot\"] == 1 & wtl_value_counts[\"id_consensus\"].isna()\n",
    "]\n",
    "singletons = singletons.value_counts().to_frame()\n",
    "singletons.reset_index(level=0, inplace=True)\n",
    "singletons.columns = [\"value\", \"count\"]\n",
    "\n",
    "singletons[\"strlen\"] = singletons[\"value\"].str.len()\n",
    "singletons[\"pursue\"] = singletons[\"count\"] == 1 & singletons[\"strlen\"].gt(0)\n",
    "singletons = singletons.loc[singletons[\"pursue\"]]\n",
    "\n",
    "singletons[\"generalized\"] = singletons[\"value\"].replace(\n",
    "    value=\"\", inplace=False, limit=None, regex=\"[ 0-9]+$\"\n",
    ")\n",
    "\n",
    "generalized = singletons[\"generalized\"].value_counts().to_frame()\n",
    "generalized.reset_index(level=0, inplace=True)\n",
    "generalized.columns = [\"generalized\", \"count\"]\n",
    "generalized[\"strlen\"] = generalized[\"generalized\"].str.len()\n",
    "\n",
    "singletons = pd.merge(\n",
    "    singletons,\n",
    "    generalized,\n",
    "    left_on=\"generalized\",\n",
    "    right_on=\"generalized\",\n",
    "    how=\"left\",\n",
    "    suffixes=(\"_s\", \"_g\"),\n",
    ")\n",
    "\n",
    "gen_useful = singletons.loc[singletons[\"count_g\"].gt(1) & singletons[\"strlen_g\"].gt(2)]\n",
    "\n",
    "gen_useful = gen_useful[[\"value\", \"generalized\"]]\n",
    "\n",
    "# also remove \" from.*$\" ?\n",
    "\n",
    "# words = np.asarray(temp['value'].loc[temp['use_for_clust']])"
   ]
  },
  {
   "cell_type": "code",
   "execution_count": null,
   "id": "0d492941",
   "metadata": {
    "ExecuteTime": {
     "end_time": "2021-08-26T01:09:28.197942Z",
     "start_time": "2021-08-26T01:09:28.151458Z"
    }
   },
   "outputs": [],
   "source": [
    "gen_useful.to_clipboard(index=False)"
   ]
  },
  {
   "cell_type": "code",
   "execution_count": null,
   "id": "adf08fb8",
   "metadata": {
    "ExecuteTime": {
     "end_time": "2021-08-26T01:10:32.878789Z",
     "start_time": "2021-08-26T01:10:32.865562Z"
    }
   },
   "outputs": [],
   "source": [
    "wtl_value_counts = pd.merge(\n",
    "    wtl_value_counts, gen_useful, how=\"left\", left_on=\"value\", right_on=\"value\"\n",
    ")"
   ]
  },
  {
   "cell_type": "code",
   "execution_count": null,
   "id": "005f9dd9",
   "metadata": {
    "ExecuteTime": {
     "end_time": "2021-08-26T01:10:37.934468Z",
     "start_time": "2021-08-26T01:10:37.929806Z"
    }
   },
   "outputs": [],
   "source": [
    "wtl_value_counts[\"generalized_consensus\"] = wtl_value_counts[\"generalized\"].fillna(\n",
    "    wtl_value_counts[\"tidy\"]\n",
    ")"
   ]
  },
  {
   "cell_type": "code",
   "execution_count": null,
   "id": "da5c39e1",
   "metadata": {
    "ExecuteTime": {
     "end_time": "2021-08-26T01:10:54.594547Z",
     "start_time": "2021-08-26T01:10:54.492694Z"
    }
   },
   "outputs": [],
   "source": [
    "wtl_value_counts.to_clipboard(index=False)"
   ]
  },
  {
   "cell_type": "code",
   "execution_count": null,
   "id": "1ed70567",
   "metadata": {
    "ExecuteTime": {
     "end_time": "2021-08-26T01:28:06.143808Z",
     "start_time": "2021-08-26T01:28:06.141186Z"
    }
   },
   "outputs": [],
   "source": [
    "min_count = 10\n",
    "elected_ontologies = \"envo,micro,fma,uberon,ncbitaxon,foodon,ma,efo,chebi,agro,pato,doid,mondo,obi,pr,hp,po\""
   ]
  },
  {
   "cell_type": "code",
   "execution_count": null,
   "id": "add446a0",
   "metadata": {
    "ExecuteTime": {
     "end_time": "2021-08-26T01:28:06.823104Z",
     "start_time": "2021-08-26T01:28:06.809718Z"
    }
   },
   "outputs": [],
   "source": [
    "raw_list = (\n",
    "    wtl_value_counts.loc[wtl_value_counts[\"id_consensus\"].isna()]\n",
    "    .groupby(by=[\"generalized_consensus\"])\n",
    "    .sum()\n",
    ")\n",
    "\n",
    "raw_list.reset_index(level=0, inplace=True)\n",
    "\n",
    "raw_list = list(\n",
    "    raw_list[\"generalized_consensus\"].loc[raw_list[\"count_annot\"].ge(min_count)]\n",
    ")\n",
    "\n",
    "list_len = len(raw_list)\n",
    "\n",
    "# skip blanks or all numbers"
   ]
  },
  {
   "cell_type": "code",
   "execution_count": null,
   "id": "6165f1b3",
   "metadata": {
    "ExecuteTime": {
     "end_time": "2021-08-26T01:28:07.543224Z",
     "start_time": "2021-08-26T01:28:07.541346Z"
    }
   },
   "outputs": [],
   "source": [
    "# raw_list"
   ]
  },
  {
   "cell_type": "code",
   "execution_count": null,
   "id": "1a69b3c0",
   "metadata": {
    "ExecuteTime": {
     "end_time": "2021-08-26T01:46:26.411796Z",
     "start_time": "2021-08-26T01:28:08.380396Z"
    }
   },
   "outputs": [],
   "source": [
    "print(elected_ontologies)\n",
    "print(min_count)\n",
    "print(list_len)\n",
    "\n",
    "sgaw_res = scoped_mapping.search_get_annotations_wrapper(\n",
    "    raw_list,\n",
    "    #     bad_chars=standard_replacement_chars,\n",
    "    #     cat_name=standard_cat_name,\n",
    "    ontoprefix=elected_ontologies,\n",
    "    #     query_fields=\"\",\n",
    "    rr=10,\n",
    "    string_dist_arg=2,\n",
    ")\n",
    "\n",
    "# ge 100 (329 queries) 7 min\n",
    "#  was using gt, not gte\n",
    "#  8 minutes for count > 30\n",
    "# 12 minutes for count > 10 (1066 queries)\n",
    "# XX minutes for count >  3 (1538 queries)\n",
    "#    error\n",
    "\n",
    "# not currently prioritizing by ontology\n",
    "# so root may go to NCBItaxon"
   ]
  },
  {
   "cell_type": "code",
   "execution_count": null,
   "id": "483b2270",
   "metadata": {
    "ExecuteTime": {
     "end_time": "2021-08-26T01:49:25.244013Z",
     "start_time": "2021-08-26T01:49:24.614704Z"
    }
   },
   "outputs": [],
   "source": [
    "# query\tname\tstring_dist_rank\tstring_dist\n",
    "# non saline sediment environment\tsaline sediment environment\t1\t0.045\n",
    "# microbial mats\tmicrobial mat\t1\t0.039\n",
    "\n",
    "ba = scoped_mapping.get_best_acceptable(sgaw_res, max_string_dist=0.04)\n",
    "\n",
    "print(min_count)\n",
    "print(list_len)\n",
    "print(len(ba.index))"
   ]
  },
  {
   "cell_type": "code",
   "execution_count": null,
   "id": "118a47c0",
   "metadata": {
    "ExecuteTime": {
     "end_time": "2021-08-26T01:49:29.963336Z",
     "start_time": "2021-08-26T01:49:29.953954Z"
    }
   },
   "outputs": [],
   "source": [
    "ols_mergable = ba[[\"raw\", \"obo_id\", \"label\"]]\n",
    "wtl_value_counts = pd.merge(\n",
    "    wtl_value_counts,\n",
    "    ols_mergable,\n",
    "    left_on=\"generalized_consensus\",\n",
    "    right_on=\"raw\",\n",
    "    how=\"left\",\n",
    "    suffixes=(\"_presearch\", \"_withsearch\"),\n",
    ")"
   ]
  },
  {
   "cell_type": "code",
   "execution_count": null,
   "id": "0ae6e7ed",
   "metadata": {
    "ExecuteTime": {
     "end_time": "2021-08-26T01:49:31.047765Z",
     "start_time": "2021-08-26T01:49:31.043483Z"
    }
   },
   "outputs": [],
   "source": [
    "wtl_value_counts[\"id_final\"] = wtl_value_counts[\"obo_id\"].fillna(\n",
    "    wtl_value_counts[\"id_consensus\"]\n",
    ")"
   ]
  },
  {
   "cell_type": "code",
   "execution_count": null,
   "id": "b2503f64",
   "metadata": {
    "ExecuteTime": {
     "end_time": "2021-08-26T01:49:32.141309Z",
     "start_time": "2021-08-26T01:49:32.136835Z"
    }
   },
   "outputs": [],
   "source": [
    "wtl_value_counts[\"label_final\"] = wtl_value_counts[\"label_withsearch\"].fillna(\n",
    "    wtl_value_counts[\"label_presearch\"]\n",
    ")"
   ]
  },
  {
   "cell_type": "code",
   "execution_count": null,
   "id": "53bb1268",
   "metadata": {
    "ExecuteTime": {
     "end_time": "2021-08-26T01:49:33.265890Z",
     "start_time": "2021-08-26T01:49:33.262048Z"
    }
   },
   "outputs": [],
   "source": [
    "wtl_value_counts[\"label_final\"] = wtl_value_counts[\"label_final\"].fillna(\n",
    "    wtl_value_counts[\"generalized_consensus\"]\n",
    ")"
   ]
  },
  {
   "cell_type": "code",
   "execution_count": null,
   "id": "9714a71c",
   "metadata": {
    "ExecuteTime": {
     "end_time": "2021-08-26T01:49:48.136245Z",
     "start_time": "2021-08-26T01:49:48.131774Z"
    }
   },
   "outputs": [],
   "source": [
    "merge_back_to_samples = wtl_value_counts[[\"value\", \"id_final\", \"label_final\"]]\n",
    "merge_back_to_samples = merge_back_to_samples.loc[\n",
    "    ~merge_back_to_samples[\"id_final\"].isna()\n",
    "]"
   ]
  },
  {
   "cell_type": "code",
   "execution_count": null,
   "id": "46a87ca6",
   "metadata": {
    "ExecuteTime": {
     "end_time": "2021-08-26T01:49:57.062098Z",
     "start_time": "2021-08-26T01:49:56.749381Z"
    }
   },
   "outputs": [],
   "source": [
    "wtl = pd.merge(\n",
    "    wtl,\n",
    "    merge_back_to_samples,\n",
    "    left_on=\"value\",\n",
    "    right_on=\"value\",\n",
    "    how=\"left\",\n",
    "    suffixes=(\"_sqlres\", \"_mappingres\"),\n",
    ")"
   ]
  },
  {
   "cell_type": "code",
   "execution_count": null,
   "id": "3a49b6c8",
   "metadata": {
    "ExecuteTime": {
     "end_time": "2021-08-26T02:03:09.452359Z",
     "start_time": "2021-08-26T02:03:08.880132Z"
    }
   },
   "outputs": [],
   "source": [
    "wtl[\"id_final\"] = wtl[\"id_final\"].fillna(\"unmapped\")\n",
    "wtl[\"label_final\"] = wtl[\"label_final\"].fillna(\"unmapped\")\n",
    "\n",
    "wtl[\"lab_id\"] = wtl[\"label_final\"] + \" [\" + wtl[\"id_final\"] + \"]\""
   ]
  },
  {
   "cell_type": "code",
   "execution_count": null,
   "id": "0f4d4790",
   "metadata": {
    "ExecuteTime": {
     "end_time": "2021-08-26T02:21:11.349597Z",
     "start_time": "2021-08-26T02:21:11.321982Z"
    }
   },
   "outputs": [],
   "source": [
    "for_cast = wtl[[\"id\", \"variable\", \"lab_id\"]]"
   ]
  },
  {
   "cell_type": "code",
   "execution_count": null,
   "id": "6f46397a",
   "metadata": {
    "ExecuteTime": {
     "end_time": "2021-08-26T02:22:15.218601Z",
     "start_time": "2021-08-26T02:21:13.921725Z"
    }
   },
   "outputs": [],
   "source": [
    "for_cast[\"lab_id\"] = (\n",
    "    for_cast[[\"id\", \"lab_id\", \"variable\"]]\n",
    "    .groupby([\"id\", \"variable\"])[\"lab_id\"]\n",
    "    .transform(lambda x: \" | \".join(x))\n",
    ")\n",
    "for_cast = for_cast[[\"id\", \"variable\", \"lab_id\"]].drop_duplicates()"
   ]
  },
  {
   "cell_type": "code",
   "execution_count": null,
   "id": "965cb0af",
   "metadata": {
    "ExecuteTime": {
     "end_time": "2021-08-26T02:22:21.052892Z",
     "start_time": "2021-08-26T02:22:20.220559Z"
    }
   },
   "outputs": [],
   "source": [
    "casted = for_cast.pivot(index=\"id\", columns=\"variable\", values=\"lab_id\")\n"
   ]
  },
  {
   "cell_type": "code",
   "execution_count": null,
   "id": "d6cec045",
   "metadata": {
    "ExecuteTime": {
     "end_time": "2021-08-26T02:23:00.559945Z",
     "start_time": "2021-08-26T02:23:00.536570Z"
    }
   },
   "outputs": [],
   "source": [
    "casted.reset_index(level=0, inplace=True)\n",
    "casted"
   ]
  },
  {
   "cell_type": "code",
   "execution_count": null,
   "id": "9a67a8dd",
   "metadata": {
    "ExecuteTime": {
     "end_time": "2021-08-26T02:28:17.358793Z",
     "start_time": "2021-08-26T02:28:17.337722Z"
    }
   },
   "outputs": [],
   "source": [
    "temp = termterms_by_tidypackage[[\"id\", \"env_package_tidy\"]]\n",
    "temp.columns=['id','env_package']\n"
   ]
  },
  {
   "cell_type": "code",
   "execution_count": null,
   "id": "e1b25b14",
   "metadata": {
    "ExecuteTime": {
     "end_time": "2021-08-26T02:30:14.339128Z",
     "start_time": "2021-08-26T02:30:14.207502Z"
    }
   },
   "outputs": [],
   "source": [
    "casted = casted.drop(\"env_package_tidy\", axis=1)\n"
   ]
  },
  {
   "cell_type": "code",
   "execution_count": null,
   "id": "0108217e",
   "metadata": {
    "ExecuteTime": {
     "end_time": "2021-08-26T02:30:20.146541Z",
     "start_time": "2021-08-26T02:30:19.885995Z"
    }
   },
   "outputs": [],
   "source": [
    "casted = pd.merge(\n",
    "    casted,\n",
    "    temp,\n",
    "    how=\"left\",\n",
    "    on=\"id\",\n",
    "    suffixes=(\"_slots\", \"_package\"),\n",
    ")"
   ]
  },
  {
   "cell_type": "code",
   "execution_count": null,
   "id": "82a09838",
   "metadata": {
    "ExecuteTime": {
     "end_time": "2021-08-26T02:31:54.698038Z",
     "start_time": "2021-08-26T02:31:54.679528Z"
    }
   },
   "outputs": [],
   "source": [
    "casted"
   ]
  },
  {
   "cell_type": "code",
   "execution_count": null,
   "id": "8786abb6",
   "metadata": {
    "ExecuteTime": {
     "end_time": "2021-08-26T02:36:36.526015Z",
     "start_time": "2021-08-26T02:36:36.520942Z"
    }
   },
   "outputs": [],
   "source": [
    "put_first = [\"id\", \"env_package\"]\n",
    "casted_cols = set(casted.columns)\n",
    "casted_cols = list(casted_cols - set(put_first))\n",
    "casted_cols.sort()\n",
    "casted_cols = put_first + casted_cols\n",
    "casted_cols"
   ]
  },
  {
   "cell_type": "code",
   "execution_count": null,
   "id": "c3ba5f36",
   "metadata": {
    "ExecuteTime": {
     "end_time": "2021-08-26T02:36:40.596162Z",
     "start_time": "2021-08-26T02:36:40.541674Z"
    }
   },
   "outputs": [],
   "source": [
    "casted = casted[casted_cols]\n",
    "casted"
   ]
  },
  {
   "cell_type": "code",
   "execution_count": null,
   "id": "93ce65e0",
   "metadata": {
    "ExecuteTime": {
     "end_time": "2021-08-26T02:38:34.619881Z",
     "start_time": "2021-08-26T02:38:33.609629Z"
    }
   },
   "outputs": [],
   "source": [
    "casted.to_csv(output_file, index=False, sep=\"\\t\")"
   ]
  },
  {
   "cell_type": "code",
   "execution_count": null,
   "id": "b45004bb",
   "metadata": {
    "ExecuteTime": {
     "end_time": "2021-08-25T22:40:56.279455Z",
     "start_time": "2021-08-25T22:40:56.275465Z"
    }
   },
   "outputs": [],
   "source": [
    "# # ba['ontology_prefix'].value_counts()\n",
    "\n",
    "# ontology_elections = 'ENVO,MICRO,FMA,UBERON,NCBITAXON,FOODON,MA,EFO,CHEBI,AGRO,PATO,DOID,MONDO,OBI,PR,HP,PO'.lower()\n",
    "# ontology_elections"
   ]
  },
  {
   "cell_type": "markdown",
   "id": "e691989b",
   "metadata": {},
   "source": [
    " accounting of unfiltered search over top ~ 1000 query results\n",
    "\n",
    "```\n",
    "ENVO            191\n",
    "NCIT            137\n",
    "MICRO            34\n",
    "OMIT             29\n",
    "FMA              16\n",
    "GAZ              11\n",
    "UBERON           10\n",
    "NCBITAXON         7\n",
    "FOODON            6\n",
    "MA                6\n",
    "EFO               4\n",
    "CHEBI             4\n",
    "AGRO              4\n",
    "SPD               3\n",
    "CCO               3\n",
    "GENEPIO           3\n",
    "BAO               2\n",
    "OHPI              2\n",
    "OHMI              2\n",
    "PATO              2\n",
    "NMR               2\n",
    "MS                2\n",
    "DOID              2\n",
    "IDOMAL            2\n",
    "OGG               2\n",
    "OBI               2\n",
    "EOL               2\n",
    "VTO               2\n",
    "PR                1\n",
    "MRO               1\n",
    "MCO               1\n",
    "HP                1\n",
    "ARO               1\n",
    "CO_357            1\n",
    "ECAO              1\n",
    "IDO-COVID-19      1\n",
    "EDAM              1\n",
    "MAXO              1\n",
    "CO_366            1\n",
    "BTO               1\n",
    "TGMA              1\n",
    "EUPATH            1\n",
    "ExO               1\n",
    "CEPH              1\n",
    "PLANP             1\n",
    "MIRO              1\n",
    "FIDEO             1\n",
    "COVOC             1\n",
    "SYMP              1\n",
    "HCAO              1\n",
    "WBPhenotype       1\n",
    "SO                1\n",
    "ONS               1\n",
    "EMAPA             1\n",
    "AFO               1\n",
    "ECTO              1\n",
    "CO_340            1\n",
    "```"
   ]
  },
  {
   "cell_type": "markdown",
   "id": "b42540ae",
   "metadata": {},
   "source": [
    "----"
   ]
  },
  {
   "cell_type": "markdown",
   "id": "fd3a518c",
   "metadata": {},
   "source": [
    "we can now say what is meant by the presence of term ids in many of the annotations\n",
    "\n",
    "Questions:\n",
    "- should we compare the asserted label to the depleted annotation?\n",
    "- over what space should we search the values for which a term/label wasn't found?\n",
    "- use rdftab, runner or API like OLS?\n",
    "- how to rank and filter hits?\n",
    "- try harder with some of the malformed extracts?\n",
    "- what about PREFIX:label style? remove prefixes that have already been recognized from the extracts?\n"
   ]
  },
  {
   "cell_type": "markdown",
   "id": "0f07821a",
   "metadata": {},
   "source": [
    "----"
   ]
  },
  {
   "cell_type": "code",
   "execution_count": null,
   "id": "5e967fdd",
   "metadata": {},
   "outputs": [],
   "source": [
    "# # slow\n",
    "\n",
    "# lev_similarity = -1 * np.array(\n",
    "#     [[distance.levenshtein(w1, w2) for w1 in words] for w2 in words]\n",
    "# )\n",
    "\n",
    "# lev_similarity"
   ]
  },
  {
   "cell_type": "code",
   "execution_count": null,
   "id": "bd33e11a",
   "metadata": {},
   "outputs": [],
   "source": [
    "# affprop = AffinityPropagation(affinity=\"precomputed\", damping=0.5)\n",
    "# affprop.fit(lev_similarity)"
   ]
  },
  {
   "cell_type": "markdown",
   "id": "d20cffc7",
   "metadata": {},
   "source": [
    "```\n",
    "/Users/MAM/Documents/gitrepos/scoped-mapping/venv/lib/python3.9/site-packages/sklearn/cluster/_affinity_propagation.py:148: FutureWarning: 'random_state' has been introduced in 0.23. It will be set to None starting from 1.0 (renaming of 0.25) which means that results will differ at every function call. Set 'random_state' to None to silence this warning, or to 0 to keep the behavior of versions <0.23.\n",
    "  warnings.warn(\n",
    "/Users/MAM/Documents/gitrepos/scoped-mapping/venv/lib/python3.9/site-packages/sklearn/cluster/_affinity_propagation.py:246: ConvergenceWarning: Affinity propagation did not converge, this model will not have any cluster centers.\n",
    "  warnings.warn(\"Affinity propagation did not converge, this model \"\n",
    "```"
   ]
  },
  {
   "cell_type": "code",
   "execution_count": null,
   "id": "c094799e",
   "metadata": {},
   "outputs": [],
   "source": [
    "# for cluster_id in np.unique(affprop.labels_):\n",
    "#     exemplar = words[affprop.cluster_centers_indices_[cluster_id]]\n",
    "#     cluster = np.unique(words[np.nonzero(affprop.labels_ == cluster_id)])\n",
    "#     cluster_str = \", \".join(cluster)\n",
    "#     print(\" - *%s:* %s\" % (exemplar, cluster_str))"
   ]
  }
 ],
 "metadata": {
  "kernelspec": {
   "display_name": "Python 3 (ipykernel)",
   "language": "python",
   "name": "python3"
  },
  "language_info": {
   "codemirror_mode": {
    "name": "ipython",
    "version": 3
   },
   "file_extension": ".py",
   "mimetype": "text/x-python",
   "name": "python",
   "nbconvert_exporter": "python",
   "pygments_lexer": "ipython3",
   "version": "3.9.6"
  },
  "varInspector": {
   "cols": {
    "lenName": 16,
    "lenType": 16,
    "lenVar": 40
   },
   "kernels_config": {
    "python": {
     "delete_cmd_postfix": "",
     "delete_cmd_prefix": "del ",
     "library": "var_list.py",
     "varRefreshCmd": "print(var_dic_list())"
    },
    "r": {
     "delete_cmd_postfix": ") ",
     "delete_cmd_prefix": "rm(",
     "library": "var_list.r",
     "varRefreshCmd": "cat(var_dic_list()) "
    }
   },
   "oldHeight": 122,
   "position": {
    "height": "144px",
    "left": "1550px",
    "right": "20px",
    "top": "120px",
    "width": "350px"
   },
   "types_to_exclude": [
    "module",
    "function",
    "builtin_function_or_method",
    "instance",
    "_Feature"
   ],
   "varInspector_section_display": "block",
   "window_display": false
  }
 },
 "nbformat": 4,
 "nbformat_minor": 5
}
