{
 "cells": [
  {
   "cell_type": "code",
   "execution_count": null,
   "id": "b5b841f2",
   "metadata": {},
   "outputs": [],
   "source": [
    "import os\n",
    "import pandas as pd\n",
    "import scoped_mapping\n",
    "import datetime"
   ]
  },
  {
   "cell_type": "code",
   "execution_count": null,
   "id": "da29c4a7",
   "metadata": {},
   "outputs": [],
   "source": [
    "need_mapping_dir = '../local/marcin'\n",
    "chars_to_whiteout = '._-'\n",
    "my_cat_name='all'\n",
    "my_onto_prefix = 'doid,hp,mondo'\n",
    "my_query_fields=''\n",
    "my_row_request=5\n",
    "my_best_cosine=0.05"
   ]
  },
  {
   "cell_type": "code",
   "execution_count": null,
   "id": "8bcc4fc3",
   "metadata": {},
   "outputs": [],
   "source": [
    "needs_mapping_files = os.listdir(need_mapping_dir)"
   ]
  },
  {
   "cell_type": "code",
   "execution_count": null,
   "id": "a1c642b4",
   "metadata": {},
   "outputs": [],
   "source": [
    "# needs_mapping_files"
   ]
  },
  {
   "cell_type": "code",
   "execution_count": null,
   "id": "5dcf11e5",
   "metadata": {},
   "outputs": [],
   "source": [
    "results_list = []\n",
    "for current_file in needs_mapping_files:\n",
    "    current_path = need_mapping_dir + '/' + current_file\n",
    "    with open(current_path, 'r') as file:\n",
    "        needs_mapping_phrases = [line.rstrip('\\n') for line in file]\n",
    "    temp = [current_file] * len(needs_mapping_phrases)\n",
    "    one_frame = pd.DataFrame(dict(file = temp, phrases = needs_mapping_phrases)).reset_index()\n",
    "    results_list.append(one_frame)\n",
    "results_frame = pd.concat(results_list)\n",
    "    "
   ]
  },
  {
   "cell_type": "code",
   "execution_count": null,
   "id": "eef84b7b",
   "metadata": {},
   "outputs": [],
   "source": [
    "# results_frame"
   ]
  },
  {
   "cell_type": "code",
   "execution_count": null,
   "id": "fb3e96c6",
   "metadata": {},
   "outputs": [],
   "source": [
    "unique_phrases = list(results_frame['phrases'])\n",
    "unique_phrases = list(set(unique_phrases))\n",
    "unique_phrases.sort()"
   ]
  },
  {
   "cell_type": "code",
   "execution_count": null,
   "id": "5dc6d156",
   "metadata": {},
   "outputs": [],
   "source": [
    "ebs_wo_frame = scoped_mapping.get_whiteout_frame(unique_phrases, replaced_chars=chars_to_whiteout)"
   ]
  },
  {
   "cell_type": "code",
   "execution_count": null,
   "id": "af87b1f1",
   "metadata": {},
   "outputs": [],
   "source": [
    "ebs_wo_list = scoped_mapping.get_wo_list(ebs_wo_frame)\n",
    "ebs_wo_list"
   ]
  },
  {
   "cell_type": "code",
   "execution_count": null,
   "id": "4694ffe5",
   "metadata": {},
   "outputs": [],
   "source": [
    "print(len(ebs_wo_list))"
   ]
  },
  {
   "cell_type": "code",
   "execution_count": null,
   "id": "29b2cf19",
   "metadata": {},
   "outputs": [],
   "source": [
    "print(datetime.datetime.now())"
   ]
  },
  {
   "cell_type": "code",
   "execution_count": null,
   "id": "8ef90928",
   "metadata": {},
   "outputs": [],
   "source": [
    "# takes about 1 second/phrase?\n",
    "searchres_annotations = scoped_mapping.search_get_annotations_wrapper(\n",
    "    ebs_wo_list,\n",
    "    bad_chars=chars_to_whiteout,\n",
    "    cat_name=my_cat_name,\n",
    "    ontoprefix=my_onto_prefix,\n",
    "    query_fields=my_query_fields,\n",
    "    rr=my_row_request)"
   ]
  },
  {
   "cell_type": "code",
   "execution_count": null,
   "id": "fe2b8ecf",
   "metadata": {},
   "outputs": [],
   "source": [
    "print(datetime.datetime.now())"
   ]
  },
  {
   "cell_type": "code",
   "execution_count": null,
   "id": "4bd4d4a1",
   "metadata": {},
   "outputs": [],
   "source": [
    "# searchres_annotations"
   ]
  },
  {
   "cell_type": "code",
   "execution_count": null,
   "id": "85238d81",
   "metadata": {},
   "outputs": [],
   "source": [
    "my_best_acceptable = scoped_mapping.get_best_acceptable(searchres_annotations, max_cosine=my_best_cosine)\n"
   ]
  },
  {
   "cell_type": "code",
   "execution_count": null,
   "id": "ab53499d",
   "metadata": {},
   "outputs": [],
   "source": [
    "my_best_acceptable.to_csv('../local/my_best_acceptable.tsv', index=False, sep='\\t')"
   ]
  },
  {
   "cell_type": "code",
   "execution_count": null,
   "id": "91ac97c8",
   "metadata": {},
   "outputs": [],
   "source": [
    "my_best_acceptable"
   ]
  },
  {
   "cell_type": "code",
   "execution_count": null,
   "id": "e0e0d6ca",
   "metadata": {},
   "outputs": [],
   "source": [
    "no_acceptable_mappings = scoped_mapping.get_no_acceptable_mappings(searchres_annotations, my_best_acceptable)\n",
    "no_acceptable_mappings"
   ]
  },
  {
   "cell_type": "code",
   "execution_count": null,
   "id": "8c711c27",
   "metadata": {},
   "outputs": [],
   "source": [
    "no_acceptable_mappings.to_csv('../local/no_acceptable_mappings.tsv', index=False, sep='\\t')"
   ]
  },
  {
   "cell_type": "code",
   "execution_count": null,
   "id": "1868ddd4",
   "metadata": {},
   "outputs": [],
   "source": [
    "no_acceptable_mappings"
   ]
  },
  {
   "cell_type": "code",
   "execution_count": null,
   "id": "5ab0484d",
   "metadata": {},
   "outputs": [],
   "source": []
  }
 ],
 "metadata": {
  "kernelspec": {
   "display_name": "Python 3",
   "language": "python",
   "name": "python3"
  },
  "language_info": {
   "codemirror_mode": {
    "name": "ipython",
    "version": 3
   },
   "file_extension": ".py",
   "mimetype": "text/x-python",
   "name": "python",
   "nbconvert_exporter": "python",
   "pygments_lexer": "ipython3",
   "version": "3.9.5"
  }
 },
 "nbformat": 4,
 "nbformat_minor": 5
}
