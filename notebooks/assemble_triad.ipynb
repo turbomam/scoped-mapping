{
 "cells": [
  {
   "cell_type": "markdown",
   "id": "621bbcd9",
   "metadata": {},
   "source": [
    "be really clear about what's going into repaired tables: \n",
    "- repaired\n",
    "- already OK\n",
    "- unrepairable\n",
    "\n",
    "Only ~ 215k repaired `env_package`s ?!\n",
    "- yeah, there just aren't that many annotated in the biosample metadata\n",
    "\n",
    "\n",
    "- some of this code should probably be moved back into the package\n",
    "    - splitting and repiping \n",
    "\n",
    "- read in previous SSSOMs and don't re-map? or at least double check?\n",
    "\n",
    "- don't forget to consult \"model\" field in biosample table too\n",
    "    - for scoping, in addition to en_package and taxonomy_id?\n",
    "\n",
    "- what to do about hits against obsolete classes... does OLS provide a mechanism to avoid?\n",
    "- be careful with GAZ matches\n",
    "- avoid IDless, OMIT, NCIT, MICRO, BTO\n",
    "\n",
    "- is it worth trimming and concatenating \"x1\", \"x2\", \"x3\", where x is a mappable term? numbers may be low.\n",
    "    - example = XXX\n",
    "\n",
    "- reconcile \"x biome\" and \"x\" mappings\n",
    "- take note of non-local salvage hits\n",
    "    - like XXX\n",
    "    - small/large (freshwater) lake?\n",
    "    - include native labels in the review frame, in addition to local?\n",
    "    - should use rdftab, not additional OLS calls\n",
    "    \n",
    "\n",
    "- switch from hard-coded `env_package_overrides` to something like SSSOM?\n",
    "- mappings can come from merging strategies, first pass OLS or salvage OLS\n",
    "- reflect those methods in SSSOM\n",
    "- add string distance/confidence\n",
    "    - multiple columns for multiple methods?\n",
    "\n",
    "review these SSSOM columns\n",
    "\n",
    "```\n",
    "    \"subject_category\": [biosample_col_to_map] * results_rows,\n",
    "    \"predicate_id\": [\"skos:relatedMatch\"] * results_rows,\n",
    "    \"match_type\": [\"Lexical\"] * results_rows,\n",
    "    \"creator_id\": [\"https://github.com/turbomam/scoped-mapping\"] * results_rows,\n",
    "    #     \"mapping_tool\": [\"https://www.ebi.ac.uk/ols/docs/api\"] * results_rows,\n",
    "    #     \"confidence\": 1 - frame_for_sssom[\"string_dist\"],\n",
    "```\n",
    "\n",
    "- are there samples with a host_taxid and a (sample) taxonomy_id from \"unclassified\"?\n",
    "- start at uncultured or metagenome taxonomy_id?\n",
    "\n",
    "- what scoping on or mapping of  \"gold\" or \"path\"? WON'T FIND THAT IN NCBI BIOSAMPLE\n",
    "\n",
    "\n",
    "What to save where? \n",
    "- new columns in biosample sqlite? \n",
    "- delimited file dumps\n",
    "- move content from original column and insert the new values into that original column?\n",
    "- pandas clipboard integration handy for review step\n"
   ]
  },
  {
   "cell_type": "code",
   "execution_count": null,
   "id": "fac2962f",
   "metadata": {},
   "outputs": [],
   "source": [
    "import pandas as pd\n",
    "import sqlite3\n",
    "\n",
    "import scoped_mapping\n",
    "\n",
    "from datetime import datetime\n",
    "\n",
    "from functools import reduce"
   ]
  },
  {
   "cell_type": "markdown",
   "id": "3300da64",
   "metadata": {},
   "source": [
    "# User-provided data\n",
    "See repo README for notes on setting up SQLite databases of OBO ontologies with semantic-sql, relation-graph and rdftab"
   ]
  },
  {
   "cell_type": "code",
   "execution_count": null,
   "id": "5684af0c",
   "metadata": {},
   "outputs": [],
   "source": [
    "# from https://www.ncbi.nlm.nih.gov/biosample/docs/packages/?format=xml\n",
    "# see also https://www.ncbi.nlm.nih.gov/biosample/docs/packages/\n",
    "biosample_packages_file = \"../target/biosample_packages.xml\"\n",
    "\n",
    "# from ftp://ftp.ncbi.nlm.nih.gov//biosample/biosample_set.xml.gz\n",
    "# via harmonized_table.db.gz\n",
    "# in https://drive.google.com/drive/u/0/folders/1eL0v0stoduahjDpoDJIk3z2pJBAU4b2Y\n",
    "biosample_sqlite_file = \"../target/harmonized_table.db\""
   ]
  },
  {
   "cell_type": "markdown",
   "id": "e377402d",
   "metadata": {},
   "source": [
    "- soil\n",
    "- sediment\n",
    "- plant-associated"
   ]
  },
  {
   "cell_type": "code",
   "execution_count": null,
   "id": "c4494ed1",
   "metadata": {},
   "outputs": [],
   "source": [
    "biosample_cnx = sqlite3.connect(biosample_sqlite_file)\n",
    "\n",
    "selected_package = \"sediment\""
   ]
  },
  {
   "cell_type": "code",
   "execution_count": null,
   "id": "9a118f4a",
   "metadata": {},
   "outputs": [],
   "source": [
    "# hard to do with pure sql in sqlite3 (no full outer jons,\n",
    "# just nested unions https://www.sqlitetutorial.net/sqlite-full-outer-join/)\n",
    "\n",
    "# selected_package = \"sediment\"\n",
    "# selected_package = \"plant-associated\"\n",
    "\n",
    "print(selected_package)\n",
    "\n",
    "repaireds = []\n",
    "mixs_triad_parts = [\"env_broad_scale\", \"env_local_scale\", \"env_medium\"]\n",
    "\n",
    "\n",
    "q = (\n",
    "    \"\"\"select\n",
    "\trep.id,\n",
    "\trep.env_package_orig ,\n",
    "\trep.env_package_rep ,\n",
    "\tb.env_broad_scale ,\n",
    "\tb.env_local_scale ,\n",
    "\tb.env_medium\n",
    "from\n",
    "\trepaired_env_package rep\n",
    "join biosample b\n",
    "\t\tusing(id)\n",
    "where\n",
    "\tenv_package_rep = '\"\"\"\n",
    "    + selected_package\n",
    "    + \"'\"\n",
    ")\n",
    "[repaired_env_package, query_duration] = scoped_mapping.timed_query(\n",
    "    q, biosample_cnx, print_timing=True\n",
    ")\n",
    "\n",
    "repaired_env_package = repaired_env_package.rename(\n",
    "    columns={\"env_package_rep\": \"env_package\"}\n",
    ")\n",
    "\n",
    "for current_part in mixs_triad_parts:\n",
    "    print(current_part)\n",
    "    repaired_env_package = repaired_env_package.rename(\n",
    "        columns={current_part: current_part + \"_orig\"}\n",
    "    )\n",
    "    \n",
    "repaireds.append(repaired_env_package)\n",
    "# print(repaired_env_package)"
   ]
  },
  {
   "cell_type": "markdown",
   "id": "86417986",
   "metadata": {},
   "source": [
    "some sediment samples don't appear in repaired_env_package?\n",
    "\n",
    "\n",
    "BIOSAMPLE:SAMEA2531522 is getting picked up by sediment and plant-associated?"
   ]
  },
  {
   "cell_type": "code",
   "execution_count": null,
   "id": "d9bc6bc1",
   "metadata": {},
   "outputs": [],
   "source": [
    "print(selected_package)\n",
    "'BIOSAMPLE:SAMEA2531522' in list(repaired_env_package['id'])"
   ]
  },
  {
   "cell_type": "code",
   "execution_count": null,
   "id": "b6e238d5",
   "metadata": {},
   "outputs": [],
   "source": [
    "for current_part in mixs_triad_parts:\n",
    "    print(current_part)\n",
    "    q = \"select * from repaired_\" + current_part\n",
    "    [repaired, query_duration] = scoped_mapping.timed_query(\n",
    "        q, biosample_cnx, print_timing=True\n",
    "    )\n",
    "    #     print(repaired.columns[1])\n",
    "    repaired = repaired.drop(\"notes\", axis=1)\n",
    "    repaired = repaired.drop(repaired.columns[1], axis=1)\n",
    "    #     repaired = repaired.rename(columns={repaired.columns[1]: current_part + \"_orig\"})\n",
    "    repaired = repaired.rename(columns={\"consensus_id\": current_part})\n",
    "    repaired = repaired.rename(columns={\"consensus_lab\": current_part + \"_label\"})\n",
    "    repaireds.append(repaired)\n",
    "#     print(repaired)\n",
    "\n",
    "\n",
    "# will need to fish out the unique non-null value\n",
    "# assume at least one ebs has been repaired and so can provide the notes value?\n",
    "q = \"select distinct notes from repaired_env_broad_scale\"\n",
    "[notes, query_duration] = scoped_mapping.timed_query(\n",
    "    q, biosample_cnx, print_timing=True\n",
    ")"
   ]
  },
  {
   "cell_type": "code",
   "execution_count": null,
   "id": "db5b61bc",
   "metadata": {},
   "outputs": [],
   "source": [
    "notes = list(notes[\"notes\"])\n",
    "\n",
    "notes = [i for i in notes if i]\n",
    "\n",
    "notes = notes[0]"
   ]
  },
  {
   "cell_type": "code",
   "execution_count": null,
   "id": "380d7e1f",
   "metadata": {},
   "outputs": [],
   "source": [
    "nan_value = \"\"\n",
    "\n",
    "repaired_mixs_plus = reduce(\n",
    "    lambda left, right: pd.merge(left, right, on=[\"id\"], how=\"outer\"), repaireds\n",
    ").fillna(nan_value)\n",
    "\n",
    "repaired_mixs_plus[\"notes\"] = notes"
   ]
  },
  {
   "cell_type": "code",
   "execution_count": null,
   "id": "edce0e92",
   "metadata": {},
   "outputs": [],
   "source": [
    "repaired_mixs_plus\n",
    "# lacks original values when no repair was made"
   ]
  },
  {
   "cell_type": "code",
   "execution_count": null,
   "id": "2fc4b78a",
   "metadata": {},
   "outputs": [],
   "source": [
    "# mixs_plus_repaired.to_csv(\"repaired_soil_packages.tsv\", sep=\"\\t\", index=False)"
   ]
  },
  {
   "cell_type": "code",
   "execution_count": null,
   "id": "eb2482fd",
   "metadata": {},
   "outputs": [],
   "source": [
    "repaired_mixs_plus.to_sql(\n",
    "    \"repaired_mixs_plus\", biosample_cnx, if_exists=\"append\", index=False\n",
    ")"
   ]
  },
  {
   "cell_type": "markdown",
   "id": "25dba049",
   "metadata": {},
   "source": [
    "```sql\n",
    "select\n",
    "\tenv_package ,\n",
    "\tcount(1)\n",
    "from\n",
    "\trepaired_mixs_plus rmp\n",
    "group by\n",
    "\tenv_package \n",
    "order by\n",
    "\tcount(1);\n",
    "```"
   ]
  },
  {
   "cell_type": "code",
   "execution_count": null,
   "id": "8eab8681",
   "metadata": {},
   "outputs": [],
   "source": []
  }
 ],
 "metadata": {
  "kernelspec": {
   "display_name": "Python 3",
   "language": "python",
   "name": "python3"
  },
  "language_info": {
   "codemirror_mode": {
    "name": "ipython",
    "version": 3
   },
   "file_extension": ".py",
   "mimetype": "text/x-python",
   "name": "python",
   "nbconvert_exporter": "python",
   "pygments_lexer": "ipython3",
   "version": "3.9.5"
  }
 },
 "nbformat": 4,
 "nbformat_minor": 5
}
