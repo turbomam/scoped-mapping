{
 "cells": [
  {
   "cell_type": "code",
   "execution_count": null,
   "id": "1b62fb7b",
   "metadata": {},
   "outputs": [],
   "source": [
    "import scoped_mapping\n",
    "import requests\n",
    "import yaml\n",
    "import sys"
   ]
  },
  {
   "cell_type": "code",
   "execution_count": null,
   "id": "8d579cd7",
   "metadata": {},
   "outputs": [],
   "source": [
    "model_file_name  = '../data/webmap_enums.yaml'\n",
    "my_selected_enum = 'Taxon_enum'\n",
    "my_bad_chars     = '._-'\n",
    "# my_bad_chars     = '._'\n",
    "my_onto_prefix   = 'ncbitaxon'\n",
    "my_query_fields  = '' # OLS weighted default\n",
    "\n",
    "my_row_request     = 3\n",
    "my_string_dist_arg = 2\n",
    "my_max_string_dist = 0.2"
   ]
  },
  {
   "cell_type": "code",
   "execution_count": null,
   "id": "7193123a",
   "metadata": {},
   "outputs": [],
   "source": [
    "# model_url = 'https://raw.githubusercontent.com/turbomam/scoped-mapping/main/data/webmap_enums.yaml'\n",
    "# model_response = requests.get(model_url)\n",
    "# model_content = model_response.content\n",
    "# with open(model_file_name, 'wb') as f:\n",
    "#     f.write(model_content)"
   ]
  },
  {
   "cell_type": "code",
   "execution_count": null,
   "id": "1b66c808",
   "metadata": {},
   "outputs": [],
   "source": [
    "my_model = scoped_mapping.read_yaml_model(model_file_name)"
   ]
  },
  {
   "cell_type": "code",
   "execution_count": null,
   "id": "465b1d25",
   "metadata": {},
   "outputs": [],
   "source": [
    "yaml.safe_dump(my_model, sys.stdout, default_flow_style=False)"
   ]
  },
  {
   "cell_type": "code",
   "execution_count": null,
   "id": "8a158ba7",
   "metadata": {},
   "outputs": [],
   "source": [
    "# def map_from_yaml(model, selected_enum, print_enums=False, bad_chars=standard_replacement_chars,\n",
    "#                   cat_name=standard_cat_name, ontoprefix='', query_fields='', string_dist_arg=2):\n",
    "    \n",
    "yaml_mapped = scoped_mapping.map_from_yaml(my_model, my_selected_enum,\n",
    "                                           print_enums=True,\n",
    "                                           bad_chars=my_bad_chars,\n",
    "                                           cat_name=my_selected_enum,\n",
    "                                           ontoprefix=my_onto_prefix,\n",
    "                                           query_fields=my_query_fields,\n",
    "                                           string_dist_arg=my_string_dist_arg,\n",
    "                                           rr=my_row_request)"
   ]
  },
  {
   "cell_type": "code",
   "execution_count": null,
   "id": "90ed1c5e",
   "metadata": {},
   "outputs": [],
   "source": [
    "my_best_acceptable = scoped_mapping.get_best_acceptable(yaml_mapped, max_string_dist=my_max_string_dist)\n",
    "\n",
    "my_best_acceptable"
   ]
  },
  {
   "cell_type": "code",
   "execution_count": null,
   "id": "d7f76364",
   "metadata": {},
   "outputs": [],
   "source": [
    "no_acceptable_mappings = scoped_mapping.get_no_acceptable_mappings(yaml_mapped, my_best_acceptable)\n",
    "\n",
    "no_acceptable_mappings"
   ]
  },
  {
   "cell_type": "code",
   "execution_count": null,
   "id": "6d543996",
   "metadata": {},
   "outputs": [],
   "source": [
    "# import strsimpy\n",
    "\n",
    "# a = 'ashbya gossypii'\n",
    "# b = 'Ashbya gossipii'\n",
    "\n",
    "# string_dist_arg = 2\n",
    "\n",
    "# # cosine, jaccard, qgram\n",
    "# stringdist_obj = strsimpy.Cosine(string_dist_arg)\n",
    "# # stringdist_obj = strsimpy.Cosine(3)\n",
    "# # stringdist_obj = strsimpy.Jaccard(3)\n",
    "# # stringdist_obj = strsimpy.QGram(3)\n",
    "\n",
    "# print(stringdist_obj.distance(a.strip().lower(), b.strip().lower()))"
   ]
  },
  {
   "cell_type": "code",
   "execution_count": null,
   "id": "9dc04ae7",
   "metadata": {},
   "outputs": [],
   "source": [
    "scoped_mapping.rewrite_yaml(my_model, my_selected_enum, my_best_acceptable)\n",
    "yaml.safe_dump(my_model, sys.stdout, default_flow_style=False)"
   ]
  }
 ],
 "metadata": {
  "kernelspec": {
   "display_name": "Python 3",
   "language": "python",
   "name": "python3"
  },
  "language_info": {
   "codemirror_mode": {
    "name": "ipython",
    "version": 3
   },
   "file_extension": ".py",
   "mimetype": "text/x-python",
   "name": "python",
   "nbconvert_exporter": "python",
   "pygments_lexer": "ipython3",
   "version": "3.9.5"
  }
 },
 "nbformat": 4,
 "nbformat_minor": 5
}
