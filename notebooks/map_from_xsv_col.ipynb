{
 "cells": [
  {
   "cell_type": "code",
   "execution_count": null,
   "id": "482189a3",
   "metadata": {},
   "outputs": [],
   "source": [
    "import pandas as pd\n",
    "import os\n",
    "import scoped_mapping\n",
    "import numpy as np\n"
   ]
  },
  {
   "cell_type": "code",
   "execution_count": null,
   "id": "389bd7fd",
   "metadata": {},
   "outputs": [],
   "source": [
    "# os.getcwd()"
   ]
  },
  {
   "cell_type": "markdown",
   "id": "cd4dc173",
   "metadata": {},
   "source": [
    "## _Add Postgres example_"
   ]
  },
  {
   "cell_type": "code",
   "execution_count": null,
   "id": "31418284",
   "metadata": {},
   "outputs": [],
   "source": [
    "# add a sample file \n",
    "data_file = '../local/data/xxx.tsv'\n",
    "delimiter = '\\t'\n",
    "column_name = 'species'\n",
    "my_replacement_chars = '._-'\n",
    "my_ontoprefix='ncbitaxon'\n",
    "my_query_fields=''\n",
    "my_row_request=3\n",
    "my_string_dist_arg=2\n",
    "my_max_string_dist = 0.1"
   ]
  },
  {
   "cell_type": "code",
   "execution_count": null,
   "id": "63b8a6c7",
   "metadata": {},
   "outputs": [],
   "source": [
    "data_frame = pd.read_csv(data_file, sep='\\t')\n",
    "data_frame"
   ]
  },
  {
   "cell_type": "code",
   "execution_count": null,
   "id": "1033bc30",
   "metadata": {},
   "outputs": [],
   "source": [
    "data_list = data_frame[column_name]\n",
    "null_flag = data_list.isnull()\n",
    "null_flag.value_counts()\n",
    "no_nans = data_list[~null_flag]\n",
    "no_nans = list(set(list(no_nans)))\n",
    "no_nans.sort()\n",
    "# no_nans\n"
   ]
  },
  {
   "cell_type": "code",
   "execution_count": null,
   "id": "b123fa6b",
   "metadata": {},
   "outputs": [],
   "source": [
    "## illustrates normalizastion and search space reducation\n",
    "## but all of that is embedded in scoped_mapping.search_get_annotations_wrapper\n",
    "\n",
    "# whiteout_frame = scoped_mapping.get_whiteout_frame(no_nans, replaced_chars=my_replacement_chars)\n",
    "# whiteout_frame\n",
    "# whiteout_list = scoped_mapping.get_wo_list(whiteout_frame)\n",
    "# whiteout_list"
   ]
  },
  {
   "cell_type": "code",
   "execution_count": null,
   "id": "9418e8ce",
   "metadata": {},
   "outputs": [],
   "source": [
    "# about 1 second per unique submission\n",
    "mappings = scoped_mapping.search_get_annotations_wrapper(no_nans,\n",
    "                                                         bad_chars=my_replacement_chars,\n",
    "                                                         cat_name=column_name,\n",
    "                                                         ontoprefix=my_ontoprefix,\n",
    "                                                         query_fields=my_query_fields,\n",
    "                                                         rr=my_row_request,\n",
    "                                                         string_dist_arg=my_string_dist_arg)\n",
    "mappings"
   ]
  },
  {
   "cell_type": "code",
   "execution_count": null,
   "id": "946426e8",
   "metadata": {},
   "outputs": [],
   "source": [
    "my_best_acceptable = scoped_mapping.get_best_acceptable(mappings, max_string_dist=my_max_string_dist)\n",
    "my_best_acceptable"
   ]
  },
  {
   "cell_type": "code",
   "execution_count": null,
   "id": "2f1f0153",
   "metadata": {},
   "outputs": [],
   "source": [
    "no_acceptable_mappings = scoped_mapping.get_no_acceptable_mappings(mappings, my_best_acceptable)\n",
    "no_acceptable_mappings"
   ]
  },
  {
   "cell_type": "code",
   "execution_count": null,
   "id": "58e7fdb2",
   "metadata": {},
   "outputs": [],
   "source": []
  }
 ],
 "metadata": {
  "kernelspec": {
   "display_name": "Python 3",
   "language": "python",
   "name": "python3"
  },
  "language_info": {
   "codemirror_mode": {
    "name": "ipython",
    "version": 3
   },
   "file_extension": ".py",
   "mimetype": "text/x-python",
   "name": "python",
   "nbconvert_exporter": "python",
   "pygments_lexer": "ipython3",
   "version": "3.9.5"
  }
 },
 "nbformat": 4,
 "nbformat_minor": 5
}
