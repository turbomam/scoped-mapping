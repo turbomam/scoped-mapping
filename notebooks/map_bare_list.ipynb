{
 "cells": [
  {
   "cell_type": "code",
   "execution_count": null,
   "id": "dd915ee3",
   "metadata": {},
   "outputs": [],
   "source": [
    "import scoped_mapping\n",
    "inputs = ['Homo-sapiens', 'mus    musculus', 'rattus norvegicus']\n",
    "searchres_annotations = scoped_mapping.search_get_annotations_wrapper(inputs,\n",
    "                                                                      bad_chars='._-',\n",
    "                                                                      cat_name='test', \n",
    "                                                                      ontoprefix='ncbitaxon',\n",
    "                                                                      query_fields='label',\n",
    "                                                                      rr=3)\n",
    "\n",
    "\n",
    "searchres_annotations"
   ]
  },
  {
   "cell_type": "code",
   "execution_count": null,
   "id": "292e79a8",
   "metadata": {},
   "outputs": [],
   "source": []
  }
 ],
 "metadata": {
  "kernelspec": {
   "display_name": "Python 3",
   "language": "python",
   "name": "python3"
  },
  "language_info": {
   "codemirror_mode": {
    "name": "ipython",
    "version": 3
   },
   "file_extension": ".py",
   "mimetype": "text/x-python",
   "name": "python",
   "nbconvert_exporter": "python",
   "pygments_lexer": "ipython3",
   "version": "3.9.5"
  }
 },
 "nbformat": 4,
 "nbformat_minor": 5
}
