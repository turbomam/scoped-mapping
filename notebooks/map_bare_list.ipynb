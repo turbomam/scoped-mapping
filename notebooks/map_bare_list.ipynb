{
 "cells": [
  {
   "cell_type": "code",
   "execution_count": 1,
   "id": "dd915ee3",
   "metadata": {},
   "outputs": [
    {
     "name": "stdout",
     "output_type": "stream",
     "text": [
      "   category                raw              query  \\\n",
      "0      test       Homo-sapiens       homo sapiens   \n",
      "25     test       Homo-sapiens       homo sapiens   \n",
      "19     test       Homo-sapiens       homo sapiens   \n",
      "26     test       Homo-sapiens       homo sapiens   \n",
      "21     test       Homo-sapiens       homo sapiens   \n",
      "..      ...                ...                ...   \n",
      "57     test  rattus norvegicus  rattus norvegicus   \n",
      "54     test  rattus norvegicus  rattus norvegicus   \n",
      "59     test  rattus norvegicus  rattus norvegicus   \n",
      "53     test  rattus norvegicus  rattus norvegicus   \n",
      "58     test  rattus norvegicus  rattus norvegicus   \n",
      "\n",
      "                            name  cosine_rank cosine_dist            obo_id  \\\n",
      "0                   Homo sapiens            1       0.000    NCBITaxon:9606   \n",
      "25    Homo sapiens ssp. Denisova            2       0.060  NCBITaxon:741158   \n",
      "19    Homo sapiens ssp. Denisova            3       0.060  NCBITaxon:741158   \n",
      "26  Homo sapiens ssp. 'Denisova'            4       0.087  NCBITaxon:741158   \n",
      "21  Homo sapiens ssp. 'Denisova'            5       0.087  NCBITaxon:741158   \n",
      "..                           ...          ...         ...               ...   \n",
      "57                     brown rat            9       0.397   NCBITaxon:10116   \n",
      "54                    Norway rat           10       0.412   NCBITaxon:10116   \n",
      "59                    Norway rat           11       0.412   NCBITaxon:10116   \n",
      "53                           rat           12       0.423   NCBITaxon:10116   \n",
      "58                           rat           13       0.423   NCBITaxon:10116   \n",
      "\n",
      "                             label  search_rank ontology_prefix  \\\n",
      "0                     Homo sapiens            1       NCBITAXON   \n",
      "25  Homo sapiens subsp. 'Denisova'            4       NCBITAXON   \n",
      "19  Homo sapiens subsp. 'Denisova'            4       NCBITAXON   \n",
      "26  Homo sapiens subsp. 'Denisova'            4       NCBITAXON   \n",
      "21  Homo sapiens subsp. 'Denisova'            4       NCBITAXON   \n",
      "..                             ...          ...             ...   \n",
      "57               Rattus norvegicus            1       NCBITAXON   \n",
      "54               Rattus norvegicus            1       NCBITAXON   \n",
      "59               Rattus norvegicus            1       NCBITAXON   \n",
      "53               Rattus norvegicus            1       NCBITAXON   \n",
      "58               Rattus norvegicus            1       NCBITAXON   \n",
      "\n",
      "                scope                 type  \\\n",
      "0               label                label   \n",
      "25  has_exact_synonym           annotation   \n",
      "19    hasExactSynonym      equivalent name   \n",
      "26  has_exact_synonym           annotation   \n",
      "21    hasExactSynonym      equivalent name   \n",
      "..                ...                  ...   \n",
      "57  has_exact_synonym           annotation   \n",
      "54    hasExactSynonym  genbank common name   \n",
      "59  has_exact_synonym           annotation   \n",
      "53    hasExactSynonym          common name   \n",
      "58  has_exact_synonym           annotation   \n",
      "\n",
      "                                                iri ontology_name  \n",
      "0     http://purl.obolibrary.org/obo/NCBITaxon_9606     ncbitaxon  \n",
      "25  http://purl.obolibrary.org/obo/NCBITaxon_741158     ncbitaxon  \n",
      "19  http://purl.obolibrary.org/obo/NCBITaxon_741158     ncbitaxon  \n",
      "26  http://purl.obolibrary.org/obo/NCBITaxon_741158     ncbitaxon  \n",
      "21  http://purl.obolibrary.org/obo/NCBITaxon_741158     ncbitaxon  \n",
      "..                                              ...           ...  \n",
      "57   http://purl.obolibrary.org/obo/NCBITaxon_10116     ncbitaxon  \n",
      "54   http://purl.obolibrary.org/obo/NCBITaxon_10116     ncbitaxon  \n",
      "59   http://purl.obolibrary.org/obo/NCBITaxon_10116     ncbitaxon  \n",
      "53   http://purl.obolibrary.org/obo/NCBITaxon_10116     ncbitaxon  \n",
      "58   http://purl.obolibrary.org/obo/NCBITaxon_10116     ncbitaxon  \n",
      "\n",
      "[65 rows x 14 columns]\n"
     ]
    }
   ],
   "source": [
    "import scoped_mapping\n",
    "searchres_annotations = scoped_mapping.search_get_annotations_wrapper(\n",
    "    ['Homo-sapiens', 'mus    musculus', 'rattus norvegicus'],\n",
    "    bad_chars='._-', cat_name='test',  ontoprefix='ncbitaxon', query_fields='label')\n",
    "print(searchres_annotations)"
   ]
  }
 ],
 "metadata": {
  "kernelspec": {
   "display_name": "Python 3",
   "language": "python",
   "name": "python3"
  },
  "language_info": {
   "codemirror_mode": {
    "name": "ipython",
    "version": 3
   },
   "file_extension": ".py",
   "mimetype": "text/x-python",
   "name": "python",
   "nbconvert_exporter": "python",
   "pygments_lexer": "ipython3",
   "version": "3.9.5"
  }
 },
 "nbformat": 4,
 "nbformat_minor": 5
}
